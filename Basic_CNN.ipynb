{
  "cells": [
    {
      "cell_type": "markdown",
      "metadata": {
        "id": "view-in-github",
        "colab_type": "text"
      },
      "source": [
        "<a href=\"https://colab.research.google.com/github/slowvak/AI-Deep-Learning-Lab/blob/master/Basic_CNN.ipynb\" target=\"_parent\"><img src=\"https://colab.research.google.com/assets/colab-badge.svg\" alt=\"Open In Colab\"/></a>"
      ]
    },
    {
      "cell_type": "markdown",
      "metadata": {
        "id": "OxkeagcrJPrH"
      },
      "source": [
        "## Building a simple 2 class classifier for medical images\n",
        "\n",
        "Here we build a simple deep learning model with little description of what is going on. The main purpose is to give you a sense of what is possible AND that YOU CAN DO THIS!"
      ]
    },
    {
      "cell_type": "markdown",
      "metadata": {
        "id": "Du_XolBHxV3G"
      },
      "source": [
        "### Preparing the notebook\n",
        "\n",
        "\n",
        "OK, let's begin by setting the environment for this notebook by installing MONAI."
      ]
    },
    {
      "cell_type": "code",
      "execution_count": 1,
      "metadata": {
        "colab": {
          "base_uri": "https://localhost:8080/"
        },
        "id": "XNE2VBoadB4J",
        "outputId": "693f5bfd-886a-4341-f34f-51ee1c6bb8cc"
      },
      "outputs": [
        {
          "output_type": "stream",
          "name": "stdout",
          "text": [
            "Looking in indexes: https://pypi.org/simple, https://us-python.pkg.dev/colab-wheels/public/simple/\n",
            "Collecting monai\n",
            "  Downloading monai-1.1.0-202212191849-py3-none-any.whl (1.2 MB)\n",
            "\u001b[2K     \u001b[90m━━━━━━━━━━━━━━━━━━━━━━━━━━━━━━━━━━━━━━━━\u001b[0m \u001b[32m1.2/1.2 MB\u001b[0m \u001b[31m22.8 MB/s\u001b[0m eta \u001b[36m0:00:00\u001b[0m\n",
            "\u001b[?25hRequirement already satisfied: torch>=1.8 in /usr/local/lib/python3.8/dist-packages (from monai) (1.13.1+cu116)\n",
            "Requirement already satisfied: numpy>=1.17 in /usr/local/lib/python3.8/dist-packages (from monai) (1.21.6)\n",
            "Requirement already satisfied: typing-extensions in /usr/local/lib/python3.8/dist-packages (from torch>=1.8->monai) (4.4.0)\n",
            "Installing collected packages: monai\n",
            "Successfully installed monai-1.1.0\n"
          ]
        }
      ],
      "source": [
        "# Cell 1\n",
        "# Installing required libraries\n",
        "!pip install monai"
      ]
    },
    {
      "cell_type": "code",
      "execution_count": 2,
      "metadata": {
        "id": "mETSBV2-EGSz"
      },
      "outputs": [],
      "source": [
        "# Cell 2\n",
        "# Import the required python types for type hinting\n",
        "# Turn off the notebook warnings\n",
        "\n",
        "from typing import List, Tuple, Dict, Union, Callable, Iterable\n",
        "import warnings\n",
        "\n",
        "warnings.filterwarnings(\"ignore\")"
      ]
    },
    {
      "cell_type": "markdown",
      "metadata": {
        "id": "BnUTpIPsTtiF"
      },
      "source": [
        "Next, we write a basic wrapper to make our code as deterministic as possible. As you probably know, deterministic programming will make most of our code generate the same outputs if it is run multiple times. In other words, random generators in a deterministic algorithm will create the same values every time they are called (which is why they are technically 'pseudorandom'). \n",
        "\n",
        "*   For more information about deterministic programming, read [here](https://www.geeksforgeeks.org/difference-between-deterministic-and-non-deterministic-algorithms/).  \n",
        "*   For more information about wrappers in Python, read [here](https://www.geeksforgeeks.org/function-wrappers-in-python). \n",
        "\n",
        "If you look at the next cell, you will find steps that set up Python, PyTorch, and MONAI to work in a deterministic way. However, making an algorithm deterministic is more complicated than it seems, especially when coding in Google Colab. Google Colab is set up to assign you an actual graphic processing unit (GPU) every time you start a new session. Unfortunately, there is currently no way to make this assignment deterministic to the best of our knowledge. If hardware like the GPU is changed (particularly to a different type of GPU), results may be different, even if you use wrappers like what have here.\n"
      ]
    },
    {
      "cell_type": "code",
      "execution_count": 3,
      "metadata": {
        "id": "1KPZtgXmG8A7"
      },
      "outputs": [],
      "source": [
        "# Cell 3\n",
        "\n",
        "import torch\n",
        "import os\n",
        "import numpy as np\n",
        "import monai\n",
        "import random\n",
        "from functools import wraps\n"
      ]
    },
    {
      "cell_type": "markdown",
      "metadata": {
        "id": "Y4j-evwaWarU"
      },
      "source": [
        "Next, let's check if a GPU is assigned to our session. Before running the following cell, make sure your Colab runtime is set to GPU. To do so, click on Runtime -> Change runtime type, and select GPU for the hardware accelerator.  "
      ]
    },
    {
      "cell_type": "markdown",
      "metadata": {
        "id": "64N1yDtSygXq"
      },
      "source": [
        "---\n",
        "\n",
        ">\n",
        "**Question**: Why do we need to connect to a GPU? The answer is that training deep learning models often involves running processes that are highly computational-dependent. Running these processes on central processing units (CPUs) one after the other will take a lot of time. However, GPUs can run the deep learning computations in parallel, significantly reducing the time needed for training. \n",
        "\n",
        "---"
      ]
    },
    {
      "cell_type": "code",
      "execution_count": 4,
      "metadata": {
        "colab": {
          "base_uri": "https://localhost:8080/"
        },
        "id": "0fZ2UHJTHzTn",
        "outputId": "fce00adf-e246-4c77-fb3f-ad5e6fe3d55c"
      },
      "outputs": [
        {
          "output_type": "stream",
          "name": "stdout",
          "text": [
            "name, driver_version, memory.total [MiB]\n",
            "Tesla T4, 460.32.03, 15109 MiB\n"
          ]
        }
      ],
      "source": [
        "# Cell 4\n",
        "\n",
        "# Selecting the processor device. Make sure your colab runtype is set to GPU.\n",
        "device = torch.device(\"cuda\" if torch.cuda.is_available() else \"cpu\")\n",
        "\n",
        "# Checking the GPU device\n",
        "!nvidia-smi --query-gpu=gpu_name,driver_version,memory.total --format=csv"
      ]
    },
    {
      "cell_type": "markdown",
      "metadata": {
        "id": "GLI8lbr3zDxJ"
      },
      "source": [
        "### Data collection\n",
        "\n",
        "Now that the environment is ready, we need to download some data to work on. For this chapter and the next one, we will work with a public Chest X-Ray (CXR) dataset that contains images for normal and pneumonia patients. The original dataset is found [here](https://data.mendeley.com/public-files/datasets/rscbjbr9sj/files/f12eaf6d-6023-432f-acc9-80c9d7393433/file_downloaded), but we already moved that data to a Google Drive location to speed up the download process. That is the source from where you will download the data in the following cell."
      ]
    },
    {
      "cell_type": "code",
      "execution_count": 5,
      "metadata": {
        "id": "LMvjnjnCTxd2",
        "outputId": "7d699c51-269e-4022-91ee-713cd3947959",
        "colab": {
          "base_uri": "https://localhost:8080/"
        }
      },
      "outputs": [
        {
          "output_type": "stream",
          "name": "stderr",
          "text": [
            "Downloading...\n",
            "From: https://docs.google.com/uc?export=download&id=1mqgBKTB0MtGf8Fhc8HaedJyiD8yMoXOh\n",
            "To: /content/MedNIST.zip\n",
            "100%|██████████| 2.02M/2.02M [00:00<00:00, 151MB/s]\n"
          ]
        }
      ],
      "source": [
        "# Cell 5\n",
        "\n",
        "!rm -rf ./sample_data/\n",
        "import gdown\n",
        "\n",
        "# only download if not there (for restarts)\n",
        "if not os.path.exists(\"./CTHead\"):\n",
        "    gdown.download(\n",
        "        \"https://docs.google.com/uc?export=download&id=1mqgBKTB0MtGf8Fhc8HaedJyiD8yMoXOh\",\n",
        "        \"MedNIST.zip\",\n",
        "        quiet=False,\n",
        "    )\n",
        "    !unzip -q MedNIST.zip\n",
        "\n",
        "    os.remove(\"MedNIST.zip\")\n",
        "\n"
      ]
    },
    {
      "cell_type": "markdown",
      "metadata": {
        "id": "msfHz9k50zpA"
      },
      "source": [
        "The above cell will download the data and put it in the disk space Google Colab provided for our notebook. Feel free to click on the \"Files\" icon on the left side of the screen and take a look at the downloaded files. These files were downloaded as a zipped folder, unzipped, and stores as CTHead or MRBrain.\n",
        "\n"
      ]
    },
    {
      "cell_type": "markdown",
      "metadata": {
        "id": "mBVHrpq14ioy"
      },
      "source": [
        "Now we can collect the paths to images available in this downloaded dataset. Unfortunately, the original folder has all the images of a type together, so we will just split those that have '9.jpg' in the name as the test set and all others as TRAIN. That gets us a 90-10 split. "
      ]
    },
    {
      "cell_type": "code",
      "execution_count": 6,
      "metadata": {
        "colab": {
          "base_uri": "https://localhost:8080/"
        },
        "id": "2ibWSg1yufyj",
        "outputId": "90ffab97-3bf1-4f9b-ef9d-949691572845"
      },
      "outputs": [
        {
          "output_type": "stream",
          "name": "stdout",
          "text": [
            "Number of images in the training set: 540 --> MRBrain: 270 - CTHead: 270\n",
            "Number of images in the test set: 60 --> MRBrain: 30 - CTHead: 30\n"
          ]
        }
      ],
      "source": [
        "# Cell 6\n",
        "\n",
        "# Collecting all image paths, along with their associated labels and sets\n",
        "\n",
        "\n",
        "def collect_imageinfo_list(images_dirpath: str) -> List:\n",
        "    \"\"\"\n",
        "    Return a list of information tuples for all images, where each information\n",
        "    tuple includes the associated path, label, and set for each image.\n",
        "    Parameters:\n",
        "      - images_dirpath (str): Path to the directory including all images.\n",
        "      - imageinfo_list (List): a list of (file_path, file_label, file_set)\n",
        "      for each image file.\n",
        "    \"\"\"\n",
        "    imageinfo_list = list()\n",
        "    for root, dirs, files in os.walk(images_dirpath):\n",
        "        for file in files:\n",
        "            file_path = os.path.join(root, file)\n",
        "            dir_path = os.path.dirname(file_path)\n",
        "            if 'CTHead' in dir_path or 'MRBrain' in dir_path:  # for now, exclude other images\n",
        "                if file.lower().endswith(\".jpeg\") or file.lower().endswith(\".jpg\"):\n",
        "#                    dir_path = os.path.dirname(file_path)\n",
        "    #                file_label = dir_path.split(\"/\")[-1]\n",
        "                    file_set = \"TEST\" if \"9.jpg\" in file else \"TRAIN\"  # simple way to get 10% as test\n",
        "                    file_label = \"CTHead\" if \"CTHead\" in dir_path else \"MRBrain\"\n",
        "                    imageinfo_list.append((file_path, file_label, file_set))\n",
        "    return imageinfo_list\n",
        "\n",
        "\n",
        "imageinfo_list = collect_imageinfo_list(\".\")  # we are working from the current directory\n",
        "\n",
        "train_imageinfo_list = [\n",
        "    imageinfo for imageinfo in imageinfo_list if imageinfo[2] == \"TRAIN\"\n",
        "]\n",
        "train_mrbain_count = len(\n",
        "    [imageinfo for imageinfo in train_imageinfo_list if imageinfo[1] == \"MRBrain\"]\n",
        ")\n",
        "train_ctbrain_count = len(\n",
        "    [imageinfo for imageinfo in train_imageinfo_list if imageinfo[1] == \"CTHead\"]\n",
        ")\n",
        "test_imageinfo_list = [\n",
        "    imageinfo for imageinfo in imageinfo_list if imageinfo[2] == \"TEST\"\n",
        "]\n",
        "test_mrbain_count = len(\n",
        "    [imageinfo for imageinfo in test_imageinfo_list if imageinfo[1] == \"MRBrain\"]\n",
        ")\n",
        "test_ctbrain_count = len(\n",
        "    [imageinfo for imageinfo in test_imageinfo_list if imageinfo[1] == \"CTHead\"]\n",
        ")\n",
        "\n",
        "print(\n",
        "    f\"Number of images in the training set: {len(train_imageinfo_list)} --> \\\n",
        "MRBrain: {train_mrbain_count} - CTHead: {train_ctbrain_count}\"\n",
        ")\n",
        "print(\n",
        "    f\"Number of images in the test set: {len(test_imageinfo_list)} --> \\\n",
        "MRBrain: {test_mrbain_count} - CTHead: {test_ctbrain_count}\"\n",
        ")"
      ]
    },
    {
      "cell_type": "markdown",
      "metadata": {
        "id": "Jk6tvx6NVg1f"
      },
      "source": [
        "### Data investigation\n",
        "\n",
        "It is always a good idea to look at your data before applying training, as there can often be 'surprises'. First, we can visualize some random images from the data to see how they look. The following cell will visualize nine random images and their associated labels."
      ]
    },
    {
      "cell_type": "code",
      "execution_count": 7,
      "metadata": {
        "colab": {
          "base_uri": "https://localhost:8080/",
          "height": 482
        },
        "id": "gaDiAlTZzDWD",
        "outputId": "2006620c-9475-43a2-b1f1-2365ec90dee0"
      },
      "outputs": [
        {
          "output_type": "display_data",
          "data": {
            "text/plain": [
              "<Figure size 720x576 with 9 Axes>"
            ],
            "image/png": "[encoded data removed]"
          },
          "metadata": {
            "needs_background": "light"
          }
        }
      ],
      "source": [
        "# Cell 7\n",
        "\n",
        "# Plotting sample images from the original data\n",
        "import matplotlib.pyplot as plt\n",
        "from skimage.io import imread\n",
        "\n",
        "def plot_sample_images():\n",
        "    \"\"\"\n",
        "    Plot 9 sample images from the imaging dataset, while printing their\n",
        "    associated labels and sets.\n",
        "    \"\"\"\n",
        "    fig, axes = plt.subplots(3, 3, figsize=(10, 8))\n",
        "    random_imagesinfo_items = random.choices(imageinfo_list, k=9)\n",
        "    for i, imageinfo in enumerate(random_imagesinfo_items):\n",
        "        image = imread(imageinfo[0])\n",
        "        axes[i // 3, i % 3].imshow(image, cmap=\"gray\")\n",
        "        axes[i // 3, i % 3].axis(\"off\")\n",
        "        axes[i // 3, i % 3].set_title(f\"{imageinfo[1]} - {imageinfo[2]} set\")\n",
        "    plt.show()\n",
        "\n",
        "\n",
        "plot_sample_images()"
      ]
    },
    {
      "cell_type": "markdown",
      "metadata": {
        "id": "4pmb21VXXpzc"
      },
      "source": [
        "### Building datasets and data loaders\n",
        "\n",
        "We mentioned that one must 'flow' the data through the GPU memory for each epoch. DataLoaders are one way to make that happen. There are lots of details in the next cell that we will explore later. For now, just take it on faith that this needs to be done...\n"
      ]
    },
    {
      "cell_type": "code",
      "execution_count": 8,
      "metadata": {
        "id": "L2JWteiba1Qr"
      },
      "outputs": [],
      "source": [
        "# Cell 8\n",
        "\n",
        "# Building datasets and dataloaders using MONAI\n",
        "\n",
        "from monai.transforms import (\n",
        "    LoadImageD,\n",
        "    EnsureChannelFirstD,\n",
        "    ResizeD,\n",
        "    Compose,\n",
        "    NormalizeIntensityD,\n",
        "    RandRotateD,\n",
        "    RandZoomD,\n",
        "    AddChannelD,\n",
        "    LambdaD,\n",
        "    ToTensorD,\n",
        "    RepeatChannelD,\n",
        "    Rotate90d,\n",
        "    SelectItemsd,\n",
        ")\n",
        "from monai.data import Dataset\n",
        "from torch.utils.data import DataLoader\n",
        "\n",
        "\n",
        "def build_dataloaders(\n",
        "    train_imageinfo_list: List = train_imageinfo_list,\n",
        "    test_imageinfo_list: List = test_imageinfo_list,\n",
        "    image_size: int = 224,\n",
        "    augment_train_data: bool = False,\n",
        "    fct_to_train: float = 1.0,\n",
        "    fct_to_valid: float = 0.5,\n",
        ") -> DataLoader:\n",
        "\n",
        "    def worker_init_fn(worker_id):\n",
        "        np.random.seed(np.random.get_state()[1][0] + worker_id)\n",
        "\n",
        "    label_dict = {\"MRBrain\": 1, \"CTHead\": 0}\n",
        "    train_data_list = [\n",
        "        {\"image\": imageinfo[0], \"label\": label_dict[imageinfo[1]]}\n",
        "        for imageinfo in train_imageinfo_list\n",
        "    ]\n",
        "    test_data_list = [\n",
        "        {\"image\": imageinfo[0], \"label\": label_dict[imageinfo[1]]}\n",
        "        for imageinfo in test_imageinfo_list\n",
        "    ]\n",
        "\n",
        "    # Shuffling the data before fractioning it\n",
        "    # Note: We assume that each datapoint in the test_data_list belongs to\n",
        "    # a seprate patient.\n",
        "    random.shuffle(train_data_list)\n",
        "    random.shuffle(test_data_list)\n",
        "\n",
        "    # Using fractions of data\n",
        "    P_train_list = [x for x in train_data_list if x[\"label\"] == 1]\n",
        "    N_train_list = [x for x in train_data_list if x[\"label\"] == 0]\n",
        "    P_test_list = [x for x in test_data_list if x[\"label\"] == 1]\n",
        "    N_test_list = [x for x in test_data_list if x[\"label\"] == 0]\n",
        "    touse_train_data = (\n",
        "        P_train_list[: int(len(P_train_list) * fct_to_train)]\n",
        "        + N_train_list[: int(len(N_train_list) * fct_to_train)]\n",
        "    )\n",
        "    touse_valid_data = (\n",
        "        P_test_list[: int(len(P_test_list) * fct_to_valid)]\n",
        "        + N_test_list[: int(len(N_test_list) * fct_to_valid)]\n",
        "    )\n",
        "    touse_test_data = [x for x in test_data_list if x not in touse_valid_data]\n",
        "\n",
        "    # Building MONAI transforms\n",
        "    Aug_transforms = Compose(\n",
        "        [\n",
        "            LoadImageD(keys=\"image\"),\n",
        "            EnsureChannelFirstD(keys=\"image\"),\n",
        "            LambdaD(keys=\"image\", func=lambda x: x[0, :, :] if x.ndim == 3 else x),\n",
        "            AddChannelD(keys=\"image\"),\n",
        "            ResizeD(keys=\"image\", spatial_size=(image_size, image_size)),\n",
        "            NormalizeIntensityD(keys=\"image\"),\n",
        "            RandRotateD(keys=\"image\", mode=\"bilinear\", range_x=0.26, prob=0.5),\n",
        "            RandZoomD(keys=\"image\", mode=\"bilinear\"),\n",
        "            Rotate90d(keys=\"image\", k=3, spatial_axes=(0, 1)),\n",
        "            ToTensorD(keys=[\"image\", \"label\"]),\n",
        "            RepeatChannelD(keys=\"image\", repeats=3),\n",
        "            SelectItemsd(keys=[\"image\", \"label\"]),\n",
        "        ]\n",
        "    )\n",
        "    NoAug_transforms = Compose(\n",
        "        [\n",
        "            LoadImageD(keys=\"image\"),\n",
        "            EnsureChannelFirstD(keys=\"image\"),\n",
        "            LambdaD(keys=\"image\", func=lambda x: x[0, :, :] if x.ndim == 3 else x),\n",
        "            AddChannelD(keys=\"image\"),\n",
        "            ResizeD(keys=\"image\", spatial_size=(image_size, image_size)),\n",
        "            NormalizeIntensityD(keys=\"image\"),\n",
        "            Rotate90d(keys=\"image\", k=3, spatial_axes=(0, 1)),\n",
        "            ToTensorD(keys=[\"image\", \"label\"]),\n",
        "            RepeatChannelD(keys=\"image\", repeats=3),\n",
        "            SelectItemsd(keys=[\"image\", \"label\"]),\n",
        "        ]\n",
        "    )\n",
        "\n",
        "    # Building MONAI datasets\n",
        "    if augment_train_data:\n",
        "        train_dataset = Dataset(touse_train_data, transform=Aug_transforms)\n",
        "    else:\n",
        "        train_dataset = Dataset(touse_train_data, transform=NoAug_transforms)\n",
        "    valid_dataset = Dataset(touse_valid_data, transform=NoAug_transforms)\n",
        "    test_dataset = Dataset(touse_test_data, transform=NoAug_transforms)\n",
        "\n",
        "    # Building MONAI dataloaders\n",
        "    train_loader = DataLoader(\n",
        "        train_dataset,\n",
        "        batch_size=8,\n",
        "        shuffle=True,\n",
        "        num_workers=1,\n",
        "        worker_init_fn=worker_init_fn,\n",
        "    )\n",
        "    valid_loader = DataLoader(\n",
        "        valid_dataset,\n",
        "        batch_size=8,\n",
        "        shuffle=False,\n",
        "        num_workers=1,\n",
        "        worker_init_fn=worker_init_fn,\n",
        "    )\n",
        "    test_loader = DataLoader(\n",
        "        test_dataset,\n",
        "        batch_size=8,\n",
        "        shuffle=False,\n",
        "        num_workers=1,\n",
        "        worker_init_fn=worker_init_fn,\n",
        "    )\n",
        "    return train_loader, valid_loader, test_loader\n",
        "\n",
        "\n",
        "# Testing the shape and dtype for a sample batche from the training dataloader:\n",
        "\n",
        "train_loader, valid_loader, test_loader = build_dataloaders()\n",
        "sample_batch = next(iter((train_loader)))\n"
      ]
    },
    {
      "cell_type": "markdown",
      "metadata": {
        "id": "IQJ7MaPDvCW3"
      },
      "source": [
        "The above cell prints out the shape, dtype (data type) and labels of the images coming out of our data loaders. We can also proceed and visualize some examples of these images to ensure that we haven't messed them up:"
      ]
    },
    {
      "cell_type": "code",
      "execution_count": 20,
      "metadata": {
        "colab": {
          "base_uri": "https://localhost:8080/",
          "height": 353
        },
        "id": "84lx39aLa3Ov",
        "outputId": "bfd66564-6078-4c88-a0e4-99604a31afa2"
      },
      "outputs": [
        {
          "output_type": "error",
          "ename": "RuntimeError",
          "evalue": "ignored",
          "traceback": [
            "\u001b[0;31m---------------------------------------------------------------------------\u001b[0m",
            "\u001b[0;31mRuntimeError\u001b[0m                              Traceback (most recent call last)",
            "\u001b[0;32m<ipython-input-20-e02a2e895a1c>\u001b[0m in \u001b[0;36m<module>\u001b[0;34m\u001b[0m\n\u001b[1;32m     30\u001b[0m \u001b[0mmodel\u001b[0m \u001b[0;34m=\u001b[0m \u001b[0mNeuralNet\u001b[0m\u001b[0;34m(\u001b[0m\u001b[0;34m)\u001b[0m\u001b[0;34m.\u001b[0m\u001b[0mto\u001b[0m\u001b[0;34m(\u001b[0m\u001b[0mdevice\u001b[0m\u001b[0;34m)\u001b[0m\u001b[0;34m\u001b[0m\u001b[0;34m\u001b[0m\u001b[0m\n\u001b[1;32m     31\u001b[0m \u001b[0;34m\u001b[0m\u001b[0m\n\u001b[0;32m---> 32\u001b[0;31m \u001b[0msummary\u001b[0m\u001b[0;34m(\u001b[0m\u001b[0mmodel\u001b[0m\u001b[0;34m,\u001b[0m \u001b[0minput_size\u001b[0m\u001b[0;34m=\u001b[0m\u001b[0;34m(\u001b[0m\u001b[0;36m3\u001b[0m\u001b[0;34m,\u001b[0m \u001b[0;36m224\u001b[0m\u001b[0;34m,\u001b[0m \u001b[0;36m224\u001b[0m\u001b[0;34m)\u001b[0m\u001b[0;34m)\u001b[0m\u001b[0;34m\u001b[0m\u001b[0;34m\u001b[0m\u001b[0m\n\u001b[0m",
            "\u001b[0;32m/usr/local/lib/python3.8/dist-packages/torchsummary/torchsummary.py\u001b[0m in \u001b[0;36msummary\u001b[0;34m(model, input_size, batch_size, device)\u001b[0m\n\u001b[1;32m     70\u001b[0m     \u001b[0;31m# make a forward pass\u001b[0m\u001b[0;34m\u001b[0m\u001b[0;34m\u001b[0m\u001b[0;34m\u001b[0m\u001b[0m\n\u001b[1;32m     71\u001b[0m     \u001b[0;31m# print(x.shape)\u001b[0m\u001b[0;34m\u001b[0m\u001b[0;34m\u001b[0m\u001b[0;34m\u001b[0m\u001b[0m\n\u001b[0;32m---> 72\u001b[0;31m     \u001b[0mmodel\u001b[0m\u001b[0;34m(\u001b[0m\u001b[0;34m*\u001b[0m\u001b[0mx\u001b[0m\u001b[0;34m)\u001b[0m\u001b[0;34m\u001b[0m\u001b[0;34m\u001b[0m\u001b[0m\n\u001b[0m\u001b[1;32m     73\u001b[0m \u001b[0;34m\u001b[0m\u001b[0m\n\u001b[1;32m     74\u001b[0m     \u001b[0;31m# remove these hooks\u001b[0m\u001b[0;34m\u001b[0m\u001b[0;34m\u001b[0m\u001b[0;34m\u001b[0m\u001b[0m\n",
            "\u001b[0;32m/usr/local/lib/python3.8/dist-packages/torch/nn/modules/module.py\u001b[0m in \u001b[0;36m_call_impl\u001b[0;34m(self, *input, **kwargs)\u001b[0m\n\u001b[1;32m   1192\u001b[0m         if not (self._backward_hooks or self._forward_hooks or self._forward_pre_hooks or _global_backward_hooks\n\u001b[1;32m   1193\u001b[0m                 or _global_forward_hooks or _global_forward_pre_hooks):\n\u001b[0;32m-> 1194\u001b[0;31m             \u001b[0;32mreturn\u001b[0m \u001b[0mforward_call\u001b[0m\u001b[0;34m(\u001b[0m\u001b[0;34m*\u001b[0m\u001b[0minput\u001b[0m\u001b[0;34m,\u001b[0m \u001b[0;34m**\u001b[0m\u001b[0mkwargs\u001b[0m\u001b[0;34m)\u001b[0m\u001b[0;34m\u001b[0m\u001b[0;34m\u001b[0m\u001b[0m\n\u001b[0m\u001b[1;32m   1195\u001b[0m         \u001b[0;31m# Do not call functions when jit is used\u001b[0m\u001b[0;34m\u001b[0m\u001b[0;34m\u001b[0m\u001b[0;34m\u001b[0m\u001b[0m\n\u001b[1;32m   1196\u001b[0m         \u001b[0mfull_backward_hooks\u001b[0m\u001b[0;34m,\u001b[0m \u001b[0mnon_full_backward_hooks\u001b[0m \u001b[0;34m=\u001b[0m \u001b[0;34m[\u001b[0m\u001b[0;34m]\u001b[0m\u001b[0;34m,\u001b[0m \u001b[0;34m[\u001b[0m\u001b[0;34m]\u001b[0m\u001b[0;34m\u001b[0m\u001b[0;34m\u001b[0m\u001b[0m\n",
            "\u001b[0;32m<ipython-input-20-e02a2e895a1c>\u001b[0m in \u001b[0;36mforward\u001b[0;34m(self, x)\u001b[0m\n\u001b[1;32m     21\u001b[0m         \u001b[0mx\u001b[0m\u001b[0;34m=\u001b[0m\u001b[0mF\u001b[0m\u001b[0;34m.\u001b[0m\u001b[0mmax_pool2d\u001b[0m\u001b[0;34m(\u001b[0m\u001b[0mx\u001b[0m\u001b[0;34m,\u001b[0m\u001b[0;36m2\u001b[0m\u001b[0;34m)\u001b[0m\u001b[0;34m\u001b[0m\u001b[0;34m\u001b[0m\u001b[0m\n\u001b[1;32m     22\u001b[0m         \u001b[0mx\u001b[0m \u001b[0;34m=\u001b[0m \u001b[0mtorch\u001b[0m\u001b[0;34m.\u001b[0m\u001b[0mflatten\u001b[0m\u001b[0;34m(\u001b[0m\u001b[0mx\u001b[0m\u001b[0;34m,\u001b[0m \u001b[0;36m1\u001b[0m\u001b[0;34m)\u001b[0m\u001b[0;34m\u001b[0m\u001b[0;34m\u001b[0m\u001b[0m\n\u001b[0;32m---> 23\u001b[0;31m         \u001b[0mx\u001b[0m \u001b[0;34m=\u001b[0m \u001b[0mself\u001b[0m\u001b[0;34m.\u001b[0m\u001b[0mfc1\u001b[0m\u001b[0;34m(\u001b[0m\u001b[0mx\u001b[0m\u001b[0;34m)\u001b[0m\u001b[0;34m\u001b[0m\u001b[0;34m\u001b[0m\u001b[0m\n\u001b[0m\u001b[1;32m     24\u001b[0m         \u001b[0mx\u001b[0m \u001b[0;34m=\u001b[0m \u001b[0mF\u001b[0m\u001b[0;34m.\u001b[0m\u001b[0mrelu\u001b[0m\u001b[0;34m(\u001b[0m\u001b[0mx\u001b[0m\u001b[0;34m)\u001b[0m\u001b[0;34m\u001b[0m\u001b[0;34m\u001b[0m\u001b[0m\n\u001b[1;32m     25\u001b[0m         \u001b[0mx\u001b[0m \u001b[0;34m=\u001b[0m \u001b[0mself\u001b[0m\u001b[0;34m.\u001b[0m\u001b[0mfc2\u001b[0m\u001b[0;34m(\u001b[0m\u001b[0mx\u001b[0m\u001b[0;34m)\u001b[0m\u001b[0;34m\u001b[0m\u001b[0;34m\u001b[0m\u001b[0m\n",
            "\u001b[0;32m/usr/local/lib/python3.8/dist-packages/torch/nn/modules/module.py\u001b[0m in \u001b[0;36m_call_impl\u001b[0;34m(self, *input, **kwargs)\u001b[0m\n\u001b[1;32m   1210\u001b[0m             \u001b[0minput\u001b[0m \u001b[0;34m=\u001b[0m \u001b[0mbw_hook\u001b[0m\u001b[0;34m.\u001b[0m\u001b[0msetup_input_hook\u001b[0m\u001b[0;34m(\u001b[0m\u001b[0minput\u001b[0m\u001b[0;34m)\u001b[0m\u001b[0;34m\u001b[0m\u001b[0;34m\u001b[0m\u001b[0m\n\u001b[1;32m   1211\u001b[0m \u001b[0;34m\u001b[0m\u001b[0m\n\u001b[0;32m-> 1212\u001b[0;31m         \u001b[0mresult\u001b[0m \u001b[0;34m=\u001b[0m \u001b[0mforward_call\u001b[0m\u001b[0;34m(\u001b[0m\u001b[0;34m*\u001b[0m\u001b[0minput\u001b[0m\u001b[0;34m,\u001b[0m \u001b[0;34m**\u001b[0m\u001b[0mkwargs\u001b[0m\u001b[0;34m)\u001b[0m\u001b[0;34m\u001b[0m\u001b[0;34m\u001b[0m\u001b[0m\n\u001b[0m\u001b[1;32m   1213\u001b[0m         \u001b[0;32mif\u001b[0m \u001b[0m_global_forward_hooks\u001b[0m \u001b[0;32mor\u001b[0m \u001b[0mself\u001b[0m\u001b[0;34m.\u001b[0m\u001b[0m_forward_hooks\u001b[0m\u001b[0;34m:\u001b[0m\u001b[0;34m\u001b[0m\u001b[0;34m\u001b[0m\u001b[0m\n\u001b[1;32m   1214\u001b[0m             \u001b[0;32mfor\u001b[0m \u001b[0mhook\u001b[0m \u001b[0;32min\u001b[0m \u001b[0;34m(\u001b[0m\u001b[0;34m*\u001b[0m\u001b[0m_global_forward_hooks\u001b[0m\u001b[0;34m.\u001b[0m\u001b[0mvalues\u001b[0m\u001b[0;34m(\u001b[0m\u001b[0;34m)\u001b[0m\u001b[0;34m,\u001b[0m \u001b[0;34m*\u001b[0m\u001b[0mself\u001b[0m\u001b[0;34m.\u001b[0m\u001b[0m_forward_hooks\u001b[0m\u001b[0;34m.\u001b[0m\u001b[0mvalues\u001b[0m\u001b[0;34m(\u001b[0m\u001b[0;34m)\u001b[0m\u001b[0;34m)\u001b[0m\u001b[0;34m:\u001b[0m\u001b[0;34m\u001b[0m\u001b[0;34m\u001b[0m\u001b[0m\n",
            "\u001b[0;32m/usr/local/lib/python3.8/dist-packages/torch/nn/modules/linear.py\u001b[0m in \u001b[0;36mforward\u001b[0;34m(self, input)\u001b[0m\n\u001b[1;32m    112\u001b[0m \u001b[0;34m\u001b[0m\u001b[0m\n\u001b[1;32m    113\u001b[0m     \u001b[0;32mdef\u001b[0m \u001b[0mforward\u001b[0m\u001b[0;34m(\u001b[0m\u001b[0mself\u001b[0m\u001b[0;34m,\u001b[0m \u001b[0minput\u001b[0m\u001b[0;34m:\u001b[0m \u001b[0mTensor\u001b[0m\u001b[0;34m)\u001b[0m \u001b[0;34m->\u001b[0m \u001b[0mTensor\u001b[0m\u001b[0;34m:\u001b[0m\u001b[0;34m\u001b[0m\u001b[0;34m\u001b[0m\u001b[0m\n\u001b[0;32m--> 114\u001b[0;31m         \u001b[0;32mreturn\u001b[0m \u001b[0mF\u001b[0m\u001b[0;34m.\u001b[0m\u001b[0mlinear\u001b[0m\u001b[0;34m(\u001b[0m\u001b[0minput\u001b[0m\u001b[0;34m,\u001b[0m \u001b[0mself\u001b[0m\u001b[0;34m.\u001b[0m\u001b[0mweight\u001b[0m\u001b[0;34m,\u001b[0m \u001b[0mself\u001b[0m\u001b[0;34m.\u001b[0m\u001b[0mbias\u001b[0m\u001b[0;34m)\u001b[0m\u001b[0;34m\u001b[0m\u001b[0;34m\u001b[0m\u001b[0m\n\u001b[0m\u001b[1;32m    115\u001b[0m \u001b[0;34m\u001b[0m\u001b[0m\n\u001b[1;32m    116\u001b[0m     \u001b[0;32mdef\u001b[0m \u001b[0mextra_repr\u001b[0m\u001b[0;34m(\u001b[0m\u001b[0mself\u001b[0m\u001b[0;34m)\u001b[0m \u001b[0;34m->\u001b[0m \u001b[0mstr\u001b[0m\u001b[0;34m:\u001b[0m\u001b[0;34m\u001b[0m\u001b[0;34m\u001b[0m\u001b[0m\n",
            "\u001b[0;31mRuntimeError\u001b[0m: mat1 and mat2 shapes cannot be multiplied (2x774400 and 3097600x128)"
          ]
        }
      ],
      "source": [
        "# Cell 9\n",
        "import torchvision.models as models\n",
        "import torch.nn as nn\n",
        "import torch.nn.functional as F\n",
        "import shutil\n",
        "from torchsummary import summary\n",
        "\n",
        "class NeuralNet(nn.Module):\n",
        "    def __init__(self):\n",
        "        super(NeuralNet, self).__init__()\n",
        "        self.conv1 = nn.Conv2d(3,32,3,1)   # Channels, Filters, kernel size, stride\n",
        "        self.conv2 = nn.Conv2d(32,64,3,1)\n",
        "        v = 64*220*220\n",
        "        self.fc1 = nn.Linear(v, 128)\n",
        "        self.fc2 = nn.Linear(128, 2)\n",
        "    def forward(self,x):\n",
        "        x=self.conv1(x)\n",
        "        x=F.relu(x)\n",
        "        x=self.conv2(x)\n",
        "        x=F.relu(x)\n",
        "        x=F.max_pool2d(x,2)\n",
        "        x = torch.flatten(x, 1)\n",
        "        x = self.fc1(x)\n",
        "        x = F.relu(x)\n",
        "        x = self.fc2(x)\n",
        "        output = F.log_softmax(x, dim=1)\n",
        "        return output\n",
        "\n",
        "\n",
        "model = NeuralNet().to(device)\n",
        "\n",
        "summary(model, input_size=(3, 224, 224))"
      ]
    },
    {
      "cell_type": "code",
      "execution_count": null,
      "metadata": {
        "id": "CCy0IFUbJoNg"
      },
      "outputs": [],
      "source": [
        "# Cell 10\n",
        "\n",
        "# A function to evaluate a model's performance on the test_loader\n",
        "\n",
        "from tqdm.notebook import tqdm\n",
        "from sklearn.metrics import confusion_matrix\n",
        "import seaborn as sns\n",
        "\n",
        "\n",
        "def evaluate_model(\n",
        "    model: Callable, test_loader: Iterable = test_loader, plot_cm: bool = True\n",
        ") -> float:\n",
        "\n",
        "    device = torch.device(\"cuda\" if torch.cuda.is_available() else \"cpu\")\n",
        "    model.to(device)\n",
        "    model.eval()\n",
        "    labels_list = list()\n",
        "    preds_list = list()\n",
        "    with torch.no_grad():\n",
        "        for batch in tqdm(test_loader):\n",
        "            inputs, labels = batch[\"image\"].to(device), batch[\"label\"].to(device)\n",
        "            outputs = model(inputs)\n",
        "            preds = torch.argmax(torch.softmax(outputs, dim=1), dim=1)\n",
        "            labels_list.append(labels)\n",
        "            preds_list.append(preds)\n",
        "        all_labels = torch.cat(labels_list).cpu()\n",
        "        all_preds = torch.cat(preds_list).cpu()\n",
        "        accuracy = (all_preds == all_labels).sum().item() / len(all_labels)\n",
        "\n",
        "    if plot_cm:\n",
        "        cm = confusion_matrix(all_labels.numpy(), all_preds.numpy())\n",
        "        ax = plt.subplot()\n",
        "        sns.heatmap(cm, annot=True, fmt=\"g\", ax=ax)\n",
        "        ax.set_xlabel(\"Predicted labels\")\n",
        "        ax.set_ylabel(\"True labels\")\n",
        "        ax.set_title(f\"Confusion Matrix - accuracy: {accuracy:.2f}\")\n",
        "        ax.xaxis.set_ticklabels([\"MRBrain\", \"CTHead\"])\n",
        "        ax.yaxis.set_ticklabels([\"MRBrain\", \"CTHead\"])\n",
        "\n",
        "    return accuracy"
      ]
    },
    {
      "cell_type": "code",
      "execution_count": null,
      "metadata": {
        "id": "rzwivQLRIrux"
      },
      "outputs": [],
      "source": [
        "# Cell 11\n",
        "\n",
        "# Evaluating the performance of a non-trained model\n",
        "\n",
        "_ = evaluate_model(model)"
      ]
    },
    {
      "cell_type": "markdown",
      "metadata": {
        "id": "X7eKE7a7rT29"
      },
      "source": [
        "The figure above is a confusion matrix. It gets its name because it shows how many times the model confused one class of inputs with another (Ct vs MR in this case).\n",
        "This shows that all cases are predicted as MR brains, while there are actually 15 of each (your results might be different depending on the random selection of cases).\n"
      ]
    },
    {
      "cell_type": "code",
      "execution_count": null,
      "metadata": {
        "id": "0pMHGSlFEykp"
      },
      "outputs": [],
      "source": [
        "# Cell 12\n",
        "\n",
        "# create the function to train the classifier\n",
        "def train_classifier(\n",
        "    model: torch.nn.Module,\n",
        "    model_name: str,\n",
        "    train_loader: Iterable,\n",
        "    valid_loader: Iterable,\n",
        "    criterion: Callable,\n",
        "    optimizer: torch.optim,\n",
        "    num_epochs: int,\n",
        "    plot_curves: bool,\n",
        "    scheduler: torch.optim.lr_scheduler\n",
        "):\n",
        "    \"\"\"\n",
        "    Train a classifier model using pytorch and the given parameters.\n",
        "    Parameters:\n",
        "      model (Callable): any pytorch module,\n",
        "      model_name (str): name of the model to be saved.\n",
        "      train_loader (Iterable): dataloader for training data,\n",
        "      valid_loader (Iterable): dataloader for validation data,\n",
        "      criterion (Callable): any loss function,\n",
        "      optimizer (torch.optim): a pytorch optimizer,\n",
        "      num_epochs (int): number of epochs to train the model,\n",
        "      plot_charts (bool): whether or not to plot the training and validation loss\n",
        "      and accuracy curves.\n",
        "    \"\"\"\n",
        "\n",
        "    # Sending the model to device (preferably GPU)\n",
        "    model.to(device)\n",
        "\n",
        "    # Releaseing the GPU memory. This is not necessary, but a good practice to do\n",
        "    # before starting new training sessions.\n",
        "    with torch.no_grad():\n",
        "        torch.cuda.empty_cache()\n",
        "\n",
        "    # Building a saving directory for models\n",
        "    model_save_dir = os.path.join(\"Best_Models\", model_name)\n",
        "    if os.path.exists(model_save_dir):\n",
        "        shutil.rmtree(model_save_dir)\n",
        "    os.makedirs(model_save_dir, exist_ok=True)\n",
        "\n",
        "    # lists to log the epoch values\n",
        "    epoch_train_loss_list = list()\n",
        "    epoch_train_accuracy_list = list()\n",
        "    epoch_valid_loss_list = list()\n",
        "    epoch_valid_accuracy_list = list()\n",
        "\n",
        "    # Starting the training loop\n",
        "    for epoch in range(1, num_epochs + 1):\n",
        "        print(\"-\" * 20, f\"\\nStarting epoch: {epoch}/{num_epochs}\")\n",
        "\n",
        "        ## training\n",
        "        model.train()\n",
        "        steps_train_loss = 0.0\n",
        "        steps_correct_predictions = 0\n",
        "\n",
        "        for batch in tqdm(train_loader, unit=\"batch\"):\n",
        "            inputs, labels = batch[\"image\"].to(device), batch[\"label\"].to(device)\n",
        "            ### Zero the parameter gradients\n",
        "            optimizer.zero_grad()\n",
        "\n",
        "            ### Forward + backward + optimize\n",
        "            outputs = model(inputs)\n",
        "            loss = criterion(outputs, labels)\n",
        "            loss.backward()\n",
        "            optimizer.step()\n",
        "\n",
        "            ### Accumulating the loss and number of correct predictions in step\n",
        "            steps_train_loss += loss.item()\n",
        "            _, predicted = torch.max(outputs.data, 1)\n",
        "            steps_correct_predictions += (predicted == labels).sum().item()\n",
        "\n",
        "        ## Measuring the epoch training loss and accuracy\n",
        "        epoch_train_loss = steps_train_loss / len(train_loader)\n",
        "        epoch_train_loss_list.append(epoch_train_loss)\n",
        "        epoch_train_accuracy = steps_correct_predictions / len(train_loader.dataset)\n",
        "        epoch_train_accuracy_list.append(epoch_train_accuracy)\n",
        "\n",
        "        ## validation\n",
        "        model.eval()\n",
        "        steps_valid_loss = 0.0\n",
        "        steps_correct_predictions = 0\n",
        "\n",
        "        for batch in tqdm(valid_loader, unit=\"batch\"):\n",
        "            inputs, labels = batch[\"image\"].to(device), batch[\"label\"].to(device)\n",
        "            outputs = model(inputs)\n",
        "            loss = criterion(outputs, labels)\n",
        "\n",
        "            ### Accumulating the loss and number of correct predictions in step\n",
        "            steps_valid_loss += loss.item()\n",
        "            _, predicted = torch.max(outputs.data, 1)\n",
        "            steps_correct_predictions += (predicted == labels).sum().item()\n",
        "\n",
        "        ## Measuring the epoch validation loss and accuracy\n",
        "        epoch_valid_loss = steps_valid_loss / len(valid_loader)\n",
        "        epoch_valid_loss_list.append(epoch_valid_loss)\n",
        "        epoch_valid_accuracy = steps_correct_predictions / len(valid_loader.dataset)\n",
        "        epoch_valid_accuracy_list.append(epoch_valid_accuracy)\n",
        "\n",
        "        ## Printing the logs\n",
        "        print(\n",
        "            f\"train loss: {epoch_train_loss:.2f} | \\\n",
        "    train accuracy: {epoch_train_accuracy:.2f}\"\n",
        "        )\n",
        "        print(\n",
        "            f\"valid loss: {epoch_valid_loss:.2f} | \\\n",
        "    valid accuracy: {epoch_valid_accuracy:.2f}\"\n",
        "        )\n",
        "\n",
        "        ## Saving the best model\n",
        "        if epoch == 1:\n",
        "            best_valid_loss = epoch_valid_loss\n",
        "            weight_name = f\"{model_name}_Epoch{epoch}_ACC={epoch_valid_accuracy}.pth\"\n",
        "            torch.save(model.state_dict(), os.path.join(model_save_dir, weight_name))\n",
        "        elif epoch_valid_loss < best_valid_loss:\n",
        "            weight_name = f\"{model_name}_Epoch{epoch}_ACC={epoch_valid_accuracy}.pth\"\n",
        "            torch.save(model.state_dict(), os.path.join(model_save_dir, weight_name))\n",
        "            best_valid_loss = epoch_valid_loss\n",
        "        scheduler.step()\n",
        "\n",
        "\n",
        "    # Printing the best model\n",
        "    print(f\"\\nTrainng was over. The best model was: {weight_name}\")\n",
        "\n",
        "    # Plotting the loss and accuracy curves\n",
        "    if plot_curves:\n",
        "        epoch_train_loss_list.insert(0, 0)\n",
        "        epoch_train_accuracy_list.insert(0, 0)\n",
        "        epoch_valid_loss_list.insert(0, 0)\n",
        "        epoch_valid_accuracy_list.insert(0, 0)\n",
        "        fig, axes = plt.subplots(1, 2, figsize=(10, 5))\n",
        "        axes[0].plot(epoch_train_loss_list, color=\"blue\", label=\"training\")\n",
        "        axes[0].plot(epoch_valid_loss_list, color=\"orange\", label=\"validation\")\n",
        "        axes[0].set_xlim(1, len(epoch_valid_loss_list) + 1)\n",
        "        axes[0].set_title(\"Loss curves\")\n",
        "        axes[0].legend()\n",
        "        axes[1].plot(epoch_train_accuracy_list, color=\"blue\", label=\"training\")\n",
        "        axes[1].plot(epoch_valid_accuracy_list, color=\"orange\", label=\"validation\")\n",
        "        axes[1].set_xlim(1, len(epoch_train_accuracy_list) + 1)\n",
        "        axes[1].set_title(\"Accuracy curves\")\n",
        "        axes[1].legend()\n",
        "\n",
        "    # Loading the best weights and returning the model\n",
        "    model.load_state_dict(torch.load(os.path.join(model_save_dir, weight_name)))\n",
        "    return model"
      ]
    },
    {
      "cell_type": "markdown",
      "metadata": {
        "id": "jrAhXo59vMiQ"
      },
      "source": [
        "Finally we are ready to train the model! We will just do 4 epochs and then see what the performance is."
      ]
    },
    {
      "cell_type": "code",
      "execution_count": null,
      "metadata": {
        "id": "VStNbNg8OfOm"
      },
      "outputs": [],
      "source": [
        "# Cell 13\n",
        "\n",
        "# Doing a base-line training with a non-trained and not-pretrained model\n",
        "#  You may need to vertically scroll within the code output window\n",
        "# in order to see all of the output.\n",
        "import time\n",
        "from torch.optim.lr_scheduler import StepLR\n",
        "from torch.optim.lr_scheduler import OneCycleLR\n",
        "\n",
        "\n",
        "\n",
        "criterion = torch.nn.CrossEntropyLoss()\n",
        "learning_rate = 0.01\n",
        "optimizer = torch.optim.SGD(model.parameters(), lr=learning_rate)\n",
        "num_epochs = 4\n",
        "scheduler = StepLR(optimizer, step_size = 4, gamma = 0.5)\n",
        "\n",
        "# the next line will time how long the line after it takes to complete\n",
        "t1 = time.perf_counter()\n",
        "\n",
        "\n",
        "model = train_classifier(\n",
        "    model=model,\n",
        "    model_name=MyModel,\n",
        "    train_loader=train_loader,\n",
        "    valid_loader=valid_loader,\n",
        "    criterion=criterion,\n",
        "    optimizer=optimizer,\n",
        "    num_epochs=num_epochs,\n",
        "    plot_curves=True,\n",
        "    scheduler=scheduler\n",
        ")\n",
        "\n",
        "t2 = time.perf_counter()\n",
        "print('time taken to run:',t2-t1)\n"
      ]
    },
    {
      "cell_type": "code",
      "execution_count": null,
      "metadata": {
        "id": "s96uQASUCm6c"
      },
      "outputs": [],
      "source": [
        "# Cell 14\n",
        "\n",
        "# once again computing the confusion matrix, but now for our trained model\n",
        "\n",
        "_ = evaluate_model(model)"
      ]
    },
    {
      "cell_type": "markdown",
      "metadata": {
        "id": "Rhtrr-P5iVJB"
      },
      "source": [
        "You can see that with just a few epochs, we are getting very good results. Of course, a human would also pick this up pretty quickly, but it shows that for fairly obvious tasks, these tools can get results quickly."
      ]
    },
    {
      "cell_type": "markdown",
      "metadata": {
        "id": "FEITNLbWn4JV"
      },
      "source": [
        "My results on a T4\n",
        "<br>\n",
        "```markdown\n",
        "Model      Accuracy    Time(s)\n",
        "Resnet18      .86       27.     \n",
        "Resnet50      .83       38.2\n",
        "VGG16         .97       66.7\n",
        "```\n",
        "\n",
        "Does this make sense? The smallest model (ResNet18) ran the fastest and had good accuracy!!!  This goes to show that you can't just throw data at the most complex model and expect to get the best results.  But Why not????\n",
        "\n",
        "For each epoch, you can see that as the bar was going across to show training, it shows 68/68 when the epoch is done. Why is the number 68--what is that number?\n",
        "\n",
        "# Stop Here"
      ]
    },
    {
      "cell_type": "markdown",
      "source": [
        "# Part 2: Optimizers\n"
      ],
      "metadata": {
        "id": "aDyIa4caQIe2"
      }
    },
    {
      "cell_type": "markdown",
      "source": [
        "Now we will try a few different optimizers so you can see how they compare. Feel free to experiement here--this is just a starting point!!\n",
        "A list of the optimizers that are built into PyTorch and their parameters is here:\n",
        "https://pytorch.org/docs/stable/optim.html\n"
      ],
      "metadata": {
        "id": "fiTNWOoGQmiy"
      }
    },
    {
      "cell_type": "code",
      "source": [
        "# Cell 15\n",
        "\n",
        "criterion = torch.nn.CrossEntropyLoss()\n",
        "\n",
        "\n",
        "optimizer_SGD = torch.optim.SGD(model.parameters(), lr=0.01, momentum=0.9)\n",
        "\n",
        "\n",
        "num_epochs = 4\n",
        "# the next line will time how long the line after it takes to complete\n",
        "\n",
        "t1 = time.perf_counter()\n",
        "\n",
        "print (\"SGD\")\n",
        "model = train_classifier(\n",
        "    model=model,\n",
        "    model_name=MyModel,\n",
        "    train_loader=train_loader,\n",
        "    valid_loader=valid_loader,\n",
        "    criterion=criterion,\n",
        "    optimizer=optimizer_SGD,\n",
        "    num_epochs=num_epochs,\n",
        "    plot_curves=True,\n",
        "    scheduler=scheduler\n",
        ")\n",
        "\n",
        "t2 = time.perf_counter()\n",
        "print('time taken to run:',t2-t1)\n",
        "print (50*'-')\n",
        "\n"
      ],
      "metadata": {
        "id": "ZBSZBUB3QnA-"
      },
      "execution_count": null,
      "outputs": []
    },
    {
      "cell_type": "code",
      "source": [
        "# Cell 16\n",
        "model = build_model(arch=\"resnet18\")\n",
        "optimizer = torch.optim.RMSprop(model.parameters(), lr=0.0001, alpha=0.99, eps=1e-08, weight_decay=0, momentum=0)\n",
        "\n",
        "t1 = time.perf_counter()\n",
        "\n",
        "print (\"RMS Prop\")\n",
        "model = train_classifier(\n",
        "    model=model,\n",
        "    model_name=MyModel,\n",
        "    train_loader=train_loader,\n",
        "    valid_loader=valid_loader,\n",
        "    criterion=criterion,\n",
        "    optimizer=optimizer,\n",
        "    num_epochs=num_epochs,\n",
        "    plot_curves=True,\n",
        "    scheduler=scheduler\n",
        ")\n",
        "\n",
        "t2 = time.perf_counter()\n",
        "print('time taken to run:',t2-t1)\n"
      ],
      "metadata": {
        "id": "nCzsc8OaTklV"
      },
      "execution_count": null,
      "outputs": []
    },
    {
      "cell_type": "code",
      "source": [
        "# Cell 17\n",
        "model = build_model(arch=\"resnet18\")\n",
        "optimizer = torch.optim.Adam(model.parameters(), lr=0.0001)\n",
        "\n",
        "\n",
        "t1 = time.perf_counter()\n",
        "\n",
        "print (\"Adam\")\n",
        "model = train_classifier(\n",
        "    model=model,\n",
        "    model_name=MyModel,\n",
        "    train_loader=train_loader,\n",
        "    valid_loader=valid_loader,\n",
        "    criterion=criterion,\n",
        "    optimizer=optimizer,\n",
        "    num_epochs=num_epochs,\n",
        "    plot_curves=True,\n",
        "    scheduler=scheduler\n",
        ")\n",
        "\n",
        "t2 = time.perf_counter()\n",
        "print('time taken to run:',t2-t1)\n"
      ],
      "metadata": {
        "id": "MSVCu0tDTy3-"
      },
      "execution_count": null,
      "outputs": []
    },
    {
      "cell_type": "markdown",
      "source": [
        "** Adam seems to be a clear winner with very good results in the very first Epoch! This is often the case, which is why Adam is a popular optimizer.\n",
        "\n",
        "Now lets look at learning rate scehdulers. We will switch back to SGD so the impact is a bit more clear.\n",
        "Choices for learning rate schedulers is also found on that page linked above, about half-way down. Some options are: StepLR, CoseineAnnealingLR, CyclicLR, OneCycleLR, CosineAnnealingWarmRestarts"
      ],
      "metadata": {
        "id": "oui4ut8bU7a-"
      }
    },
    {
      "cell_type": "code",
      "source": [
        "# Cell 18\n",
        "\n",
        "model = build_model(arch=\"resnet18\")\n",
        "\n",
        "# StepLR reduces the LR by a multiplicative factor\n",
        "scheduler = StepLR(optimizer, \n",
        "                   step_size = 4, # Period of learning rate decay\n",
        "                   gamma = 0.5) # Multiplicative factor of learning rate decay\n",
        "\n",
        "\n",
        "optimizer = torch.optim.RMSprop(model.parameters(), lr=0.0001, alpha=0.99, eps=1e-08, weight_decay=0, momentum=0)\n",
        "t1 = time.perf_counter()\n",
        "\n",
        "\n",
        "model = train_classifier(\n",
        "    model=model,\n",
        "    model_name=MyModel,\n",
        "    train_loader=train_loader,\n",
        "    valid_loader=valid_loader,\n",
        "    criterion=criterion,\n",
        "    optimizer=optimizer,\n",
        "    num_epochs=num_epochs,\n",
        "    plot_curves=True,\n",
        "    scheduler=scheduler\n",
        ")\n",
        "\n",
        "t2 = time.perf_counter()\n",
        "print('time taken to run:',t2-t1)\n"
      ],
      "metadata": {
        "id": "zl8lcKchURcS"
      },
      "execution_count": null,
      "outputs": []
    },
    {
      "cell_type": "code",
      "source": [
        "# Cell 19\n",
        "\n",
        "model = build_model(arch=\"resnet18\")\n",
        "# need to recreate the optimizer so that there aren't already values there...\n",
        "optimizer = torch.optim.RMSprop(model.parameters(), lr=0.0001, alpha=0.99, eps=1e-08, weight_decay=0, momentum=0)\n",
        "\n",
        "# this uses the cosine function to change the LR from low to high to low\n",
        "scheduler = torch.optim.lr_scheduler.CyclicLR(optimizer, \n",
        "                       base_lr = 1e-4, # Upper learning rate boundaries in the cycle for each parameter group\n",
        "                       max_lr = 1e-3) # Upper learning rate boundaries in the cycle for each parameter group\n",
        "\n",
        "t1 = time.perf_counter()\n",
        "\n",
        "\n",
        "model = train_classifier(\n",
        "    model=model,\n",
        "    model_name=MyModel,\n",
        "    train_loader=train_loader,\n",
        "    valid_loader=valid_loader,\n",
        "    criterion=criterion,\n",
        "    optimizer=optimizer,\n",
        "    num_epochs=num_epochs,\n",
        "    plot_curves=True,\n",
        "    scheduler=scheduler\n",
        ")\n",
        "\n",
        "t2 = time.perf_counter()\n",
        "print('time taken to run:',t2-t1)\n",
        "\n"
      ],
      "metadata": {
        "id": "sgMwKAd_VfS2"
      },
      "execution_count": null,
      "outputs": []
    },
    {
      "cell_type": "markdown",
      "source": [
        "Please experiement with different values above.\n",
        "Becuase of time, we have a rather simple problem with few examples and thus we get good results quite quickly. \n",
        "But in the real world, you may get a benefit from experimenting with different optimizers and different learning rates and schedulers.\n",
        "If there was 1 best optimizer or 1 best lr_scheduler, there wouldn't be lots of choices...\n",
        "\n",
        "# End Part 2 on Optimizers here!\n"
      ],
      "metadata": {
        "id": "kmvwnA9NaZKT"
      }
    },
    {
      "cell_type": "markdown",
      "source": [
        "#Part 3: Cost Functions (Loss Functions)\n",
        "Here we will experiment with different cost functions. There is not quite such a large range of cost functions as optimizers, and the right cost function is rather specific to a task: You shouldn't use a Dice Score for a classification task!\n"
      ],
      "metadata": {
        "id": "IJ279ki8bkGb"
      }
    },
    {
      "cell_type": "markdown",
      "source": [
        "In line 8 of Cell 13, we set the loss function as:\n",
        "criterion = torch.nn.CrossEntropyLoss()\n",
        "\n",
        "Lets start by setting the baseline performance again but then we will try a few other cost functions\n"
      ],
      "metadata": {
        "id": "tvbOuOTrdL0C"
      }
    },
    {
      "cell_type": "code",
      "source": [
        "# Cell 20\n",
        "\n",
        "model = build_model(arch=\"resnet18\")\n",
        "# baseline performance\n",
        "criterion = torch.nn.CrossEntropyLoss()\n",
        "learning_rate = 0.0001\n",
        "optimizer = torch.optim.SGD(model.parameters(), lr=learning_rate)\n",
        "num_epochs = 4\n",
        "# the next line will time how long the line after it takes to complete\n",
        "\n",
        "t1 = time.perf_counter()\n",
        "\n",
        "\n",
        "model = train_classifier(\n",
        "    model=model,\n",
        "    model_name=MyModel,\n",
        "    train_loader=train_loader,\n",
        "    valid_loader=valid_loader,\n",
        "    criterion=criterion,\n",
        "    optimizer=optimizer,\n",
        "    num_epochs=num_epochs,\n",
        "    plot_curves=True,\n",
        "    scheduler=scheduler\n",
        ")\n",
        "\n",
        "t2 = time.perf_counter()\n",
        "print('time taken to run:',t2-t1)"
      ],
      "metadata": {
        "id": "rhfWuu9ha2jV"
      },
      "execution_count": null,
      "outputs": []
    },
    {
      "cell_type": "markdown",
      "source": [
        "Just as there are many options for optimizers, there are many options for loss (cost) functions. These are listed on the pytorch page here:\n",
        "https://pytorch.org/docs/stable/nn.html#loss-functions\n",
        "\n",
        "Unfortunately using simpler loss functions like L1Loss or MSELoss is not easily compatible with how we defined our trainer above. But most other cost functions work."
      ],
      "metadata": {
        "id": "basUXiy_i76U"
      }
    },
    {
      "cell_type": "code",
      "source": [
        "# Cell 21\n",
        "\n",
        "model = build_model(arch=\"resnet18\")\n",
        "criterion = torch.nn.NLLLoss()   # Negative Log Likelihood loss\n",
        "learning_rate = 0.0001\n",
        "optimizer = torch.optim.SGD(model.parameters(), lr=learning_rate)\n",
        "num_epochs = 4\n",
        "\n",
        "t1 = time.perf_counter()\n",
        "\n",
        "\n",
        "model = train_classifier(\n",
        "    model=model,\n",
        "    model_name=MyModel,\n",
        "    train_loader=train_loader,\n",
        "    valid_loader=valid_loader,\n",
        "    criterion=criterion,\n",
        "    optimizer=optimizer,\n",
        "    num_epochs=num_epochs,\n",
        "    plot_curves=True,\n",
        "    scheduler=scheduler\n",
        ")\n",
        "\n",
        "t2 = time.perf_counter()\n",
        "print('time taken to run:',t2-t1)\n"
      ],
      "metadata": {
        "id": "hSKbNM9odXX0"
      },
      "execution_count": null,
      "outputs": []
    },
    {
      "cell_type": "markdown",
      "source": [
        "Wow--most times, the performance degrades with more epochs! How can that happen?\n"
      ],
      "metadata": {
        "id": "gBOvofYXk74I"
      }
    },
    {
      "cell_type": "markdown",
      "source": [
        "# Extra Credit\n",
        "Rewrite the dataloader (Cell #6) and the classifier to classify all 6 different types of images!  \n",
        "I will get you started on the dataloader"
      ],
      "metadata": {
        "id": "aJI_QOv5nKE4"
      }
    },
    {
      "cell_type": "code",
      "source": [
        "# Cell 22\n",
        "img_classes = ['CTAbd', 'CTChest', 'CTHead', 'CXR', 'MRBrain', 'MRBreast']\n",
        "\n",
        "def collect_imageinfo_list(images_dirpath: str) -> List:\n",
        "    \"\"\"\n",
        "    Return a list of information tuples for all images, where each information\n",
        "    tuple includes the associated path, label, and set for each image.\n",
        "    Parameters:\n",
        "      - images_dirpath (str): Path to the directory including all images.\n",
        "      - imageinfo_list (List): a list of (file_path, file_label, file_set)\n",
        "      for each image file.\n",
        "    \"\"\"\n",
        "    imageinfo_list = list()\n",
        "    for root, dirs, files in os.walk(images_dirpath):\n",
        "        for dir in dirs:\n",
        "            if dir in img_classes:\n",
        "                dir_path = os.path.join(root,dir)\n",
        "                flist = os.listdir(dir_path)\n",
        "                for file in flist:\n",
        "                    file_path = os.path.join(dir_path, file)\n",
        "                    print (file_path)\n",
        "                    if file.lower().endswith(\".jpeg\") or file.lower().endswith(\".jpg\"):\n",
        "                        file_set = \"TEST\" if \"9.jpg\" in file else \"TRAIN\"  # simple way to get 10% as test\n",
        "                        imageinfo_list.append((file_path, dir, file_set))\n",
        "    return imageinfo_list\n",
        "\n",
        "\n",
        "imageinfo_list = collect_imageinfo_list(\".\")  # we are working from the current directory\n",
        "\n",
        "train_imageinfo_list = [\n",
        "    imageinfo for imageinfo in imageinfo_list if imageinfo[2] == \"TRAIN\"\n",
        "]\n",
        "train_mrbain_count = len(\n",
        "    [imageinfo for imageinfo in train_imageinfo_list if imageinfo[1] == \"MRBrain\"]\n",
        ")\n",
        "train_ctbrain_count = len(\n",
        "    [imageinfo for imageinfo in train_imageinfo_list if imageinfo[1] == \"CTHead\"]\n",
        ")\n",
        "test_imageinfo_list = [\n",
        "    imageinfo for imageinfo in imageinfo_list if imageinfo[2] == \"TEST\"\n",
        "]\n",
        "test_mrbain_count = len(\n",
        "    [imageinfo for imageinfo in test_imageinfo_list if imageinfo[1] == \"MRBrain\"]\n",
        ")\n",
        "test_ctbrain_count = len(\n",
        "    [imageinfo for imageinfo in test_imageinfo_list if imageinfo[1] == \"CTHead\"]\n",
        ")\n",
        "train_ctabd_count = len(\n",
        "    [imageinfo for imageinfo in train_imageinfo_list if imageinfo[1] == \"CTAbd\"]\n",
        ")\n",
        "test_ctabd_count = len(\n",
        "    [imageinfo for imageinfo in train_imageinfo_list if imageinfo[1] == \"CTAbd\"]\n",
        ")\n",
        "train_ctchest_count = len(\n",
        "    [imageinfo for imageinfo in train_imageinfo_list if imageinfo[1] == \"CTChest\"]\n",
        ")\n",
        "test_ctchest_count = len(\n",
        "    [imageinfo for imageinfo in train_imageinfo_list if imageinfo[1] == \"CTChest\"]\n",
        ")\n",
        "train_cxr_count = len(\n",
        "    [imageinfo for imageinfo in train_imageinfo_list if imageinfo[1] == \"CXR\"]\n",
        ")\n",
        "test_cxr_count = len(\n",
        "    [imageinfo for imageinfo in train_imageinfo_list if imageinfo[1] == \"CXR\"]\n",
        ")\n",
        "train_mrbreast_count = len(\n",
        "    [imageinfo for imageinfo in train_imageinfo_list if imageinfo[1] == \"MRBreast\"]\n",
        ")\n",
        "test_mrbreast_count = len(\n",
        "    [imageinfo for imageinfo in train_imageinfo_list if imageinfo[1] == \"MRBreast\"]\n",
        ")\n",
        "\n",
        "\n",
        "print(\n",
        "    f\"Number of images in the training set: {len(train_imageinfo_list)} --> \\\n",
        "MRBrain: {train_mrbain_count} - CTHead: {train_ctbrain_count} - CTAbd: {train_ctabd_count} - CXR: {train_cxr_count} - \"\n",
        ")\n",
        "print(\n",
        "    f\"Number of images in the test set: {len(test_imageinfo_list)} --> \\\n",
        "MRBrain: {test_mrbain_count} - CTHead: {test_ctbrain_count}\"\n",
        ")"
      ],
      "metadata": {
        "id": "dvfAP3uqnaHl"
      },
      "execution_count": null,
      "outputs": []
    },
    {
      "cell_type": "code",
      "source": [
        "# Cell 7\n",
        "\n",
        "# Plotting sample images from the original data\n",
        "import matplotlib.pyplot as plt\n",
        "from skimage.io import imread\n",
        "\n",
        "def plot_sample_images():\n",
        "    \"\"\"\n",
        "    Plot 9 sample images from the imaging dataset, while printing their\n",
        "    associated labels and sets.\n",
        "    \"\"\"\n",
        "    fig, axes = plt.subplots(3, 3, figsize=(10, 8))\n",
        "    random_imagesinfo_items = random.choices(imageinfo_list, k=9)\n",
        "    for i, imageinfo in enumerate(random_imagesinfo_items):\n",
        "        image = imread(imageinfo[0])\n",
        "        axes[i // 3, i % 3].imshow(image, cmap=\"gray\")\n",
        "        axes[i // 3, i % 3].axis(\"off\")\n",
        "        axes[i // 3, i % 3].set_title(f\"{imageinfo[1]} - {imageinfo[2]} set\")\n",
        "    plt.show()\n",
        "\n",
        "\n",
        "plot_sample_images()"
      ],
      "metadata": {
        "id": "q1QSSUlco3gn"
      },
      "execution_count": null,
      "outputs": []
    }
  ],
  "metadata": {
    "accelerator": "GPU",
    "colab": {
      "provenance": [],
      "include_colab_link": true
    },
    "gpuClass": "standard",
    "kernelspec": {
      "display_name": "Python 3",
      "language": "python",
      "name": "python3"
    },
    "language_info": {
      "name": "python",
      "version": "3.9.10 | packaged by conda-forge | (main, Feb  1 2022, 21:27:43) \n[Clang 11.1.0 ]"
    },
    "vscode": {
      "interpreter": {
        "hash": "87be1874565868f243fc8343e26fde25251ac16e545aa1d945dc72cd48506e5c"
      }
    }
  },
  "nbformat": 4,
  "nbformat_minor": 0
}