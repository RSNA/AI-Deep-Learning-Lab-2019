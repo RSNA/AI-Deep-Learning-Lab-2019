{
  "cells": [
    {
      "cell_type": "markdown",
      "metadata": {
        "id": "view-in-github",
        "colab_type": "text"
      },
      "source": [
        "<a href=\"https://colab.research.google.com/github/slowvak/AI-Deep-Learning-Lab/blob/master/Basic_CNN.ipynb\" target=\"_parent\"><img src=\"https://colab.research.google.com/assets/colab-badge.svg\" alt=\"Open In Colab\"/></a>"
      ]
    },
    {
      "cell_type": "markdown",
      "metadata": {
        "id": "OxkeagcrJPrH"
      },
      "source": [
        "## Building a simple 2 class classifier for medical images\n",
        "\n",
        "Here we build a simple deep learning model with little description of what is going on. The main purpose is to give you a sense of what is possible AND that YOU CAN DO THIS!"
      ]
    },
    {
      "cell_type": "markdown",
      "metadata": {
        "id": "Du_XolBHxV3G"
      },
      "source": [
        "### Preparing the notebook\n",
        "\n",
        "\n",
        "OK, let's begin by setting the environment for this notebook by installing MONAI."
      ]
    },
    {
      "cell_type": "code",
      "execution_count": 21,
      "metadata": {
        "colab": {
          "base_uri": "https://localhost:8080/"
        },
        "id": "XNE2VBoadB4J",
        "outputId": "b59a1621-ecd1-46d3-8633-48afe424288f"
      },
      "outputs": [
        {
          "output_type": "stream",
          "name": "stdout",
          "text": [
            "Looking in indexes: https://pypi.org/simple, https://us-python.pkg.dev/colab-wheels/public/simple/\n",
            "Requirement already satisfied: monai in /usr/local/lib/python3.8/dist-packages (1.1.0)\n",
            "Requirement already satisfied: numpy>=1.17 in /usr/local/lib/python3.8/dist-packages (from monai) (1.21.6)\n",
            "Requirement already satisfied: torch>=1.8 in /usr/local/lib/python3.8/dist-packages (from monai) (1.13.1+cu116)\n",
            "Requirement already satisfied: typing-extensions in /usr/local/lib/python3.8/dist-packages (from torch>=1.8->monai) (4.4.0)\n"
          ]
        }
      ],
      "source": [
        "# Cell 1\n",
        "# Installing required libraries\n",
        "!pip install monai"
      ]
    },
    {
      "cell_type": "code",
      "execution_count": 22,
      "metadata": {
        "id": "mETSBV2-EGSz"
      },
      "outputs": [],
      "source": [
        "# Cell 2\n",
        "# Import the required python types for type hinting\n",
        "# Turn off the notebook warnings\n",
        "\n",
        "from typing import List, Tuple, Dict, Union, Callable, Iterable\n",
        "import warnings\n",
        "\n",
        "warnings.filterwarnings(\"ignore\")"
      ]
    },
    {
      "cell_type": "markdown",
      "metadata": {
        "id": "BnUTpIPsTtiF"
      },
      "source": [
        "Next, we write a basic wrapper to make our code as deterministic as possible. As you probably know, deterministic programming will make most of our code generate the same outputs if it is run multiple times. In other words, random generators in a deterministic algorithm will create the same values every time they are called (which is why they are technically 'pseudorandom'). \n",
        "\n",
        "*   For more information about deterministic programming, read [here](https://www.geeksforgeeks.org/difference-between-deterministic-and-non-deterministic-algorithms/).  \n",
        "*   For more information about wrappers in Python, read [here](https://www.geeksforgeeks.org/function-wrappers-in-python). \n",
        "\n",
        "If you look at the next cell, you will find steps that set up Python, PyTorch, and MONAI to work in a deterministic way. However, making an algorithm deterministic is more complicated than it seems, especially when coding in Google Colab. Google Colab is set up to assign you an actual graphic processing unit (GPU) every time you start a new session. Unfortunately, there is currently no way to make this assignment deterministic to the best of our knowledge. If hardware like the GPU is changed (particularly to a different type of GPU), results may be different, even if you use wrappers like what have here.\n"
      ]
    },
    {
      "cell_type": "code",
      "execution_count": 23,
      "metadata": {
        "id": "1KPZtgXmG8A7"
      },
      "outputs": [],
      "source": [
        "# Cell 3\n",
        "\n",
        "import torch\n",
        "import os\n",
        "import numpy as np\n",
        "import monai\n",
        "import random\n",
        "from functools import wraps\n"
      ]
    },
    {
      "cell_type": "markdown",
      "metadata": {
        "id": "Y4j-evwaWarU"
      },
      "source": [
        "Next, let's check if a GPU is assigned to our session. Before running the following cell, make sure your Colab runtime is set to GPU. To do so, click on Runtime -> Change runtime type, and select GPU for the hardware accelerator.  "
      ]
    },
    {
      "cell_type": "markdown",
      "metadata": {
        "id": "64N1yDtSygXq"
      },
      "source": [
        "---\n",
        "\n",
        ">\n",
        "**Question**: Why do we need to connect to a GPU? The answer is that training deep learning models often involves running processes that are highly computational-dependent. Running these processes on central processing units (CPUs) one after the other will take a lot of time. However, GPUs can run the deep learning computations in parallel, significantly reducing the time needed for training. \n",
        "\n",
        "---"
      ]
    },
    {
      "cell_type": "code",
      "execution_count": 24,
      "metadata": {
        "colab": {
          "base_uri": "https://localhost:8080/"
        },
        "id": "0fZ2UHJTHzTn",
        "outputId": "c0ea3497-cf66-4768-eff1-123747529220"
      },
      "outputs": [
        {
          "output_type": "stream",
          "name": "stdout",
          "text": [
            "name, driver_version, memory.total [MiB]\n",
            "Tesla T4, 460.32.03, 15109 MiB\n"
          ]
        }
      ],
      "source": [
        "# Cell 4\n",
        "\n",
        "# Selecting the processor device. Make sure your colab runtype is set to GPU.\n",
        "device = torch.device(\"cuda\" if torch.cuda.is_available() else \"cpu\")\n",
        "\n",
        "# Checking the GPU device\n",
        "!nvidia-smi --query-gpu=gpu_name,driver_version,memory.total --format=csv"
      ]
    },
    {
      "cell_type": "markdown",
      "metadata": {
        "id": "GLI8lbr3zDxJ"
      },
      "source": [
        "### Data collection\n",
        "\n",
        "Now that the environment is ready, we need to download some data to work on. For this chapter and the next one, we will work with a public Chest X-Ray (CXR) dataset that contains images for normal and pneumonia patients. The original dataset is found [here](https://data.mendeley.com/public-files/datasets/rscbjbr9sj/files/f12eaf6d-6023-432f-acc9-80c9d7393433/file_downloaded), but we already moved that data to a Google Drive location to speed up the download process. That is the source from where you will download the data in the following cell."
      ]
    },
    {
      "cell_type": "code",
      "execution_count": 25,
      "metadata": {
        "id": "LMvjnjnCTxd2"
      },
      "outputs": [],
      "source": [
        "# Cell 5\n",
        "\n",
        "!rm -rf ./sample_data/\n",
        "import gdown\n",
        "\n",
        "# only download if not there (for restarts)\n",
        "if not os.path.exists(\"./CTHead\"):\n",
        "    gdown.download(\n",
        "        \"https://docs.google.com/uc?export=download&id=1mqgBKTB0MtGf8Fhc8HaedJyiD8yMoXOh\",\n",
        "        \"MedNIST.zip\",\n",
        "        quiet=False,\n",
        "    )\n",
        "    !unzip -q MedNIST.zip\n",
        "\n",
        "    os.remove(\"MedNIST.zip\")\n",
        "\n"
      ]
    },
    {
      "cell_type": "markdown",
      "metadata": {
        "id": "msfHz9k50zpA"
      },
      "source": [
        "The above cell will download the data and put it in the disk space Google Colab provided for our notebook. Feel free to click on the \"Files\" icon on the left side of the screen and take a look at the downloaded files. These files were downloaded as a zipped folder, unzipped, and stores as CTHead or MRBrain.\n",
        "\n"
      ]
    },
    {
      "cell_type": "markdown",
      "metadata": {
        "id": "mBVHrpq14ioy"
      },
      "source": [
        "Now we can collect the paths to images available in this downloaded dataset. Unfortunately, the original folder has all the images of a type together, so we will just split those that have '9.jpg' in the name as the test set and all others as TRAIN. That gets us a 90-10 split. "
      ]
    },
    {
      "cell_type": "code",
      "execution_count": 26,
      "metadata": {
        "colab": {
          "base_uri": "https://localhost:8080/"
        },
        "id": "2ibWSg1yufyj",
        "outputId": "d2d360e9-c513-435c-9dce-b4214f48a436"
      },
      "outputs": [
        {
          "output_type": "stream",
          "name": "stdout",
          "text": [
            "Number of images in the training set: 540 --> MRBrain: 270 - CTHead: 270\n",
            "Number of images in the test set: 60 --> MRBrain: 30 - CTHead: 30\n"
          ]
        }
      ],
      "source": [
        "# Cell 6\n",
        "\n",
        "# Collecting all image paths, along with their associated labels and sets\n",
        "\n",
        "\n",
        "def collect_imageinfo_list(images_dirpath: str) -> List:\n",
        "    \"\"\"\n",
        "    Return a list of information tuples for all images, where each information\n",
        "    tuple includes the associated path, label, and set for each image.\n",
        "    Parameters:\n",
        "      - images_dirpath (str): Path to the directory including all images.\n",
        "      - imageinfo_list (List): a list of (file_path, file_label, file_set)\n",
        "      for each image file.\n",
        "    \"\"\"\n",
        "    imageinfo_list = list()\n",
        "    for root, dirs, files in os.walk(images_dirpath):\n",
        "        for file in files:\n",
        "            file_path = os.path.join(root, file)\n",
        "            dir_path = os.path.dirname(file_path)\n",
        "            if 'CTHead' in dir_path or 'MRBrain' in dir_path:  # for now, exclude other images\n",
        "                if file.lower().endswith(\".jpeg\") or file.lower().endswith(\".jpg\"):\n",
        "#                    dir_path = os.path.dirname(file_path)\n",
        "    #                file_label = dir_path.split(\"/\")[-1]\n",
        "                    file_set = \"TEST\" if \"9.jpg\" in file else \"TRAIN\"  # simple way to get 10% as test\n",
        "                    file_label = \"CTHead\" if \"CTHead\" in dir_path else \"MRBrain\"\n",
        "                    imageinfo_list.append((file_path, file_label, file_set))\n",
        "    return imageinfo_list\n",
        "\n",
        "\n",
        "imageinfo_list = collect_imageinfo_list(\".\")  # we are working from the current directory\n",
        "\n",
        "train_imageinfo_list = [\n",
        "    imageinfo for imageinfo in imageinfo_list if imageinfo[2] == \"TRAIN\"\n",
        "]\n",
        "train_mrbain_count = len(\n",
        "    [imageinfo for imageinfo in train_imageinfo_list if imageinfo[1] == \"MRBrain\"]\n",
        ")\n",
        "train_ctbrain_count = len(\n",
        "    [imageinfo for imageinfo in train_imageinfo_list if imageinfo[1] == \"CTHead\"]\n",
        ")\n",
        "test_imageinfo_list = [\n",
        "    imageinfo for imageinfo in imageinfo_list if imageinfo[2] == \"TEST\"\n",
        "]\n",
        "test_mrbain_count = len(\n",
        "    [imageinfo for imageinfo in test_imageinfo_list if imageinfo[1] == \"MRBrain\"]\n",
        ")\n",
        "test_ctbrain_count = len(\n",
        "    [imageinfo for imageinfo in test_imageinfo_list if imageinfo[1] == \"CTHead\"]\n",
        ")\n",
        "\n",
        "print(\n",
        "    f\"Number of images in the training set: {len(train_imageinfo_list)} --> \\\n",
        "MRBrain: {train_mrbain_count} - CTHead: {train_ctbrain_count}\"\n",
        ")\n",
        "print(\n",
        "    f\"Number of images in the test set: {len(test_imageinfo_list)} --> \\\n",
        "MRBrain: {test_mrbain_count} - CTHead: {test_ctbrain_count}\"\n",
        ")"
      ]
    },
    {
      "cell_type": "markdown",
      "metadata": {
        "id": "Jk6tvx6NVg1f"
      },
      "source": [
        "### Data investigation\n",
        "\n",
        "It is always a good idea to look at your data before applying training, as there can often be 'surprises'. First, we can visualize some random images from the data to see how they look. The following cell will visualize nine random images and their associated labels."
      ]
    },
    {
      "cell_type": "code",
      "execution_count": 27,
      "metadata": {
        "colab": {
          "base_uri": "https://localhost:8080/",
          "height": 482
        },
        "id": "gaDiAlTZzDWD",
        "outputId": "786e3904-7477-4c1f-87e1-b38986ff6378"
      },
      "outputs": [
        {
          "output_type": "display_data",
          "data": {
            "text/plain": [
              "<Figure size 720x576 with 9 Axes>"
            ],
            "image/png": "[encoded data removed]"
          },
          "metadata": {
            "needs_background": "light"
          }
        }
      ],
      "source": [
        "# Cell 7\n",
        "\n",
        "# Plotting sample images from the original data\n",
        "import matplotlib.pyplot as plt\n",
        "from skimage.io import imread\n",
        "\n",
        "def plot_sample_images():\n",
        "    \"\"\"\n",
        "    Plot 9 sample images from the imaging dataset, while printing their\n",
        "    associated labels and sets.\n",
        "    \"\"\"\n",
        "    fig, axes = plt.subplots(3, 3, figsize=(10, 8))\n",
        "    random_imagesinfo_items = random.choices(imageinfo_list, k=9)\n",
        "    for i, imageinfo in enumerate(random_imagesinfo_items):\n",
        "        image = imread(imageinfo[0])\n",
        "        axes[i // 3, i % 3].imshow(image, cmap=\"gray\")\n",
        "        axes[i // 3, i % 3].axis(\"off\")\n",
        "        axes[i // 3, i % 3].set_title(f\"{imageinfo[1]} - {imageinfo[2]} set\")\n",
        "    plt.show()\n",
        "\n",
        "\n",
        "plot_sample_images()"
      ]
    },
    {
      "cell_type": "markdown",
      "metadata": {
        "id": "4pmb21VXXpzc"
      },
      "source": [
        "### Building datasets and data loaders\n",
        "\n",
        "We mentioned that one must 'flow' the data through the GPU memory for each epoch. DataLoaders are one way to make that happen. There are lots of details in the next cell that we will explore later. For now, just take it on faith that this needs to be done...\n"
      ]
    },
    {
      "cell_type": "code",
      "execution_count": 36,
      "metadata": {
        "id": "L2JWteiba1Qr"
      },
      "outputs": [],
      "source": [
        "# Cell 8\n",
        "\n",
        "# Building datasets and dataloaders using MONAI\n",
        "\n",
        "from monai.transforms import (\n",
        "    LoadImageD,\n",
        "    EnsureChannelFirstD,\n",
        "    ResizeD,\n",
        "    Compose,\n",
        "    NormalizeIntensityD,\n",
        "    RandRotateD,\n",
        "    RandZoomD,\n",
        "    AddChannelD,\n",
        "    LambdaD,\n",
        "    ToTensorD,\n",
        "    RepeatChannelD,\n",
        "    Rotate90d,\n",
        "    SelectItemsd,\n",
        ")\n",
        "from monai.data import Dataset\n",
        "from torch.utils.data import DataLoader\n",
        "\n",
        "\n",
        "def build_dataloaders(\n",
        "    train_imageinfo_list: List = train_imageinfo_list,\n",
        "    test_imageinfo_list: List = test_imageinfo_list,\n",
        "    image_size: int = 224,\n",
        "    augment_train_data: bool = False,\n",
        "    fct_to_train: float = 1.0,\n",
        "    fct_to_valid: float = 0.5,\n",
        ") -> DataLoader:\n",
        "\n",
        "    def worker_init_fn(worker_id):\n",
        "        np.random.seed(np.random.get_state()[1][0] + worker_id)\n",
        "\n",
        "    label_dict = {\"MRBrain\": 1, \"CTHead\": 0}\n",
        "    train_data_list = [\n",
        "        {\"image\": imageinfo[0], \"label\": label_dict[imageinfo[1]]}\n",
        "        for imageinfo in train_imageinfo_list\n",
        "    ]\n",
        "    test_data_list = [\n",
        "        {\"image\": imageinfo[0], \"label\": label_dict[imageinfo[1]]}\n",
        "        for imageinfo in test_imageinfo_list\n",
        "    ]\n",
        "\n",
        "    # Shuffling the data before fractioning it\n",
        "    # Note: We assume that each datapoint in the test_data_list belongs to\n",
        "    # a seprate patient.\n",
        "    random.shuffle(train_data_list)\n",
        "    random.shuffle(test_data_list)\n",
        "\n",
        "    # Using fractions of data\n",
        "    P_train_list = [x for x in train_data_list if x[\"label\"] == 1]\n",
        "    N_train_list = [x for x in train_data_list if x[\"label\"] == 0]\n",
        "    P_test_list = [x for x in test_data_list if x[\"label\"] == 1]\n",
        "    N_test_list = [x for x in test_data_list if x[\"label\"] == 0]\n",
        "    touse_train_data = (\n",
        "        P_train_list[: int(len(P_train_list) * fct_to_train)]\n",
        "        + N_train_list[: int(len(N_train_list) * fct_to_train)]\n",
        "    )\n",
        "    touse_valid_data = (\n",
        "        P_test_list[: int(len(P_test_list) * fct_to_valid)]\n",
        "        + N_test_list[: int(len(N_test_list) * fct_to_valid)]\n",
        "    )\n",
        "    touse_test_data = [x for x in test_data_list if x not in touse_valid_data]\n",
        "\n",
        "    # Building MONAI transforms\n",
        "    Aug_transforms = Compose(\n",
        "        [\n",
        "            LoadImageD(keys=\"image\"),\n",
        "            EnsureChannelFirstD(keys=\"image\"),\n",
        "            LambdaD(keys=\"image\", func=lambda x: x[0, :, :] if x.ndim == 3 else x),\n",
        "            AddChannelD(keys=\"image\"),\n",
        "            ResizeD(keys=\"image\", spatial_size=(image_size, image_size)),\n",
        "            NormalizeIntensityD(keys=\"image\"),\n",
        "            RandRotateD(keys=\"image\", mode=\"bilinear\", range_x=0.26, prob=0.5),\n",
        "            RandZoomD(keys=\"image\", mode=\"bilinear\"),\n",
        "            Rotate90d(keys=\"image\", k=3, spatial_axes=(0, 1)),\n",
        "            ToTensorD(keys=[\"image\", \"label\"]),\n",
        "            RepeatChannelD(keys=\"image\", repeats=3),\n",
        "            SelectItemsd(keys=[\"image\", \"label\"]),\n",
        "        ]\n",
        "    )\n",
        "    NoAug_transforms = Compose(\n",
        "        [\n",
        "            LoadImageD(keys=\"image\"),\n",
        "            EnsureChannelFirstD(keys=\"image\"),\n",
        "            LambdaD(keys=\"image\", func=lambda x: x[0, :, :] if x.ndim == 3 else x),\n",
        "            AddChannelD(keys=\"image\"),\n",
        "            ResizeD(keys=\"image\", spatial_size=(image_size, image_size)),\n",
        "            NormalizeIntensityD(keys=\"image\"),\n",
        "            Rotate90d(keys=\"image\", k=3, spatial_axes=(0, 1)),\n",
        "            ToTensorD(keys=[\"image\", \"label\"]),\n",
        "            RepeatChannelD(keys=\"image\", repeats=3),\n",
        "            SelectItemsd(keys=[\"image\", \"label\"]),\n",
        "        ]\n",
        "    )\n",
        "\n",
        "    # Building MONAI datasets\n",
        "    if augment_train_data:\n",
        "        train_dataset = Dataset(touse_train_data, transform=Aug_transforms)\n",
        "    else:\n",
        "        train_dataset = Dataset(touse_train_data, transform=NoAug_transforms)\n",
        "    valid_dataset = Dataset(touse_valid_data, transform=NoAug_transforms)\n",
        "    test_dataset = Dataset(touse_test_data, transform=NoAug_transforms)\n",
        "\n",
        "    # Building MONAI dataloaders\n",
        "    train_loader = DataLoader(\n",
        "        train_dataset,\n",
        "        batch_size=4,\n",
        "        shuffle=True,\n",
        "        num_workers=1,\n",
        "        worker_init_fn=worker_init_fn,\n",
        "    )\n",
        "    valid_loader = DataLoader(\n",
        "        valid_dataset,\n",
        "        batch_size=4,\n",
        "        shuffle=False,\n",
        "        num_workers=1,\n",
        "        worker_init_fn=worker_init_fn,\n",
        "    )\n",
        "    test_loader = DataLoader(\n",
        "        test_dataset,\n",
        "        batch_size=4,\n",
        "        shuffle=False,\n",
        "        num_workers=1,\n",
        "        worker_init_fn=worker_init_fn,\n",
        "    )\n",
        "    return train_loader, valid_loader, test_loader\n",
        "\n",
        "\n",
        "# Testing the shape and dtype for a sample batche from the training dataloader:\n",
        "\n",
        "train_loader, valid_loader, test_loader = build_dataloaders()\n",
        "sample_batch = next(iter((train_loader)))\n"
      ]
    },
    {
      "cell_type": "markdown",
      "metadata": {
        "id": "IQJ7MaPDvCW3"
      },
      "source": [
        "The above cell prints out the shape, dtype (data type) and labels of the images coming out of our data loaders. We can also proceed and visualize some examples of these images to ensure that we haven't messed them up:"
      ]
    },
    {
      "cell_type": "code",
      "execution_count": 37,
      "metadata": {
        "colab": {
          "base_uri": "https://localhost:8080/"
        },
        "id": "84lx39aLa3Ov",
        "outputId": "85d4fdf4-88ee-4b39-9b24-1eb99c508caf"
      },
      "outputs": [
        {
          "output_type": "stream",
          "name": "stdout",
          "text": [
            "----------------------------------------------------------------\n",
            "        Layer (type)               Output Shape         Param #\n",
            "================================================================\n",
            "            Conv2d-1         [-1, 32, 222, 222]             896\n",
            "            Conv2d-2         [-1, 64, 109, 109]          18,496\n",
            "         Dropout2d-3         [-1, 64, 109, 109]               0\n",
            "            Linear-4                  [-1, 128]      47,775,872\n",
            "            Linear-5                    [-1, 2]             258\n",
            "================================================================\n",
            "Total params: 47,795,522\n",
            "Trainable params: 47,795,522\n",
            "Non-trainable params: 0\n",
            "----------------------------------------------------------------\n",
            "Input size (MB): 0.57\n",
            "Forward/backward pass size (MB): 23.64\n",
            "Params size (MB): 182.33\n",
            "Estimated Total Size (MB): 206.54\n",
            "----------------------------------------------------------------\n"
          ]
        }
      ],
      "source": [
        "# Cell 9\n",
        "import torchvision.models as models\n",
        "import torch.nn as nn\n",
        "import torch.nn.functional as F\n",
        "import shutil\n",
        "from torchsummary import summary\n",
        "\n",
        "class NeuralNet(nn.Module):\n",
        "    def __init__(self):\n",
        "        super(NeuralNet, self).__init__()\n",
        "        self.conv1 = nn.Conv2d(3,32,3,1)   # Channels, Filters, kernel size, stride\n",
        "        self.conv2 = nn.Conv2d(32,64,3,1)\n",
        "        self.conv2_drop = nn.Dropout2d()\n",
        "        self.fc1 = nn.Linear(373248, 128)\n",
        "        self.fc2 = nn.Linear(128, 2)\n",
        "    def forward(self,x):\n",
        "        x = F.relu(F.max_pool2d(self.conv1(x), 2))\n",
        "        x = F.relu(F.max_pool2d(self.conv2_drop(self.conv2(x)), 2))\n",
        "        x = x.view(-1, 373248)\n",
        "        x = F.relu(self.fc1(x))\n",
        "        x = F.dropout(x, training=self.training)\n",
        "        x = self.fc2(x)\n",
        "        return F.log_softmax(x, dim=1)\n",
        "\n",
        "\n",
        "model = NeuralNet().to(device)\n",
        "\n",
        "summary(model, input_size=(3, 224, 224))"
      ]
    },
    {
      "cell_type": "code",
      "execution_count": 38,
      "metadata": {
        "id": "CCy0IFUbJoNg"
      },
      "outputs": [],
      "source": [
        "# Cell 10\n",
        "\n",
        "# A function to evaluate a model's performance on the test_loader\n",
        "\n",
        "from tqdm.notebook import tqdm\n",
        "from sklearn.metrics import confusion_matrix\n",
        "import seaborn as sns\n",
        "\n",
        "\n",
        "def evaluate_model(\n",
        "    model: Callable, test_loader: Iterable = test_loader, plot_cm: bool = True\n",
        ") -> float:\n",
        "\n",
        "    device = torch.device(\"cuda\" if torch.cuda.is_available() else \"cpu\")\n",
        "    model.to(device)\n",
        "    model.eval()\n",
        "    labels_list = list()\n",
        "    preds_list = list()\n",
        "    with torch.no_grad():\n",
        "        for batch in tqdm(test_loader):\n",
        "            inputs, labels = batch[\"image\"].to(device), batch[\"label\"].to(device)\n",
        "            outputs = model(inputs)\n",
        "            preds = torch.argmax(torch.softmax(outputs, dim=1), dim=1)\n",
        "            labels_list.append(labels)\n",
        "            preds_list.append(preds)\n",
        "        all_labels = torch.cat(labels_list).cpu()\n",
        "        all_preds = torch.cat(preds_list).cpu()\n",
        "        accuracy = (all_preds == all_labels).sum().item() / len(all_labels)\n",
        "\n",
        "    if plot_cm:\n",
        "        cm = confusion_matrix(all_labels.numpy(), all_preds.numpy())\n",
        "        ax = plt.subplot()\n",
        "        sns.heatmap(cm, annot=True, fmt=\"g\", ax=ax)\n",
        "        ax.set_xlabel(\"Predicted labels\")\n",
        "        ax.set_ylabel(\"True labels\")\n",
        "        ax.set_title(f\"Confusion Matrix - accuracy: {accuracy:.2f}\")\n",
        "        ax.xaxis.set_ticklabels([\"MRBrain\", \"CTHead\"])\n",
        "        ax.yaxis.set_ticklabels([\"MRBrain\", \"CTHead\"])\n",
        "\n",
        "    return accuracy"
      ]
    },
    {
      "cell_type": "code",
      "execution_count": 40,
      "metadata": {
        "id": "0pMHGSlFEykp"
      },
      "outputs": [],
      "source": [
        "# Cell 12\n",
        "\n",
        "# create the function to train the classifier\n",
        "def train_classifier(\n",
        "    model: torch.nn.Module,\n",
        "    model_name: str,\n",
        "    train_loader: Iterable,\n",
        "    valid_loader: Iterable,\n",
        "    criterion: Callable,\n",
        "    optimizer: torch.optim,\n",
        "    num_epochs: int,\n",
        "    plot_curves: bool,\n",
        "    scheduler: torch.optim.lr_scheduler\n",
        "):\n",
        "    \"\"\"\n",
        "    Train a classifier model using pytorch and the given parameters.\n",
        "    Parameters:\n",
        "      model (Callable): any pytorch module,\n",
        "      model_name (str): name of the model to be saved.\n",
        "      train_loader (Iterable): dataloader for training data,\n",
        "      valid_loader (Iterable): dataloader for validation data,\n",
        "      criterion (Callable): any loss function,\n",
        "      optimizer (torch.optim): a pytorch optimizer,\n",
        "      num_epochs (int): number of epochs to train the model,\n",
        "      plot_charts (bool): whether or not to plot the training and validation loss\n",
        "      and accuracy curves.\n",
        "    \"\"\"\n",
        "\n",
        "    # Sending the model to device (preferably GPU)\n",
        "    model.to(device)\n",
        "\n",
        "    # Releaseing the GPU memory. This is not necessary, but a good practice to do\n",
        "    # before starting new training sessions.\n",
        "    with torch.no_grad():\n",
        "        torch.cuda.empty_cache()\n",
        "\n",
        "    # Building a saving directory for models\n",
        "    model_save_dir = os.path.join(\"Best_Models\", model_name)\n",
        "    if os.path.exists(model_save_dir):\n",
        "        shutil.rmtree(model_save_dir)\n",
        "    os.makedirs(model_save_dir, exist_ok=True)\n",
        "\n",
        "    # lists to log the epoch values\n",
        "    epoch_train_loss_list = list()\n",
        "    epoch_train_accuracy_list = list()\n",
        "    epoch_valid_loss_list = list()\n",
        "    epoch_valid_accuracy_list = list()\n",
        "\n",
        "    # Starting the training loop\n",
        "    for epoch in range(1, num_epochs + 1):\n",
        "        print(\"-\" * 20, f\"\\nStarting epoch: {epoch}/{num_epochs}\")\n",
        "\n",
        "        ## training\n",
        "        model.train()\n",
        "        steps_train_loss = 0.0\n",
        "        steps_correct_predictions = 0\n",
        "\n",
        "        for batch in tqdm(train_loader, unit=\"batch\"):\n",
        "            inputs, labels = batch[\"image\"].to(device), batch[\"label\"].to(device)\n",
        "            ### Zero the parameter gradients\n",
        "            optimizer.zero_grad()\n",
        "\n",
        "            ### Forward + backward + optimize\n",
        "            outputs = model(inputs)\n",
        "            loss = criterion(outputs, labels)\n",
        "            loss.backward()\n",
        "            optimizer.step()\n",
        "\n",
        "            ### Accumulating the loss and number of correct predictions in step\n",
        "            steps_train_loss += loss.item()\n",
        "            _, predicted = torch.max(outputs.data, 1)\n",
        "            steps_correct_predictions += (predicted == labels).sum().item()\n",
        "\n",
        "        ## Measuring the epoch training loss and accuracy\n",
        "        epoch_train_loss = steps_train_loss / len(train_loader)\n",
        "        epoch_train_loss_list.append(epoch_train_loss)\n",
        "        epoch_train_accuracy = steps_correct_predictions / len(train_loader.dataset)\n",
        "        epoch_train_accuracy_list.append(epoch_train_accuracy)\n",
        "\n",
        "        ## validation\n",
        "        model.eval()\n",
        "        steps_valid_loss = 0.0\n",
        "        steps_correct_predictions = 0\n",
        "\n",
        "        for batch in tqdm(valid_loader, unit=\"batch\"):\n",
        "            inputs, labels = batch[\"image\"].to(device), batch[\"label\"].to(device)\n",
        "            outputs = model(inputs)\n",
        "            loss = criterion(outputs, labels)\n",
        "\n",
        "            ### Accumulating the loss and number of correct predictions in step\n",
        "            steps_valid_loss += loss.item()\n",
        "            _, predicted = torch.max(outputs.data, 1)\n",
        "            steps_correct_predictions += (predicted == labels).sum().item()\n",
        "\n",
        "        ## Measuring the epoch validation loss and accuracy\n",
        "        epoch_valid_loss = steps_valid_loss / len(valid_loader)\n",
        "        epoch_valid_loss_list.append(epoch_valid_loss)\n",
        "        epoch_valid_accuracy = steps_correct_predictions / len(valid_loader.dataset)\n",
        "        epoch_valid_accuracy_list.append(epoch_valid_accuracy)\n",
        "\n",
        "        ## Printing the logs\n",
        "        print(\n",
        "            f\"train loss: {epoch_train_loss:.2f} | \\\n",
        "    train accuracy: {epoch_train_accuracy:.2f}\"\n",
        "        )\n",
        "        print(\n",
        "            f\"valid loss: {epoch_valid_loss:.2f} | \\\n",
        "    valid accuracy: {epoch_valid_accuracy:.2f}\"\n",
        "        )\n",
        "\n",
        "        ## Saving the best model\n",
        "        if epoch == 1:\n",
        "            best_valid_loss = epoch_valid_loss\n",
        "            weight_name = f\"{model_name}_Epoch{epoch}_ACC={epoch_valid_accuracy}.pth\"\n",
        "            torch.save(model.state_dict(), os.path.join(model_save_dir, weight_name))\n",
        "        elif epoch_valid_loss < best_valid_loss:\n",
        "            weight_name = f\"{model_name}_Epoch{epoch}_ACC={epoch_valid_accuracy}.pth\"\n",
        "            torch.save(model.state_dict(), os.path.join(model_save_dir, weight_name))\n",
        "            best_valid_loss = epoch_valid_loss\n",
        "        scheduler.step()\n",
        "\n",
        "\n",
        "    # Printing the best model\n",
        "    print(f\"\\nTrainng was over. The best model was: {weight_name}\")\n",
        "\n",
        "    # Plotting the loss and accuracy curves\n",
        "    if plot_curves:\n",
        "        epoch_train_loss_list.insert(0, 0)\n",
        "        epoch_train_accuracy_list.insert(0, 0)\n",
        "        epoch_valid_loss_list.insert(0, 0)\n",
        "        epoch_valid_accuracy_list.insert(0, 0)\n",
        "        fig, axes = plt.subplots(1, 2, figsize=(10, 5))\n",
        "        axes[0].plot(epoch_train_loss_list, color=\"blue\", label=\"training\")\n",
        "        axes[0].plot(epoch_valid_loss_list, color=\"orange\", label=\"validation\")\n",
        "        axes[0].set_xlim(1, len(epoch_valid_loss_list) + 1)\n",
        "        axes[0].set_title(\"Loss curves\")\n",
        "        axes[0].legend()\n",
        "        axes[1].plot(epoch_train_accuracy_list, color=\"blue\", label=\"training\")\n",
        "        axes[1].plot(epoch_valid_accuracy_list, color=\"orange\", label=\"validation\")\n",
        "        axes[1].set_xlim(1, len(epoch_train_accuracy_list) + 1)\n",
        "        axes[1].set_title(\"Accuracy curves\")\n",
        "        axes[1].legend()\n",
        "\n",
        "    # Loading the best weights and returning the model\n",
        "    model.load_state_dict(torch.load(os.path.join(model_save_dir, weight_name)))\n",
        "    return model"
      ]
    },
    {
      "cell_type": "markdown",
      "metadata": {
        "id": "jrAhXo59vMiQ"
      },
      "source": [
        "Finally we are ready to train the model! We will just do 4 epochs and then see what the performance is."
      ]
    },
    {
      "cell_type": "code",
      "execution_count": 41,
      "metadata": {
        "id": "VStNbNg8OfOm",
        "outputId": "0bfdd3b5-eb7d-4a13-a557-c252a6c673d6",
        "colab": {
          "base_uri": "https://localhost:8080/",
          "height": 457,
          "referenced_widgets": [
            "bea13c7ba4b54ae39673aef5fa2e11cd",
            "da9e8b5b03ce4fb582229673d905aefa",
            "9b83ee0adc974108b119f63323e016ce",
            "f5f9337ac01549a0a8f587621909b716",
            "71e140f1780246b9bc395fe8f319183b",
            "076bfd7f3054478fbf3732a1dd56ef5c",
            "a6666a56c92f47fdaeb69d4169473b7e",
            "3bd10d44a36041ef9f7565dbf9fc15cf",
            "fa3d03528632465aaf79e1462d9137e9",
            "397e313a168141848b9cb82e8cb494ab",
            "255095c889274b639c916bc595b561db"
          ]
        }
      },
      "outputs": [
        {
          "output_type": "stream",
          "name": "stdout",
          "text": [
            "-------------------- \n",
            "Starting epoch: 1/4\n"
          ]
        },
        {
          "output_type": "display_data",
          "data": {
            "text/plain": [
              "  0%|          | 0/135 [00:00<?, ?batch/s]"
            ],
            "application/vnd.jupyter.widget-view+json": {
              "version_major": 2,
              "version_minor": 0,
              "model_id": "bea13c7ba4b54ae39673aef5fa2e11cd"
            }
          },
          "metadata": {}
        },
        {
          "output_type": "error",
          "ename": "ValueError",
          "evalue": "ignored",
          "traceback": [
            "\u001b[0;31m---------------------------------------------------------------------------\u001b[0m",
            "\u001b[0;31mValueError\u001b[0m                                Traceback (most recent call last)",
            "\u001b[0;32m<ipython-input-41-6d24bbea2cd8>\u001b[0m in \u001b[0;36m<module>\u001b[0;34m\u001b[0m\n\u001b[1;32m     20\u001b[0m \u001b[0;34m\u001b[0m\u001b[0m\n\u001b[1;32m     21\u001b[0m \u001b[0;34m\u001b[0m\u001b[0m\n\u001b[0;32m---> 22\u001b[0;31m model = train_classifier(\n\u001b[0m\u001b[1;32m     23\u001b[0m     \u001b[0mmodel\u001b[0m\u001b[0;34m=\u001b[0m\u001b[0mmodel\u001b[0m\u001b[0;34m,\u001b[0m\u001b[0;34m\u001b[0m\u001b[0;34m\u001b[0m\u001b[0m\n\u001b[1;32m     24\u001b[0m     \u001b[0mmodel_name\u001b[0m\u001b[0;34m=\u001b[0m\u001b[0;34m\"Test\"\u001b[0m\u001b[0;34m,\u001b[0m\u001b[0;34m\u001b[0m\u001b[0;34m\u001b[0m\u001b[0m\n",
            "\u001b[0;32m<ipython-input-40-ccfcf948fbbd>\u001b[0m in \u001b[0;36mtrain_classifier\u001b[0;34m(model, model_name, train_loader, valid_loader, criterion, optimizer, num_epochs, plot_curves, scheduler)\u001b[0m\n\u001b[1;32m     63\u001b[0m             \u001b[0;31m### Forward + backward + optimize\u001b[0m\u001b[0;34m\u001b[0m\u001b[0;34m\u001b[0m\u001b[0;34m\u001b[0m\u001b[0m\n\u001b[1;32m     64\u001b[0m             \u001b[0moutputs\u001b[0m \u001b[0;34m=\u001b[0m \u001b[0mmodel\u001b[0m\u001b[0;34m(\u001b[0m\u001b[0minputs\u001b[0m\u001b[0;34m)\u001b[0m\u001b[0;34m\u001b[0m\u001b[0;34m\u001b[0m\u001b[0m\n\u001b[0;32m---> 65\u001b[0;31m             \u001b[0mloss\u001b[0m \u001b[0;34m=\u001b[0m \u001b[0mcriterion\u001b[0m\u001b[0;34m(\u001b[0m\u001b[0moutputs\u001b[0m\u001b[0;34m,\u001b[0m \u001b[0mlabels\u001b[0m\u001b[0;34m)\u001b[0m\u001b[0;34m\u001b[0m\u001b[0;34m\u001b[0m\u001b[0m\n\u001b[0m\u001b[1;32m     66\u001b[0m             \u001b[0mloss\u001b[0m\u001b[0;34m.\u001b[0m\u001b[0mbackward\u001b[0m\u001b[0;34m(\u001b[0m\u001b[0;34m)\u001b[0m\u001b[0;34m\u001b[0m\u001b[0;34m\u001b[0m\u001b[0m\n\u001b[1;32m     67\u001b[0m             \u001b[0moptimizer\u001b[0m\u001b[0;34m.\u001b[0m\u001b[0mstep\u001b[0m\u001b[0;34m(\u001b[0m\u001b[0;34m)\u001b[0m\u001b[0;34m\u001b[0m\u001b[0;34m\u001b[0m\u001b[0m\n",
            "\u001b[0;32m/usr/local/lib/python3.8/dist-packages/torch/nn/modules/module.py\u001b[0m in \u001b[0;36m_call_impl\u001b[0;34m(self, *input, **kwargs)\u001b[0m\n\u001b[1;32m   1192\u001b[0m         if not (self._backward_hooks or self._forward_hooks or self._forward_pre_hooks or _global_backward_hooks\n\u001b[1;32m   1193\u001b[0m                 or _global_forward_hooks or _global_forward_pre_hooks):\n\u001b[0;32m-> 1194\u001b[0;31m             \u001b[0;32mreturn\u001b[0m \u001b[0mforward_call\u001b[0m\u001b[0;34m(\u001b[0m\u001b[0;34m*\u001b[0m\u001b[0minput\u001b[0m\u001b[0;34m,\u001b[0m \u001b[0;34m**\u001b[0m\u001b[0mkwargs\u001b[0m\u001b[0;34m)\u001b[0m\u001b[0;34m\u001b[0m\u001b[0;34m\u001b[0m\u001b[0m\n\u001b[0m\u001b[1;32m   1195\u001b[0m         \u001b[0;31m# Do not call functions when jit is used\u001b[0m\u001b[0;34m\u001b[0m\u001b[0;34m\u001b[0m\u001b[0;34m\u001b[0m\u001b[0m\n\u001b[1;32m   1196\u001b[0m         \u001b[0mfull_backward_hooks\u001b[0m\u001b[0;34m,\u001b[0m \u001b[0mnon_full_backward_hooks\u001b[0m \u001b[0;34m=\u001b[0m \u001b[0;34m[\u001b[0m\u001b[0;34m]\u001b[0m\u001b[0;34m,\u001b[0m \u001b[0;34m[\u001b[0m\u001b[0;34m]\u001b[0m\u001b[0;34m\u001b[0m\u001b[0;34m\u001b[0m\u001b[0m\n",
            "\u001b[0;32m/usr/local/lib/python3.8/dist-packages/torch/nn/modules/loss.py\u001b[0m in \u001b[0;36mforward\u001b[0;34m(self, input, target)\u001b[0m\n\u001b[1;32m   1172\u001b[0m \u001b[0;34m\u001b[0m\u001b[0m\n\u001b[1;32m   1173\u001b[0m     \u001b[0;32mdef\u001b[0m \u001b[0mforward\u001b[0m\u001b[0;34m(\u001b[0m\u001b[0mself\u001b[0m\u001b[0;34m,\u001b[0m \u001b[0minput\u001b[0m\u001b[0;34m:\u001b[0m \u001b[0mTensor\u001b[0m\u001b[0;34m,\u001b[0m \u001b[0mtarget\u001b[0m\u001b[0;34m:\u001b[0m \u001b[0mTensor\u001b[0m\u001b[0;34m)\u001b[0m \u001b[0;34m->\u001b[0m \u001b[0mTensor\u001b[0m\u001b[0;34m:\u001b[0m\u001b[0;34m\u001b[0m\u001b[0;34m\u001b[0m\u001b[0m\n\u001b[0;32m-> 1174\u001b[0;31m         return F.cross_entropy(input, target, weight=self.weight,\n\u001b[0m\u001b[1;32m   1175\u001b[0m                                \u001b[0mignore_index\u001b[0m\u001b[0;34m=\u001b[0m\u001b[0mself\u001b[0m\u001b[0;34m.\u001b[0m\u001b[0mignore_index\u001b[0m\u001b[0;34m,\u001b[0m \u001b[0mreduction\u001b[0m\u001b[0;34m=\u001b[0m\u001b[0mself\u001b[0m\u001b[0;34m.\u001b[0m\u001b[0mreduction\u001b[0m\u001b[0;34m,\u001b[0m\u001b[0;34m\u001b[0m\u001b[0;34m\u001b[0m\u001b[0m\n\u001b[1;32m   1176\u001b[0m                                label_smoothing=self.label_smoothing)\n",
            "\u001b[0;32m/usr/local/lib/python3.8/dist-packages/torch/nn/functional.py\u001b[0m in \u001b[0;36mcross_entropy\u001b[0;34m(input, target, weight, size_average, ignore_index, reduce, reduction, label_smoothing)\u001b[0m\n\u001b[1;32m   3010\u001b[0m     \"\"\"\n\u001b[1;32m   3011\u001b[0m     \u001b[0;32mif\u001b[0m \u001b[0mhas_torch_function_variadic\u001b[0m\u001b[0;34m(\u001b[0m\u001b[0minput\u001b[0m\u001b[0;34m,\u001b[0m \u001b[0mtarget\u001b[0m\u001b[0;34m,\u001b[0m \u001b[0mweight\u001b[0m\u001b[0;34m)\u001b[0m\u001b[0;34m:\u001b[0m\u001b[0;34m\u001b[0m\u001b[0;34m\u001b[0m\u001b[0m\n\u001b[0;32m-> 3012\u001b[0;31m         return handle_torch_function(\n\u001b[0m\u001b[1;32m   3013\u001b[0m             \u001b[0mcross_entropy\u001b[0m\u001b[0;34m,\u001b[0m\u001b[0;34m\u001b[0m\u001b[0;34m\u001b[0m\u001b[0m\n\u001b[1;32m   3014\u001b[0m             \u001b[0;34m(\u001b[0m\u001b[0minput\u001b[0m\u001b[0;34m,\u001b[0m \u001b[0mtarget\u001b[0m\u001b[0;34m,\u001b[0m \u001b[0mweight\u001b[0m\u001b[0;34m)\u001b[0m\u001b[0;34m,\u001b[0m\u001b[0;34m\u001b[0m\u001b[0;34m\u001b[0m\u001b[0m\n",
            "\u001b[0;32m/usr/local/lib/python3.8/dist-packages/torch/overrides.py\u001b[0m in \u001b[0;36mhandle_torch_function\u001b[0;34m(public_api, relevant_args, *args, **kwargs)\u001b[0m\n\u001b[1;32m   1532\u001b[0m         \u001b[0;31m# Use `public_api` instead of `implementation` so __torch_function__\u001b[0m\u001b[0;34m\u001b[0m\u001b[0;34m\u001b[0m\u001b[0;34m\u001b[0m\u001b[0m\n\u001b[1;32m   1533\u001b[0m         \u001b[0;31m# implementations can do equality/identity comparisons.\u001b[0m\u001b[0;34m\u001b[0m\u001b[0;34m\u001b[0m\u001b[0;34m\u001b[0m\u001b[0m\n\u001b[0;32m-> 1534\u001b[0;31m         \u001b[0mresult\u001b[0m \u001b[0;34m=\u001b[0m \u001b[0mtorch_func_method\u001b[0m\u001b[0;34m(\u001b[0m\u001b[0mpublic_api\u001b[0m\u001b[0;34m,\u001b[0m \u001b[0mtypes\u001b[0m\u001b[0;34m,\u001b[0m \u001b[0margs\u001b[0m\u001b[0;34m,\u001b[0m \u001b[0mkwargs\u001b[0m\u001b[0;34m)\u001b[0m\u001b[0;34m\u001b[0m\u001b[0;34m\u001b[0m\u001b[0m\n\u001b[0m\u001b[1;32m   1535\u001b[0m \u001b[0;34m\u001b[0m\u001b[0m\n\u001b[1;32m   1536\u001b[0m         \u001b[0;32mif\u001b[0m \u001b[0mresult\u001b[0m \u001b[0;32mis\u001b[0m \u001b[0;32mnot\u001b[0m \u001b[0mNotImplemented\u001b[0m\u001b[0;34m:\u001b[0m\u001b[0;34m\u001b[0m\u001b[0;34m\u001b[0m\u001b[0m\n",
            "\u001b[0;32m/usr/local/lib/python3.8/dist-packages/monai/data/meta_tensor.py\u001b[0m in \u001b[0;36m__torch_function__\u001b[0;34m(cls, func, types, args, kwargs)\u001b[0m\n\u001b[1;32m    266\u001b[0m         \u001b[0;32mif\u001b[0m \u001b[0mkwargs\u001b[0m \u001b[0;32mis\u001b[0m \u001b[0;32mNone\u001b[0m\u001b[0;34m:\u001b[0m\u001b[0;34m\u001b[0m\u001b[0;34m\u001b[0m\u001b[0m\n\u001b[1;32m    267\u001b[0m             \u001b[0mkwargs\u001b[0m \u001b[0;34m=\u001b[0m \u001b[0;34m{\u001b[0m\u001b[0;34m}\u001b[0m\u001b[0;34m\u001b[0m\u001b[0;34m\u001b[0m\u001b[0m\n\u001b[0;32m--> 268\u001b[0;31m         \u001b[0mret\u001b[0m \u001b[0;34m=\u001b[0m \u001b[0msuper\u001b[0m\u001b[0;34m(\u001b[0m\u001b[0;34m)\u001b[0m\u001b[0;34m.\u001b[0m\u001b[0m__torch_function__\u001b[0m\u001b[0;34m(\u001b[0m\u001b[0mfunc\u001b[0m\u001b[0;34m,\u001b[0m \u001b[0mtypes\u001b[0m\u001b[0;34m,\u001b[0m \u001b[0margs\u001b[0m\u001b[0;34m,\u001b[0m \u001b[0mkwargs\u001b[0m\u001b[0;34m)\u001b[0m\u001b[0;34m\u001b[0m\u001b[0;34m\u001b[0m\u001b[0m\n\u001b[0m\u001b[1;32m    269\u001b[0m         \u001b[0;31m# if `out` has been used as argument, metadata is not copied, nothing to do.\u001b[0m\u001b[0;34m\u001b[0m\u001b[0;34m\u001b[0m\u001b[0;34m\u001b[0m\u001b[0m\n\u001b[1;32m    270\u001b[0m         \u001b[0;31m# if \"out\" in kwargs:\u001b[0m\u001b[0;34m\u001b[0m\u001b[0;34m\u001b[0m\u001b[0;34m\u001b[0m\u001b[0m\n",
            "\u001b[0;32m/usr/local/lib/python3.8/dist-packages/torch/_tensor.py\u001b[0m in \u001b[0;36m__torch_function__\u001b[0;34m(cls, func, types, args, kwargs)\u001b[0m\n\u001b[1;32m   1277\u001b[0m \u001b[0;34m\u001b[0m\u001b[0m\n\u001b[1;32m   1278\u001b[0m         \u001b[0;32mwith\u001b[0m \u001b[0m_C\u001b[0m\u001b[0;34m.\u001b[0m\u001b[0mDisableTorchFunction\u001b[0m\u001b[0;34m(\u001b[0m\u001b[0;34m)\u001b[0m\u001b[0;34m:\u001b[0m\u001b[0;34m\u001b[0m\u001b[0;34m\u001b[0m\u001b[0m\n\u001b[0;32m-> 1279\u001b[0;31m             \u001b[0mret\u001b[0m \u001b[0;34m=\u001b[0m \u001b[0mfunc\u001b[0m\u001b[0;34m(\u001b[0m\u001b[0;34m*\u001b[0m\u001b[0margs\u001b[0m\u001b[0;34m,\u001b[0m \u001b[0;34m**\u001b[0m\u001b[0mkwargs\u001b[0m\u001b[0;34m)\u001b[0m\u001b[0;34m\u001b[0m\u001b[0;34m\u001b[0m\u001b[0m\n\u001b[0m\u001b[1;32m   1280\u001b[0m             \u001b[0;32mif\u001b[0m \u001b[0mfunc\u001b[0m \u001b[0;32min\u001b[0m \u001b[0mget_default_nowrap_functions\u001b[0m\u001b[0;34m(\u001b[0m\u001b[0;34m)\u001b[0m\u001b[0;34m:\u001b[0m\u001b[0;34m\u001b[0m\u001b[0;34m\u001b[0m\u001b[0m\n\u001b[1;32m   1281\u001b[0m                 \u001b[0;32mreturn\u001b[0m \u001b[0mret\u001b[0m\u001b[0;34m\u001b[0m\u001b[0;34m\u001b[0m\u001b[0m\n",
            "\u001b[0;32m/usr/local/lib/python3.8/dist-packages/torch/nn/functional.py\u001b[0m in \u001b[0;36mcross_entropy\u001b[0;34m(input, target, weight, size_average, ignore_index, reduce, reduction, label_smoothing)\u001b[0m\n\u001b[1;32m   3024\u001b[0m     \u001b[0;32mif\u001b[0m \u001b[0msize_average\u001b[0m \u001b[0;32mis\u001b[0m \u001b[0;32mnot\u001b[0m \u001b[0;32mNone\u001b[0m \u001b[0;32mor\u001b[0m \u001b[0mreduce\u001b[0m \u001b[0;32mis\u001b[0m \u001b[0;32mnot\u001b[0m \u001b[0;32mNone\u001b[0m\u001b[0;34m:\u001b[0m\u001b[0;34m\u001b[0m\u001b[0;34m\u001b[0m\u001b[0m\n\u001b[1;32m   3025\u001b[0m         \u001b[0mreduction\u001b[0m \u001b[0;34m=\u001b[0m \u001b[0m_Reduction\u001b[0m\u001b[0;34m.\u001b[0m\u001b[0mlegacy_get_string\u001b[0m\u001b[0;34m(\u001b[0m\u001b[0msize_average\u001b[0m\u001b[0;34m,\u001b[0m \u001b[0mreduce\u001b[0m\u001b[0;34m)\u001b[0m\u001b[0;34m\u001b[0m\u001b[0;34m\u001b[0m\u001b[0m\n\u001b[0;32m-> 3026\u001b[0;31m     \u001b[0;32mreturn\u001b[0m \u001b[0mtorch\u001b[0m\u001b[0;34m.\u001b[0m\u001b[0m_C\u001b[0m\u001b[0;34m.\u001b[0m\u001b[0m_nn\u001b[0m\u001b[0;34m.\u001b[0m\u001b[0mcross_entropy_loss\u001b[0m\u001b[0;34m(\u001b[0m\u001b[0minput\u001b[0m\u001b[0;34m,\u001b[0m \u001b[0mtarget\u001b[0m\u001b[0;34m,\u001b[0m \u001b[0mweight\u001b[0m\u001b[0;34m,\u001b[0m \u001b[0m_Reduction\u001b[0m\u001b[0;34m.\u001b[0m\u001b[0mget_enum\u001b[0m\u001b[0;34m(\u001b[0m\u001b[0mreduction\u001b[0m\u001b[0;34m)\u001b[0m\u001b[0;34m,\u001b[0m \u001b[0mignore_index\u001b[0m\u001b[0;34m,\u001b[0m \u001b[0mlabel_smoothing\u001b[0m\u001b[0;34m)\u001b[0m\u001b[0;34m\u001b[0m\u001b[0;34m\u001b[0m\u001b[0m\n\u001b[0m\u001b[1;32m   3027\u001b[0m \u001b[0;34m\u001b[0m\u001b[0m\n\u001b[1;32m   3028\u001b[0m \u001b[0;34m\u001b[0m\u001b[0m\n",
            "\u001b[0;31mValueError\u001b[0m: Expected input batch_size (2) to match target batch_size (4)."
          ]
        }
      ],
      "source": [
        "# Cell 13\n",
        "\n",
        "# Doing a base-line training with a non-trained and not-pretrained model\n",
        "#  You may need to vertically scroll within the code output window\n",
        "# in order to see all of the output.\n",
        "import time\n",
        "from torch.optim.lr_scheduler import StepLR\n",
        "from torch.optim.lr_scheduler import OneCycleLR\n",
        "\n",
        "\n",
        "\n",
        "criterion = torch.nn.CrossEntropyLoss()\n",
        "learning_rate = 0.01\n",
        "optimizer = torch.optim.SGD(model.parameters(), lr=learning_rate)\n",
        "num_epochs = 4\n",
        "scheduler = StepLR(optimizer, step_size = 4, gamma = 0.5)\n",
        "\n",
        "# the next line will time how long the line after it takes to complete\n",
        "t1 = time.perf_counter()\n",
        "\n",
        "\n",
        "model = train_classifier(\n",
        "    model=model,\n",
        "    model_name=\"Test\",\n",
        "    train_loader=train_loader,\n",
        "    valid_loader=valid_loader,\n",
        "    criterion=criterion,\n",
        "    optimizer=optimizer,\n",
        "    num_epochs=num_epochs,\n",
        "    plot_curves=True,\n",
        "    scheduler=scheduler\n",
        ")\n",
        "\n",
        "t2 = time.perf_counter()\n",
        "print('time taken to run:',t2-t1)\n"
      ]
    },
    {
      "cell_type": "code",
      "execution_count": null,
      "metadata": {
        "id": "s96uQASUCm6c"
      },
      "outputs": [],
      "source": [
        "# Cell 14\n",
        "\n",
        "# once again computing the confusion matrix, but now for our trained model\n",
        "\n",
        "_ = evaluate_model(model)"
      ]
    },
    {
      "cell_type": "markdown",
      "metadata": {
        "id": "Rhtrr-P5iVJB"
      },
      "source": [
        "You can see that with just a few epochs, we are getting very good results. Of course, a human would also pick this up pretty quickly, but it shows that for fairly obvious tasks, these tools can get results quickly."
      ]
    },
    {
      "cell_type": "markdown",
      "metadata": {
        "id": "FEITNLbWn4JV"
      },
      "source": [
        "My results on a T4\n",
        "<br>\n",
        "```markdown\n",
        "Model      Accuracy    Time(s)\n",
        "Resnet18      .86       27.     \n",
        "Resnet50      .83       38.2\n",
        "VGG16         .97       66.7\n",
        "```\n",
        "\n",
        "Does this make sense? The smallest model (ResNet18) ran the fastest and had good accuracy!!!  This goes to show that you can't just throw data at the most complex model and expect to get the best results.  But Why not????\n",
        "\n",
        "For each epoch, you can see that as the bar was going across to show training, it shows 68/68 when the epoch is done. Why is the number 68--what is that number?\n",
        "\n",
        "# Stop Here"
      ]
    },
    {
      "cell_type": "markdown",
      "source": [
        "# Part 2: Optimizers\n"
      ],
      "metadata": {
        "id": "aDyIa4caQIe2"
      }
    },
    {
      "cell_type": "markdown",
      "source": [
        "Now we will try a few different optimizers so you can see how they compare. Feel free to experiement here--this is just a starting point!!\n",
        "A list of the optimizers that are built into PyTorch and their parameters is here:\n",
        "https://pytorch.org/docs/stable/optim.html\n"
      ],
      "metadata": {
        "id": "fiTNWOoGQmiy"
      }
    },
    {
      "cell_type": "code",
      "source": [
        "# Cell 15\n",
        "\n",
        "criterion = torch.nn.CrossEntropyLoss()\n",
        "\n",
        "\n",
        "optimizer_SGD = torch.optim.SGD(model.parameters(), lr=0.01, momentum=0.9)\n",
        "\n",
        "\n",
        "num_epochs = 4\n",
        "# the next line will time how long the line after it takes to complete\n",
        "\n",
        "t1 = time.perf_counter()\n",
        "\n",
        "print (\"SGD\")\n",
        "model = train_classifier(\n",
        "    model=model,\n",
        "    model_name=MyModel,\n",
        "    train_loader=train_loader,\n",
        "    valid_loader=valid_loader,\n",
        "    criterion=criterion,\n",
        "    optimizer=optimizer_SGD,\n",
        "    num_epochs=num_epochs,\n",
        "    plot_curves=True,\n",
        "    scheduler=scheduler\n",
        ")\n",
        "\n",
        "t2 = time.perf_counter()\n",
        "print('time taken to run:',t2-t1)\n",
        "print (50*'-')\n",
        "\n"
      ],
      "metadata": {
        "id": "ZBSZBUB3QnA-"
      },
      "execution_count": null,
      "outputs": []
    },
    {
      "cell_type": "code",
      "source": [
        "# Cell 16\n",
        "model = build_model(arch=\"resnet18\")\n",
        "optimizer = torch.optim.RMSprop(model.parameters(), lr=0.0001, alpha=0.99, eps=1e-08, weight_decay=0, momentum=0)\n",
        "\n",
        "t1 = time.perf_counter()\n",
        "\n",
        "print (\"RMS Prop\")\n",
        "model = train_classifier(\n",
        "    model=model,\n",
        "    model_name=MyModel,\n",
        "    train_loader=train_loader,\n",
        "    valid_loader=valid_loader,\n",
        "    criterion=criterion,\n",
        "    optimizer=optimizer,\n",
        "    num_epochs=num_epochs,\n",
        "    plot_curves=True,\n",
        "    scheduler=scheduler\n",
        ")\n",
        "\n",
        "t2 = time.perf_counter()\n",
        "print('time taken to run:',t2-t1)\n"
      ],
      "metadata": {
        "id": "nCzsc8OaTklV"
      },
      "execution_count": null,
      "outputs": []
    },
    {
      "cell_type": "code",
      "source": [
        "# Cell 17\n",
        "model = build_model(arch=\"resnet18\")\n",
        "optimizer = torch.optim.Adam(model.parameters(), lr=0.0001)\n",
        "\n",
        "\n",
        "t1 = time.perf_counter()\n",
        "\n",
        "print (\"Adam\")\n",
        "model = train_classifier(\n",
        "    model=model,\n",
        "    model_name=MyModel,\n",
        "    train_loader=train_loader,\n",
        "    valid_loader=valid_loader,\n",
        "    criterion=criterion,\n",
        "    optimizer=optimizer,\n",
        "    num_epochs=num_epochs,\n",
        "    plot_curves=True,\n",
        "    scheduler=scheduler\n",
        ")\n",
        "\n",
        "t2 = time.perf_counter()\n",
        "print('time taken to run:',t2-t1)\n"
      ],
      "metadata": {
        "id": "MSVCu0tDTy3-"
      },
      "execution_count": null,
      "outputs": []
    },
    {
      "cell_type": "markdown",
      "source": [
        "** Adam seems to be a clear winner with very good results in the very first Epoch! This is often the case, which is why Adam is a popular optimizer.\n",
        "\n",
        "Now lets look at learning rate scehdulers. We will switch back to SGD so the impact is a bit more clear.\n",
        "Choices for learning rate schedulers is also found on that page linked above, about half-way down. Some options are: StepLR, CoseineAnnealingLR, CyclicLR, OneCycleLR, CosineAnnealingWarmRestarts"
      ],
      "metadata": {
        "id": "oui4ut8bU7a-"
      }
    },
    {
      "cell_type": "code",
      "source": [
        "# Cell 18\n",
        "\n",
        "model = build_model(arch=\"resnet18\")\n",
        "\n",
        "# StepLR reduces the LR by a multiplicative factor\n",
        "scheduler = StepLR(optimizer, \n",
        "                   step_size = 4, # Period of learning rate decay\n",
        "                   gamma = 0.5) # Multiplicative factor of learning rate decay\n",
        "\n",
        "\n",
        "optimizer = torch.optim.RMSprop(model.parameters(), lr=0.0001, alpha=0.99, eps=1e-08, weight_decay=0, momentum=0)\n",
        "t1 = time.perf_counter()\n",
        "\n",
        "\n",
        "model = train_classifier(\n",
        "    model=model,\n",
        "    model_name=MyModel,\n",
        "    train_loader=train_loader,\n",
        "    valid_loader=valid_loader,\n",
        "    criterion=criterion,\n",
        "    optimizer=optimizer,\n",
        "    num_epochs=num_epochs,\n",
        "    plot_curves=True,\n",
        "    scheduler=scheduler\n",
        ")\n",
        "\n",
        "t2 = time.perf_counter()\n",
        "print('time taken to run:',t2-t1)\n"
      ],
      "metadata": {
        "id": "zl8lcKchURcS"
      },
      "execution_count": null,
      "outputs": []
    },
    {
      "cell_type": "code",
      "source": [
        "# Cell 19\n",
        "\n",
        "model = build_model(arch=\"resnet18\")\n",
        "# need to recreate the optimizer so that there aren't already values there...\n",
        "optimizer = torch.optim.RMSprop(model.parameters(), lr=0.0001, alpha=0.99, eps=1e-08, weight_decay=0, momentum=0)\n",
        "\n",
        "# this uses the cosine function to change the LR from low to high to low\n",
        "scheduler = torch.optim.lr_scheduler.CyclicLR(optimizer, \n",
        "                       base_lr = 1e-4, # Upper learning rate boundaries in the cycle for each parameter group\n",
        "                       max_lr = 1e-3) # Upper learning rate boundaries in the cycle for each parameter group\n",
        "\n",
        "t1 = time.perf_counter()\n",
        "\n",
        "\n",
        "model = train_classifier(\n",
        "    model=model,\n",
        "    model_name=MyModel,\n",
        "    train_loader=train_loader,\n",
        "    valid_loader=valid_loader,\n",
        "    criterion=criterion,\n",
        "    optimizer=optimizer,\n",
        "    num_epochs=num_epochs,\n",
        "    plot_curves=True,\n",
        "    scheduler=scheduler\n",
        ")\n",
        "\n",
        "t2 = time.perf_counter()\n",
        "print('time taken to run:',t2-t1)\n",
        "\n"
      ],
      "metadata": {
        "id": "sgMwKAd_VfS2"
      },
      "execution_count": null,
      "outputs": []
    },
    {
      "cell_type": "markdown",
      "source": [
        "Please experiement with different values above.\n",
        "Becuase of time, we have a rather simple problem with few examples and thus we get good results quite quickly. \n",
        "But in the real world, you may get a benefit from experimenting with different optimizers and different learning rates and schedulers.\n",
        "If there was 1 best optimizer or 1 best lr_scheduler, there wouldn't be lots of choices...\n",
        "\n",
        "# End Part 2 on Optimizers here!\n"
      ],
      "metadata": {
        "id": "kmvwnA9NaZKT"
      }
    },
    {
      "cell_type": "markdown",
      "source": [
        "#Part 3: Cost Functions (Loss Functions)\n",
        "Here we will experiment with different cost functions. There is not quite such a large range of cost functions as optimizers, and the right cost function is rather specific to a task: You shouldn't use a Dice Score for a classification task!\n"
      ],
      "metadata": {
        "id": "IJ279ki8bkGb"
      }
    },
    {
      "cell_type": "markdown",
      "source": [
        "In line 8 of Cell 13, we set the loss function as:\n",
        "criterion = torch.nn.CrossEntropyLoss()\n",
        "\n",
        "Lets start by setting the baseline performance again but then we will try a few other cost functions\n"
      ],
      "metadata": {
        "id": "tvbOuOTrdL0C"
      }
    },
    {
      "cell_type": "code",
      "source": [
        "# Cell 20\n",
        "\n",
        "model = build_model(arch=\"resnet18\")\n",
        "# baseline performance\n",
        "criterion = torch.nn.CrossEntropyLoss()\n",
        "learning_rate = 0.0001\n",
        "optimizer = torch.optim.SGD(model.parameters(), lr=learning_rate)\n",
        "num_epochs = 4\n",
        "# the next line will time how long the line after it takes to complete\n",
        "\n",
        "t1 = time.perf_counter()\n",
        "\n",
        "\n",
        "model = train_classifier(\n",
        "    model=model,\n",
        "    model_name=MyModel,\n",
        "    train_loader=train_loader,\n",
        "    valid_loader=valid_loader,\n",
        "    criterion=criterion,\n",
        "    optimizer=optimizer,\n",
        "    num_epochs=num_epochs,\n",
        "    plot_curves=True,\n",
        "    scheduler=scheduler\n",
        ")\n",
        "\n",
        "t2 = time.perf_counter()\n",
        "print('time taken to run:',t2-t1)"
      ],
      "metadata": {
        "id": "rhfWuu9ha2jV"
      },
      "execution_count": null,
      "outputs": []
    },
    {
      "cell_type": "markdown",
      "source": [
        "Just as there are many options for optimizers, there are many options for loss (cost) functions. These are listed on the pytorch page here:\n",
        "https://pytorch.org/docs/stable/nn.html#loss-functions\n",
        "\n",
        "Unfortunately using simpler loss functions like L1Loss or MSELoss is not easily compatible with how we defined our trainer above. But most other cost functions work."
      ],
      "metadata": {
        "id": "basUXiy_i76U"
      }
    },
    {
      "cell_type": "code",
      "source": [
        "# Cell 21\n",
        "\n",
        "model = build_model(arch=\"resnet18\")\n",
        "criterion = torch.nn.NLLLoss()   # Negative Log Likelihood loss\n",
        "learning_rate = 0.0001\n",
        "optimizer = torch.optim.SGD(model.parameters(), lr=learning_rate)\n",
        "num_epochs = 4\n",
        "\n",
        "t1 = time.perf_counter()\n",
        "\n",
        "\n",
        "model = train_classifier(\n",
        "    model=model,\n",
        "    model_name=MyModel,\n",
        "    train_loader=train_loader,\n",
        "    valid_loader=valid_loader,\n",
        "    criterion=criterion,\n",
        "    optimizer=optimizer,\n",
        "    num_epochs=num_epochs,\n",
        "    plot_curves=True,\n",
        "    scheduler=scheduler\n",
        ")\n",
        "\n",
        "t2 = time.perf_counter()\n",
        "print('time taken to run:',t2-t1)\n"
      ],
      "metadata": {
        "id": "hSKbNM9odXX0"
      },
      "execution_count": null,
      "outputs": []
    },
    {
      "cell_type": "markdown",
      "source": [
        "Wow--most times, the performance degrades with more epochs! How can that happen?\n"
      ],
      "metadata": {
        "id": "gBOvofYXk74I"
      }
    },
    {
      "cell_type": "markdown",
      "source": [
        "# Extra Credit\n",
        "Rewrite the dataloader (Cell #6) and the classifier to classify all 6 different types of images!  \n",
        "I will get you started on the dataloader"
      ],
      "metadata": {
        "id": "aJI_QOv5nKE4"
      }
    },
    {
      "cell_type": "code",
      "source": [
        "# Cell 22\n",
        "img_classes = ['CTAbd', 'CTChest', 'CTHead', 'CXR', 'MRBrain', 'MRBreast']\n",
        "\n",
        "def collect_imageinfo_list(images_dirpath: str) -> List:\n",
        "    \"\"\"\n",
        "    Return a list of information tuples for all images, where each information\n",
        "    tuple includes the associated path, label, and set for each image.\n",
        "    Parameters:\n",
        "      - images_dirpath (str): Path to the directory including all images.\n",
        "      - imageinfo_list (List): a list of (file_path, file_label, file_set)\n",
        "      for each image file.\n",
        "    \"\"\"\n",
        "    imageinfo_list = list()\n",
        "    for root, dirs, files in os.walk(images_dirpath):\n",
        "        for dir in dirs:\n",
        "            if dir in img_classes:\n",
        "                dir_path = os.path.join(root,dir)\n",
        "                flist = os.listdir(dir_path)\n",
        "                for file in flist:\n",
        "                    file_path = os.path.join(dir_path, file)\n",
        "                    print (file_path)\n",
        "                    if file.lower().endswith(\".jpeg\") or file.lower().endswith(\".jpg\"):\n",
        "                        file_set = \"TEST\" if \"9.jpg\" in file else \"TRAIN\"  # simple way to get 10% as test\n",
        "                        imageinfo_list.append((file_path, dir, file_set))\n",
        "    return imageinfo_list\n",
        "\n",
        "\n",
        "imageinfo_list = collect_imageinfo_list(\".\")  # we are working from the current directory\n",
        "\n",
        "train_imageinfo_list = [\n",
        "    imageinfo for imageinfo in imageinfo_list if imageinfo[2] == \"TRAIN\"\n",
        "]\n",
        "train_mrbain_count = len(\n",
        "    [imageinfo for imageinfo in train_imageinfo_list if imageinfo[1] == \"MRBrain\"]\n",
        ")\n",
        "train_ctbrain_count = len(\n",
        "    [imageinfo for imageinfo in train_imageinfo_list if imageinfo[1] == \"CTHead\"]\n",
        ")\n",
        "test_imageinfo_list = [\n",
        "    imageinfo for imageinfo in imageinfo_list if imageinfo[2] == \"TEST\"\n",
        "]\n",
        "test_mrbain_count = len(\n",
        "    [imageinfo for imageinfo in test_imageinfo_list if imageinfo[1] == \"MRBrain\"]\n",
        ")\n",
        "test_ctbrain_count = len(\n",
        "    [imageinfo for imageinfo in test_imageinfo_list if imageinfo[1] == \"CTHead\"]\n",
        ")\n",
        "train_ctabd_count = len(\n",
        "    [imageinfo for imageinfo in train_imageinfo_list if imageinfo[1] == \"CTAbd\"]\n",
        ")\n",
        "test_ctabd_count = len(\n",
        "    [imageinfo for imageinfo in train_imageinfo_list if imageinfo[1] == \"CTAbd\"]\n",
        ")\n",
        "train_ctchest_count = len(\n",
        "    [imageinfo for imageinfo in train_imageinfo_list if imageinfo[1] == \"CTChest\"]\n",
        ")\n",
        "test_ctchest_count = len(\n",
        "    [imageinfo for imageinfo in train_imageinfo_list if imageinfo[1] == \"CTChest\"]\n",
        ")\n",
        "train_cxr_count = len(\n",
        "    [imageinfo for imageinfo in train_imageinfo_list if imageinfo[1] == \"CXR\"]\n",
        ")\n",
        "test_cxr_count = len(\n",
        "    [imageinfo for imageinfo in train_imageinfo_list if imageinfo[1] == \"CXR\"]\n",
        ")\n",
        "train_mrbreast_count = len(\n",
        "    [imageinfo for imageinfo in train_imageinfo_list if imageinfo[1] == \"MRBreast\"]\n",
        ")\n",
        "test_mrbreast_count = len(\n",
        "    [imageinfo for imageinfo in train_imageinfo_list if imageinfo[1] == \"MRBreast\"]\n",
        ")\n",
        "\n",
        "\n",
        "print(\n",
        "    f\"Number of images in the training set: {len(train_imageinfo_list)} --> \\\n",
        "MRBrain: {train_mrbain_count} - CTHead: {train_ctbrain_count} - CTAbd: {train_ctabd_count} - CXR: {train_cxr_count} - \"\n",
        ")\n",
        "print(\n",
        "    f\"Number of images in the test set: {len(test_imageinfo_list)} --> \\\n",
        "MRBrain: {test_mrbain_count} - CTHead: {test_ctbrain_count}\"\n",
        ")"
      ],
      "metadata": {
        "id": "dvfAP3uqnaHl"
      },
      "execution_count": null,
      "outputs": []
    },
    {
      "cell_type": "code",
      "source": [
        "# Cell 7\n",
        "\n",
        "# Plotting sample images from the original data\n",
        "import matplotlib.pyplot as plt\n",
        "from skimage.io import imread\n",
        "\n",
        "def plot_sample_images():\n",
        "    \"\"\"\n",
        "    Plot 9 sample images from the imaging dataset, while printing their\n",
        "    associated labels and sets.\n",
        "    \"\"\"\n",
        "    fig, axes = plt.subplots(3, 3, figsize=(10, 8))\n",
        "    random_imagesinfo_items = random.choices(imageinfo_list, k=9)\n",
        "    for i, imageinfo in enumerate(random_imagesinfo_items):\n",
        "        image = imread(imageinfo[0])\n",
        "        axes[i // 3, i % 3].imshow(image, cmap=\"gray\")\n",
        "        axes[i // 3, i % 3].axis(\"off\")\n",
        "        axes[i // 3, i % 3].set_title(f\"{imageinfo[1]} - {imageinfo[2]} set\")\n",
        "    plt.show()\n",
        "\n",
        "\n",
        "plot_sample_images()"
      ],
      "metadata": {
        "id": "q1QSSUlco3gn"
      },
      "execution_count": null,
      "outputs": []
    }
  ],
  "metadata": {
    "accelerator": "GPU",
    "colab": {
      "provenance": [],
      "include_colab_link": true
    },
    "gpuClass": "standard",
    "kernelspec": {
      "display_name": "Python 3",
      "language": "python",
      "name": "python3"
    },
    "language_info": {
      "name": "python",
      "version": "3.9.10 | packaged by conda-forge | (main, Feb  1 2022, 21:27:43) \n[Clang 11.1.0 ]"
    },
    "vscode": {
      "interpreter": {
        "hash": "87be1874565868f243fc8343e26fde25251ac16e545aa1d945dc72cd48506e5c"
      }
    },
    "widgets": {
      "application/vnd.jupyter.widget-state+json": {
        "bea13c7ba4b54ae39673aef5fa2e11cd": {
          "model_module": "@jupyter-widgets/controls",
          "model_name": "HBoxModel",
          "model_module_version": "1.5.0",
          "state": {
            "_dom_classes": [],
            "_model_module": "@jupyter-widgets/controls",
            "_model_module_version": "1.5.0",
            "_model_name": "HBoxModel",
            "_view_count": null,
            "_view_module": "@jupyter-widgets/controls",
            "_view_module_version": "1.5.0",
            "_view_name": "HBoxView",
            "box_style": "",
            "children": [
              "IPY_MODEL_da9e8b5b03ce4fb582229673d905aefa",
              "IPY_MODEL_9b83ee0adc974108b119f63323e016ce",
              "IPY_MODEL_f5f9337ac01549a0a8f587621909b716"
            ],
            "layout": "IPY_MODEL_71e140f1780246b9bc395fe8f319183b"
          }
        },
        "da9e8b5b03ce4fb582229673d905aefa": {
          "model_module": "@jupyter-widgets/controls",
          "model_name": "HTMLModel",
          "model_module_version": "1.5.0",
          "state": {
            "_dom_classes": [],
            "_model_module": "@jupyter-widgets/controls",
            "_model_module_version": "1.5.0",
            "_model_name": "HTMLModel",
            "_view_count": null,
            "_view_module": "@jupyter-widgets/controls",
            "_view_module_version": "1.5.0",
            "_view_name": "HTMLView",
            "description": "",
            "description_tooltip": null,
            "layout": "IPY_MODEL_076bfd7f3054478fbf3732a1dd56ef5c",
            "placeholder": "​",
            "style": "IPY_MODEL_a6666a56c92f47fdaeb69d4169473b7e",
            "value": "  0%"
          }
        },
        "9b83ee0adc974108b119f63323e016ce": {
          "model_module": "@jupyter-widgets/controls",
          "model_name": "FloatProgressModel",
          "model_module_version": "1.5.0",
          "state": {
            "_dom_classes": [],
            "_model_module": "@jupyter-widgets/controls",
            "_model_module_version": "1.5.0",
            "_model_name": "FloatProgressModel",
            "_view_count": null,
            "_view_module": "@jupyter-widgets/controls",
            "_view_module_version": "1.5.0",
            "_view_name": "ProgressView",
            "bar_style": "danger",
            "description": "",
            "description_tooltip": null,
            "layout": "IPY_MODEL_3bd10d44a36041ef9f7565dbf9fc15cf",
            "max": 135,
            "min": 0,
            "orientation": "horizontal",
            "style": "IPY_MODEL_fa3d03528632465aaf79e1462d9137e9",
            "value": 0
          }
        },
        "f5f9337ac01549a0a8f587621909b716": {
          "model_module": "@jupyter-widgets/controls",
          "model_name": "HTMLModel",
          "model_module_version": "1.5.0",
          "state": {
            "_dom_classes": [],
            "_model_module": "@jupyter-widgets/controls",
            "_model_module_version": "1.5.0",
            "_model_name": "HTMLModel",
            "_view_count": null,
            "_view_module": "@jupyter-widgets/controls",
            "_view_module_version": "1.5.0",
            "_view_name": "HTMLView",
            "description": "",
            "description_tooltip": null,
            "layout": "IPY_MODEL_397e313a168141848b9cb82e8cb494ab",
            "placeholder": "​",
            "style": "IPY_MODEL_255095c889274b639c916bc595b561db",
            "value": " 0/135 [00:00&lt;?, ?batch/s]"
          }
        },
        "71e140f1780246b9bc395fe8f319183b": {
          "model_module": "@jupyter-widgets/base",
          "model_name": "LayoutModel",
          "model_module_version": "1.2.0",
          "state": {
            "_model_module": "@jupyter-widgets/base",
            "_model_module_version": "1.2.0",
            "_model_name": "LayoutModel",
            "_view_count": null,
            "_view_module": "@jupyter-widgets/base",
            "_view_module_version": "1.2.0",
            "_view_name": "LayoutView",
            "align_content": null,
            "align_items": null,
            "align_self": null,
            "border": null,
            "bottom": null,
            "display": null,
            "flex": null,
            "flex_flow": null,
            "grid_area": null,
            "grid_auto_columns": null,
            "grid_auto_flow": null,
            "grid_auto_rows": null,
            "grid_column": null,
            "grid_gap": null,
            "grid_row": null,
            "grid_template_areas": null,
            "grid_template_columns": null,
            "grid_template_rows": null,
            "height": null,
            "justify_content": null,
            "justify_items": null,
            "left": null,
            "margin": null,
            "max_height": null,
            "max_width": null,
            "min_height": null,
            "min_width": null,
            "object_fit": null,
            "object_position": null,
            "order": null,
            "overflow": null,
            "overflow_x": null,
            "overflow_y": null,
            "padding": null,
            "right": null,
            "top": null,
            "visibility": null,
            "width": null
          }
        },
        "076bfd7f3054478fbf3732a1dd56ef5c": {
          "model_module": "@jupyter-widgets/base",
          "model_name": "LayoutModel",
          "model_module_version": "1.2.0",
          "state": {
            "_model_module": "@jupyter-widgets/base",
            "_model_module_version": "1.2.0",
            "_model_name": "LayoutModel",
            "_view_count": null,
            "_view_module": "@jupyter-widgets/base",
            "_view_module_version": "1.2.0",
            "_view_name": "LayoutView",
            "align_content": null,
            "align_items": null,
            "align_self": null,
            "border": null,
            "bottom": null,
            "display": null,
            "flex": null,
            "flex_flow": null,
            "grid_area": null,
            "grid_auto_columns": null,
            "grid_auto_flow": null,
            "grid_auto_rows": null,
            "grid_column": null,
            "grid_gap": null,
            "grid_row": null,
            "grid_template_areas": null,
            "grid_template_columns": null,
            "grid_template_rows": null,
            "height": null,
            "justify_content": null,
            "justify_items": null,
            "left": null,
            "margin": null,
            "max_height": null,
            "max_width": null,
            "min_height": null,
            "min_width": null,
            "object_fit": null,
            "object_position": null,
            "order": null,
            "overflow": null,
            "overflow_x": null,
            "overflow_y": null,
            "padding": null,
            "right": null,
            "top": null,
            "visibility": null,
            "width": null
          }
        },
        "a6666a56c92f47fdaeb69d4169473b7e": {
          "model_module": "@jupyter-widgets/controls",
          "model_name": "DescriptionStyleModel",
          "model_module_version": "1.5.0",
          "state": {
            "_model_module": "@jupyter-widgets/controls",
            "_model_module_version": "1.5.0",
            "_model_name": "DescriptionStyleModel",
            "_view_count": null,
            "_view_module": "@jupyter-widgets/base",
            "_view_module_version": "1.2.0",
            "_view_name": "StyleView",
            "description_width": ""
          }
        },
        "3bd10d44a36041ef9f7565dbf9fc15cf": {
          "model_module": "@jupyter-widgets/base",
          "model_name": "LayoutModel",
          "model_module_version": "1.2.0",
          "state": {
            "_model_module": "@jupyter-widgets/base",
            "_model_module_version": "1.2.0",
            "_model_name": "LayoutModel",
            "_view_count": null,
            "_view_module": "@jupyter-widgets/base",
            "_view_module_version": "1.2.0",
            "_view_name": "LayoutView",
            "align_content": null,
            "align_items": null,
            "align_self": null,
            "border": null,
            "bottom": null,
            "display": null,
            "flex": null,
            "flex_flow": null,
            "grid_area": null,
            "grid_auto_columns": null,
            "grid_auto_flow": null,
            "grid_auto_rows": null,
            "grid_column": null,
            "grid_gap": null,
            "grid_row": null,
            "grid_template_areas": null,
            "grid_template_columns": null,
            "grid_template_rows": null,
            "height": null,
            "justify_content": null,
            "justify_items": null,
            "left": null,
            "margin": null,
            "max_height": null,
            "max_width": null,
            "min_height": null,
            "min_width": null,
            "object_fit": null,
            "object_position": null,
            "order": null,
            "overflow": null,
            "overflow_x": null,
            "overflow_y": null,
            "padding": null,
            "right": null,
            "top": null,
            "visibility": null,
            "width": null
          }
        },
        "fa3d03528632465aaf79e1462d9137e9": {
          "model_module": "@jupyter-widgets/controls",
          "model_name": "ProgressStyleModel",
          "model_module_version": "1.5.0",
          "state": {
            "_model_module": "@jupyter-widgets/controls",
            "_model_module_version": "1.5.0",
            "_model_name": "ProgressStyleModel",
            "_view_count": null,
            "_view_module": "@jupyter-widgets/base",
            "_view_module_version": "1.2.0",
            "_view_name": "StyleView",
            "bar_color": null,
            "description_width": ""
          }
        },
        "397e313a168141848b9cb82e8cb494ab": {
          "model_module": "@jupyter-widgets/base",
          "model_name": "LayoutModel",
          "model_module_version": "1.2.0",
          "state": {
            "_model_module": "@jupyter-widgets/base",
            "_model_module_version": "1.2.0",
            "_model_name": "LayoutModel",
            "_view_count": null,
            "_view_module": "@jupyter-widgets/base",
            "_view_module_version": "1.2.0",
            "_view_name": "LayoutView",
            "align_content": null,
            "align_items": null,
            "align_self": null,
            "border": null,
            "bottom": null,
            "display": null,
            "flex": null,
            "flex_flow": null,
            "grid_area": null,
            "grid_auto_columns": null,
            "grid_auto_flow": null,
            "grid_auto_rows": null,
            "grid_column": null,
            "grid_gap": null,
            "grid_row": null,
            "grid_template_areas": null,
            "grid_template_columns": null,
            "grid_template_rows": null,
            "height": null,
            "justify_content": null,
            "justify_items": null,
            "left": null,
            "margin": null,
            "max_height": null,
            "max_width": null,
            "min_height": null,
            "min_width": null,
            "object_fit": null,
            "object_position": null,
            "order": null,
            "overflow": null,
            "overflow_x": null,
            "overflow_y": null,
            "padding": null,
            "right": null,
            "top": null,
            "visibility": null,
            "width": null
          }
        },
        "255095c889274b639c916bc595b561db": {
          "model_module": "@jupyter-widgets/controls",
          "model_name": "DescriptionStyleModel",
          "model_module_version": "1.5.0",
          "state": {
            "_model_module": "@jupyter-widgets/controls",
            "_model_module_version": "1.5.0",
            "_model_name": "DescriptionStyleModel",
            "_view_count": null,
            "_view_module": "@jupyter-widgets/base",
            "_view_module_version": "1.2.0",
            "_view_name": "StyleView",
            "description_width": ""
          }
        }
      }
    }
  },
  "nbformat": 4,
  "nbformat_minor": 0
}