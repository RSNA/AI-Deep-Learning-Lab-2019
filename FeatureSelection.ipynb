{
  "cells": [
    {
      "cell_type": "markdown",
      "metadata": {
        "id": "VN0x-3rwPALD"
      },
      "source": [
        "First we need to get our data. Google colab comes with ah ousing data"
      ]
    },
    {
      "cell_type": "code",
      "execution_count": 1,
      "metadata": {
        "colab": {
          "base_uri": "https://localhost:8080/"
        },
        "id": "QU2f05csZPqd",
        "outputId": "f72b6319-101d-4638-c3c7-3291fac0ebb4",
        "vscode": {
          "languageId": "python"
        }
      },
      "outputs": [
        {
          "name": "stdout",
          "output_type": "stream",
          "text": [
            "--2023-01-10 16:38:19--  https://www.dropbox.com/s/19pisdoog2pmw3h/pima-indians-diabetes.csv?dl=0\n",
            "Resolving www.dropbox.com (www.dropbox.com)... 162.125.3.18, 2620:100:6018:18::a27d:312\n",
            "Connecting to www.dropbox.com (www.dropbox.com)|162.125.3.18|:443... connected.\n",
            "HTTP request sent, awaiting response... 302 Found\n",
            "Location: /s/raw/19pisdoog2pmw3h/pima-indians-diabetes.csv [following]\n",
            "--2023-01-10 16:38:20--  https://www.dropbox.com/s/raw/19pisdoog2pmw3h/pima-indians-diabetes.csv\n",
            "Reusing existing connection to www.dropbox.com:443.\n",
            "HTTP request sent, awaiting response... 302 Found\n",
            "Location: https://uc5c43ecb9ddd692d10ca103d70b.dl.dropboxusercontent.com/cd/0/inline/B0Ty2ZJD8aXNmuv7oFRuij7Nxp3xkO3QDsGgu7uKNhZGp9fT-Bt4Zh-SGLqlRSb6FyRAlSyjLn15Mc-BA-xf38xqD_VfhMRWZnAsFBn_p2h05l3GmcywUEsLkl1ieM3hMq7NRii7ZqUjuEeHg-FMzawCiw35N7IyOLzc72VFkYYgWg/file# [following]\n",
            "--2023-01-10 16:38:20--  https://uc5c43ecb9ddd692d10ca103d70b.dl.dropboxusercontent.com/cd/0/inline/B0Ty2ZJD8aXNmuv7oFRuij7Nxp3xkO3QDsGgu7uKNhZGp9fT-Bt4Zh-SGLqlRSb6FyRAlSyjLn15Mc-BA-xf38xqD_VfhMRWZnAsFBn_p2h05l3GmcywUEsLkl1ieM3hMq7NRii7ZqUjuEeHg-FMzawCiw35N7IyOLzc72VFkYYgWg/file\n",
            "Resolving uc5c43ecb9ddd692d10ca103d70b.dl.dropboxusercontent.com (uc5c43ecb9ddd692d10ca103d70b.dl.dropboxusercontent.com)... 162.125.3.15, 2620:100:6018:15::a27d:30f\n",
            "Connecting to uc5c43ecb9ddd692d10ca103d70b.dl.dropboxusercontent.com (uc5c43ecb9ddd692d10ca103d70b.dl.dropboxusercontent.com)|162.125.3.15|:443... connected.\n",
            "HTTP request sent, awaiting response... 200 OK\n",
            "Length: 23868 (23K) [text/plain]\n",
            "Saving to: ‘diabetes.csv’\n",
            "\n",
            "diabetes.csv        100%[===================>]  23.31K  --.-KB/s    in 0.008s  \n",
            "\n",
            "2023-01-10 16:38:20 (2.87 MB/s) - ‘diabetes.csv’ saved [23868/23868]\n",
            "\n"
          ]
        }
      ],
      "source": [
        "!wget -O diabetes.csv \"https://www.dropbox.com/s/19pisdoog2pmw3h/pima-indians-diabetes.csv?dl=0\"\n"
      ]
    },
    {
      "cell_type": "code",
      "execution_count": 2,
      "metadata": {
        "id": "HwdULv8jY78Q",
        "vscode": {
          "languageId": "python"
        }
      },
      "outputs": [],
      "source": [
        "import pandas as pd\n",
        "import numpy as np"
      ]
    },
    {
      "cell_type": "markdown",
      "metadata": {
        "id": "xrnlsx3yPeaK"
      },
      "source": [
        "Now we ***import*** two libraries that provide important data handling capabilities--first being **pandas**, which will read in a CSV (Comma Separated Values) file and use it to fill a **dataframe**. The file also has a first row which describes the data in each column. Pandas is 'smart' enough to recognize this. **Numpy** is a library for numerical computations on arrays.\n",
        "  The 'as' part of the import command allows us to use our own name for any module that we import. 'pd' and 'np' are very common abbreviations used for pandas and numpy.\n",
        "\n",
        "**Interesting Side Note: **  Numpy was written by former Mayo Graduate Student Travis Oliphant. https://en.wikipedia.org/wiki/Travis_Oliphant"
      ]
    },
    {
      "cell_type": "code",
      "execution_count": 3,
      "metadata": {
        "colab": {
          "base_uri": "https://localhost:8080/",
          "height": 455
        },
        "id": "7SvmUIleZibg",
        "outputId": "3096ffd1-5f4a-497a-f3d4-e78997d137ad",
        "vscode": {
          "languageId": "python"
        }
      },
      "outputs": [
        {
          "data": {
            "text/html": [
              "\n",
              "  <div id=\"df-cb8fdde2-3b47-4627-831e-cb685c6c81bf\">\n",
              "    <div class=\"colab-df-container\">\n",
              "      <div>\n",
              "<style scoped>\n",
              "    .dataframe tbody tr th:only-of-type {\n",
              "        vertical-align: middle;\n",
              "    }\n",
              "\n",
              "    .dataframe tbody tr th {\n",
              "        vertical-align: top;\n",
              "    }\n",
              "\n",
              "    .dataframe thead th {\n",
              "        text-align: right;\n",
              "    }\n",
              "</style>\n",
              "<table border=\"1\" class=\"dataframe\">\n",
              "  <thead>\n",
              "    <tr style=\"text-align: right;\">\n",
              "      <th></th>\n",
              "      <th>Glucose</th>\n",
              "      <th>BloodPressure</th>\n",
              "      <th>SkinThickness</th>\n",
              "      <th>Insulin</th>\n",
              "      <th>BMI</th>\n",
              "      <th>DiabetesPedigree</th>\n",
              "      <th>Age</th>\n",
              "      <th>Outcome</th>\n",
              "    </tr>\n",
              "    <tr>\n",
              "      <th>NumPregnancies</th>\n",
              "      <th></th>\n",
              "      <th></th>\n",
              "      <th></th>\n",
              "      <th></th>\n",
              "      <th></th>\n",
              "      <th></th>\n",
              "      <th></th>\n",
              "      <th></th>\n",
              "    </tr>\n",
              "  </thead>\n",
              "  <tbody>\n",
              "    <tr>\n",
              "      <th>6</th>\n",
              "      <td>148</td>\n",
              "      <td>72</td>\n",
              "      <td>35</td>\n",
              "      <td>0</td>\n",
              "      <td>33.6</td>\n",
              "      <td>0.627</td>\n",
              "      <td>50</td>\n",
              "      <td>1</td>\n",
              "    </tr>\n",
              "    <tr>\n",
              "      <th>1</th>\n",
              "      <td>85</td>\n",
              "      <td>66</td>\n",
              "      <td>29</td>\n",
              "      <td>0</td>\n",
              "      <td>26.6</td>\n",
              "      <td>0.351</td>\n",
              "      <td>31</td>\n",
              "      <td>0</td>\n",
              "    </tr>\n",
              "    <tr>\n",
              "      <th>8</th>\n",
              "      <td>183</td>\n",
              "      <td>64</td>\n",
              "      <td>0</td>\n",
              "      <td>0</td>\n",
              "      <td>23.3</td>\n",
              "      <td>0.672</td>\n",
              "      <td>32</td>\n",
              "      <td>1</td>\n",
              "    </tr>\n",
              "    <tr>\n",
              "      <th>1</th>\n",
              "      <td>89</td>\n",
              "      <td>66</td>\n",
              "      <td>23</td>\n",
              "      <td>94</td>\n",
              "      <td>28.1</td>\n",
              "      <td>0.167</td>\n",
              "      <td>21</td>\n",
              "      <td>0</td>\n",
              "    </tr>\n",
              "    <tr>\n",
              "      <th>0</th>\n",
              "      <td>137</td>\n",
              "      <td>40</td>\n",
              "      <td>35</td>\n",
              "      <td>168</td>\n",
              "      <td>43.1</td>\n",
              "      <td>2.288</td>\n",
              "      <td>33</td>\n",
              "      <td>1</td>\n",
              "    </tr>\n",
              "    <tr>\n",
              "      <th>...</th>\n",
              "      <td>...</td>\n",
              "      <td>...</td>\n",
              "      <td>...</td>\n",
              "      <td>...</td>\n",
              "      <td>...</td>\n",
              "      <td>...</td>\n",
              "      <td>...</td>\n",
              "      <td>...</td>\n",
              "    </tr>\n",
              "    <tr>\n",
              "      <th>10</th>\n",
              "      <td>101</td>\n",
              "      <td>76</td>\n",
              "      <td>48</td>\n",
              "      <td>180</td>\n",
              "      <td>32.9</td>\n",
              "      <td>0.171</td>\n",
              "      <td>63</td>\n",
              "      <td>0</td>\n",
              "    </tr>\n",
              "    <tr>\n",
              "      <th>2</th>\n",
              "      <td>122</td>\n",
              "      <td>70</td>\n",
              "      <td>27</td>\n",
              "      <td>0</td>\n",
              "      <td>36.8</td>\n",
              "      <td>0.340</td>\n",
              "      <td>27</td>\n",
              "      <td>0</td>\n",
              "    </tr>\n",
              "    <tr>\n",
              "      <th>5</th>\n",
              "      <td>121</td>\n",
              "      <td>72</td>\n",
              "      <td>23</td>\n",
              "      <td>112</td>\n",
              "      <td>26.2</td>\n",
              "      <td>0.245</td>\n",
              "      <td>30</td>\n",
              "      <td>0</td>\n",
              "    </tr>\n",
              "    <tr>\n",
              "      <th>1</th>\n",
              "      <td>126</td>\n",
              "      <td>60</td>\n",
              "      <td>0</td>\n",
              "      <td>0</td>\n",
              "      <td>30.1</td>\n",
              "      <td>0.349</td>\n",
              "      <td>47</td>\n",
              "      <td>1</td>\n",
              "    </tr>\n",
              "    <tr>\n",
              "      <th>1</th>\n",
              "      <td>93</td>\n",
              "      <td>70</td>\n",
              "      <td>31</td>\n",
              "      <td>0</td>\n",
              "      <td>30.4</td>\n",
              "      <td>0.315</td>\n",
              "      <td>23</td>\n",
              "      <td>0</td>\n",
              "    </tr>\n",
              "  </tbody>\n",
              "</table>\n",
              "<p>768 rows × 8 columns</p>\n",
              "</div>\n",
              "      <button class=\"colab-df-convert\" onclick=\"convertToInteractive('df-cb8fdde2-3b47-4627-831e-cb685c6c81bf')\"\n",
              "              title=\"Convert this dataframe to an interactive table.\"\n",
              "              style=\"display:none;\">\n",
              "        \n",
              "  <svg xmlns=\"http://www.w3.org/2000/svg\" height=\"24px\"viewBox=\"0 0 24 24\"\n",
              "       width=\"24px\">\n",
              "    <path d=\"M0 0h24v24H0V0z\" fill=\"none\"/>\n",
              "    <path d=\"M18.56 5.44l.94 2.06.94-2.06 2.06-.94-2.06-.94-.94-2.06-.94 2.06-2.06.94zm-11 1L8.5 8.5l.94-2.06 2.06-.94-2.06-.94L8.5 2.5l-.94 2.06-2.06.94zm10 10l.94 2.06.94-2.06 2.06-.94-2.06-.94-.94-2.06-.94 2.06-2.06.94z\"/><path d=\"M17.41 7.96l-1.37-1.37c-.4-.4-.92-.59-1.43-.59-.52 0-1.04.2-1.43.59L10.3 9.45l-7.72 7.72c-.78.78-.78 2.05 0 2.83L4 21.41c.39.39.9.59 1.41.59.51 0 1.02-.2 1.41-.59l7.78-7.78 2.81-2.81c.8-.78.8-2.07 0-2.86zM5.41 20L4 18.59l7.72-7.72 1.47 1.35L5.41 20z\"/>\n",
              "  </svg>\n",
              "      </button>\n",
              "      \n",
              "  <style>\n",
              "    .colab-df-container {\n",
              "      display:flex;\n",
              "      flex-wrap:wrap;\n",
              "      gap: 12px;\n",
              "    }\n",
              "\n",
              "    .colab-df-convert {\n",
              "      background-color: #E8F0FE;\n",
              "      border: none;\n",
              "      border-radius: 50%;\n",
              "      cursor: pointer;\n",
              "      display: none;\n",
              "      fill: #1967D2;\n",
              "      height: 32px;\n",
              "      padding: 0 0 0 0;\n",
              "      width: 32px;\n",
              "    }\n",
              "\n",
              "    .colab-df-convert:hover {\n",
              "      background-color: #E2EBFA;\n",
              "      box-shadow: 0px 1px 2px rgba(60, 64, 67, 0.3), 0px 1px 3px 1px rgba(60, 64, 67, 0.15);\n",
              "      fill: #174EA6;\n",
              "    }\n",
              "\n",
              "    [theme=dark] .colab-df-convert {\n",
              "      background-color: #3B4455;\n",
              "      fill: #D2E3FC;\n",
              "    }\n",
              "\n",
              "    [theme=dark] .colab-df-convert:hover {\n",
              "      background-color: #434B5C;\n",
              "      box-shadow: 0px 1px 3px 1px rgba(0, 0, 0, 0.15);\n",
              "      filter: drop-shadow(0px 1px 2px rgba(0, 0, 0, 0.3));\n",
              "      fill: #FFFFFF;\n",
              "    }\n",
              "  </style>\n",
              "\n",
              "      <script>\n",
              "        const buttonEl =\n",
              "          document.querySelector('#df-cb8fdde2-3b47-4627-831e-cb685c6c81bf button.colab-df-convert');\n",
              "        buttonEl.style.display =\n",
              "          google.colab.kernel.accessAllowed ? 'block' : 'none';\n",
              "\n",
              "        async function convertToInteractive(key) {\n",
              "          const element = document.querySelector('#df-cb8fdde2-3b47-4627-831e-cb685c6c81bf');\n",
              "          const dataTable =\n",
              "            await google.colab.kernel.invokeFunction('convertToInteractive',\n",
              "                                                     [key], {});\n",
              "          if (!dataTable) return;\n",
              "\n",
              "          const docLinkHtml = 'Like what you see? Visit the ' +\n",
              "            '<a target=\"_blank\" href=https://colab.research.google.com/notebooks/data_table.ipynb>data table notebook</a>'\n",
              "            + ' to learn more about interactive tables.';\n",
              "          element.innerHTML = '';\n",
              "          dataTable['output_type'] = 'display_data';\n",
              "          await google.colab.output.renderOutput(dataTable, element);\n",
              "          const docLink = document.createElement('div');\n",
              "          docLink.innerHTML = docLinkHtml;\n",
              "          element.appendChild(docLink);\n",
              "        }\n",
              "      </script>\n",
              "    </div>\n",
              "  </div>\n",
              "  "
            ],
            "text/plain": [
              "                Glucose  BloodPressure  SkinThickness  Insulin   BMI  \\\n",
              "NumPregnancies                                                         \n",
              "6                   148             72             35        0  33.6   \n",
              "1                    85             66             29        0  26.6   \n",
              "8                   183             64              0        0  23.3   \n",
              "1                    89             66             23       94  28.1   \n",
              "0                   137             40             35      168  43.1   \n",
              "...                 ...            ...            ...      ...   ...   \n",
              "10                  101             76             48      180  32.9   \n",
              "2                   122             70             27        0  36.8   \n",
              "5                   121             72             23      112  26.2   \n",
              "1                   126             60              0        0  30.1   \n",
              "1                    93             70             31        0  30.4   \n",
              "\n",
              "                DiabetesPedigree  Age  Outcome  \n",
              "NumPregnancies                                  \n",
              "6                          0.627   50        1  \n",
              "1                          0.351   31        0  \n",
              "8                          0.672   32        1  \n",
              "1                          0.167   21        0  \n",
              "0                          2.288   33        1  \n",
              "...                          ...  ...      ...  \n",
              "10                         0.171   63        0  \n",
              "2                          0.340   27        0  \n",
              "5                          0.245   30        0  \n",
              "1                          0.349   47        1  \n",
              "1                          0.315   23        0  \n",
              "\n",
              "[768 rows x 8 columns]"
            ]
          },
          "execution_count": 3,
          "metadata": {},
          "output_type": "execute_result"
        }
      ],
      "source": [
        "data = pd.read_csv(\"diabetes.csv\", index_col=0)\n",
        "# print out the first few lines to make sure we got the data and that it looks reasonable\n",
        "\n",
        "data\n"
      ]
    },
    {
      "cell_type": "markdown",
      "metadata": {
        "id": "DxpdF7b8NY24"
      },
      "source": [
        "The last line here--'data'--is what prineted out the first few and the last few lines in the pandas dataframe called 'data'. This is a unique jupyter notebook function--if you just have a variable name, it will print it out. But it only is the last variable.  Remember up above you defined the variable 'a'? Add 'a' to line 5 and run the cell again. Now the data dataframe will not be printed, and instead, '10' will be printed since that is the value of a. This will not work in 'true' Python code.\n",
        "\n",
        "\n",
        "Next we import modules for visualizing data and making plots. \n",
        "Here will do a quick plot to see the correlation coefficients of the various features in the data. "
      ]
    },
    {
      "cell_type": "code",
      "execution_count": 4,
      "metadata": {
        "colab": {
          "base_uri": "https://localhost:8080/",
          "height": 673
        },
        "id": "E65snQJYaEce",
        "outputId": "973d51b5-4d40-4060-a050-641051d7f52f",
        "vscode": {
          "languageId": "python"
        }
      },
      "outputs": [
        {
          "data": {
            "image/png": "[encoded data removed]",
            "text/plain": [
              "<Figure size 864x720 with 2 Axes>"
            ]
          },
          "metadata": {
            "needs_background": "light"
          },
          "output_type": "display_data"
        }
      ],
      "source": [
        "import matplotlib\n",
        "import matplotlib.pyplot as plt\n",
        "import seaborn as sns\n",
        "\n",
        "#Lets look at how much the various features are correlated using Pearson Correlation\n",
        "plt.figure(figsize=(12,10))\n",
        "cor = data.corr()\n",
        "sns.heatmap(cor, annot=True, cmap=plt.cm.Reds)\n",
        "plt.show()"
      ]
    },
    {
      "cell_type": "markdown",
      "metadata": {
        "id": "ecDU_SWerUzn"
      },
      "source": [
        "To do machine learning, we must convert the dataframe into a set of feature vectors (usually called 'X') and the class or label which we will call 'y', which in our case is 1-diabetic 0-not diabetic.\n"
      ]
    },
    {
      "cell_type": "code",
      "execution_count": 5,
      "metadata": {
        "colab": {
          "base_uri": "https://localhost:8080/"
        },
        "id": "zFAcUoporTc5",
        "outputId": "1ba67de8-4ea0-477c-e438-de489ece53ff",
        "vscode": {
          "languageId": "python"
        }
      },
      "outputs": [
        {
          "data": {
            "text/plain": [
              "(768, 7)"
            ]
          },
          "execution_count": 5,
          "metadata": {},
          "output_type": "execute_result"
        }
      ],
      "source": [
        "array = data.values\n",
        "X = array[:,0:7]\n",
        "y = array[:,7]\n",
        "\n",
        "#print out the shape of the X feature array--number of features and number of rows/examples\n",
        "X.shape"
      ]
    },
    {
      "cell_type": "markdown",
      "metadata": {
        "id": "WxTZpUi_1mZr"
      },
      "source": [
        "Note it also has 768 rows (note this is rows/cols not x,y). But there is 1 less column. Why is there 1 less and how did that happen?\n",
        "\n",
        "\n",
        "Now with our data organized, we can try training a classifier. We will start with that to show the impact of feature selection. We will use a Rdige Classifier, which is essentially a linar regression and the regression lines splits the classes.  I include code for a support vector machine (SVM) which is a popular traditional machine learning method that is much more powerful. We also need to split data into a set used to train the SVM, and a hold-out set to see how well it worked (the 'test' set). \n",
        "\n",
        "sklearn is a very comprehence library of machine learning algorithms. (https://scikit-learn.org/stable/)  There are other scikit libraries such as for image manipulation, statistics, engineering, etc. SciPy.org is the host site.\n"
      ]
    },
    {
      "cell_type": "code",
      "execution_count": 6,
      "metadata": {
        "colab": {
          "base_uri": "https://localhost:8080/"
        },
        "id": "pOXYnmET2Tzn",
        "outputId": "58869d49-8520-4f5a-a57b-efa2904c841a",
        "vscode": {
          "languageId": "python"
        }
      },
      "outputs": [
        {
          "name": "stdout",
          "output_type": "stream",
          "text": [
            "Baseline accuracy with all features is 0.7445887445887446\n"
          ]
        }
      ],
      "source": [
        "# Import train_test_split function\n",
        "from sklearn.model_selection import train_test_split\n",
        "from sklearn import metrics\n",
        "from sklearn.linear_model import RidgeClassifier\n",
        "from sklearn import svm\n",
        "\n",
        "# define a function that will train a classifier and then measure performance\n",
        "\n",
        "def train_and_measure_performance(X, y):\n",
        "    X_train, X_test, y_train, y_test = train_test_split(X, y, test_size=0.3, random_state=109) # 70% training and 30% test\n",
        "    #Create a ridge Classifier\n",
        "    clf = RidgeClassifier()\n",
        "#    clf = svm.SVC(kernel='linear') # Linear Kernel\n",
        "\n",
        "    #Train the model using the training sets\n",
        "    clf.fit(X_train, y_train)\n",
        "\n",
        "    #Predict the response for test dataset\n",
        "    y_pred = clf.predict(X_test)\n",
        "    # Model Accuracy: how often is the classifier correct?\n",
        "    return (metrics.accuracy_score(y_test, y_pred))\n",
        "\n",
        "baseline_performance = train_and_measure_performance(X, y)\n",
        "print (f'Baseline accuracy with all features is {baseline_performance}')"
      ]
    },
    {
      "cell_type": "markdown",
      "metadata": {
        "id": "DU9xp04Nrmhr"
      },
      "source": [
        "Now we will use sklearn feature selection methods. We will start with filter method--Chi Square"
      ]
    },
    {
      "cell_type": "code",
      "execution_count": 7,
      "metadata": {
        "colab": {
          "base_uri": "https://localhost:8080/"
        },
        "id": "WbpWIQDXtNh6",
        "outputId": "9ba92aae-6c36-42ce-e2f6-7e267e21876f",
        "vscode": {
          "languageId": "python"
        }
      },
      "outputs": [
        {
          "name": "stdout",
          "output_type": "stream",
          "text": [
            "895.4803367623492, Glucose\n",
            "7.70006972896644, BloodPressure\n",
            "10.28703358882846, SkinThickness\n",
            "1138.1827439428018, Insulin\n",
            "77.17341015708607, BMI\n",
            "4.168845212891903, DiabetesPedigree\n",
            "154.1812563953612, Age\n"
          ]
        }
      ],
      "source": [
        "\n",
        "from sklearn.feature_selection import SelectKBest\n",
        "from sklearn.feature_selection import chi2\n",
        "\n",
        "X_train, X_test, y_train, y_test = train_test_split(X, y, test_size=0.3, random_state=109) # 70% training and 30% test\n",
        "\n",
        "# Feature extraction--select the 4 best features\n",
        "test = SelectKBest(score_func=chi2, k=4)\n",
        "fit = test.fit(X_train, y_train)\n",
        "\n",
        "# Summarize scores\n",
        "np.set_printoptions(precision=3)\n",
        "feature_names = data.columns[0:7]\n",
        "\n",
        "for i, feature in enumerate (feature_names):\n",
        "    print (f'{fit.scores_[i]}, {feature}') \n",
        "#print (feature_names)\n",
        "#print(fit.scores_)\n",
        "\n"
      ]
    },
    {
      "cell_type": "markdown",
      "metadata": {
        "id": "q3NQxQs0xIdw"
      },
      "source": [
        "So this means that ranked feature importance is: Insulin, Glucose, Age, BMI, Pregnancies, Skin thickness, BP, Pedigree\n",
        "\n",
        "But you have to look fairly closely to figure out the order. Can the computer do that for us?  There is a python function called 'sorted' which returns a sorted list of the items in the list. "
      ]
    },
    {
      "cell_type": "code",
      "execution_count": 8,
      "metadata": {
        "colab": {
          "base_uri": "https://localhost:8080/"
        },
        "id": "6qnRg_KWUuUG",
        "outputId": "21c1c77f-2c18-423a-ac8f-ab0dde3b3511",
        "vscode": {
          "languageId": "python"
        }
      },
      "outputs": [
        {
          "name": "stdout",
          "output_type": "stream",
          "text": [
            "[4.168845212891903, 7.70006972896644, 10.28703358882846, 77.17341015708607, 154.1812563953612, 895.4803367623492, 1138.1827439428018]\n"
          ]
        }
      ],
      "source": [
        "sorted_scores = sorted(fit.scores_)\n",
        "print (sorted_scores)\n"
      ]
    },
    {
      "cell_type": "markdown",
      "metadata": {
        "id": "4mTuygBdWEDf"
      },
      "source": [
        "OK--that sorted the list of values, but we need to re-arrange the feature names to match those. In order to do that, we 'zip' the two lists together, then sort, and then print them out."
      ]
    },
    {
      "cell_type": "code",
      "execution_count": 9,
      "metadata": {
        "colab": {
          "base_uri": "https://localhost:8080/"
        },
        "id": "C10aiEpkVEdx",
        "outputId": "a161fb0c-aef6-436d-825b-36bce74cd9dc",
        "vscode": {
          "languageId": "python"
        }
      },
      "outputs": [
        {
          "name": "stdout",
          "output_type": "stream",
          "text": [
            "4.168845212891903 - DiabetesPedigree\n",
            "7.70006972896644 - BloodPressure\n",
            "10.28703358882846 - SkinThickness\n",
            "77.17341015708607 - BMI\n",
            "154.1812563953612 - Age\n",
            "895.4803367623492 - Glucose\n",
            "1138.1827439428018 - Insulin\n"
          ]
        }
      ],
      "source": [
        "zipped_lists = zip(fit.scores_, feature_names)\n",
        "sorted_pairs = sorted(zipped_lists)\n",
        "for f, val in sorted_pairs:\n",
        "    print (f'{f} - {val}')"
      ]
    },
    {
      "cell_type": "markdown",
      "metadata": {
        "id": "Wd2kgQYCWh3b"
      },
      "source": [
        "That looks pretty good, except maybe we want 'style points'. See if you can figure out how to reverse the order so the most important is on top. And only show the top 5..."
      ]
    },
    {
      "cell_type": "code",
      "execution_count": 10,
      "metadata": {
        "colab": {
          "base_uri": "https://localhost:8080/"
        },
        "id": "z4URvvA-3Prk",
        "outputId": "6c20663b-564a-4e8f-c9db-649075c876c2",
        "vscode": {
          "languageId": "python"
        }
      },
      "outputs": [
        {
          "name": "stdout",
          "output_type": "stream",
          "text": [
            "Accuracy with best features using Chi-square is 0.7575757575757576\n"
          ]
        }
      ],
      "source": [
        "# Make a copy of the data for Chi-squared method...\n",
        "#First, need to remove the 'class' column since that is the answer\n",
        "chi_df = data.drop(columns=[\"Outcome\"])\n",
        "\n",
        "# delete the columns we don't want\n",
        "chi_df = chi_df.drop(columns=[\"BloodPressure\",\"SkinThickness\",\"DiabetesPedigree\"])\n",
        "\n",
        "d_chi = chi_df.values \n",
        "X_1 = d_chi[:,:]\n",
        "\n",
        "perf = train_and_measure_performance(X_1, y)\n",
        "print (f'Accuracy with best features using Chi-square is {perf}')\n",
        "\n",
        "# TODO: you try adding or removing features and see the impact on performance"
      ]
    },
    {
      "cell_type": "markdown",
      "metadata": {
        "id": "MlZzSQINv7CF"
      },
      "source": [
        "Next we will apply a wrapper method--Recursive Feature Elimination or RFE"
      ]
    },
    {
      "cell_type": "code",
      "execution_count": 11,
      "metadata": {
        "colab": {
          "base_uri": "https://localhost:8080/"
        },
        "id": "xHT9SXeWv6F4",
        "outputId": "dae5e389-6d44-4b54-f917-23875a6d1ad8",
        "vscode": {
          "languageId": "python"
        }
      },
      "outputs": [
        {
          "name": "stdout",
          "output_type": "stream",
          "text": [
            "[ True False False False  True  True False]\n",
            "Or if you want to see the ranking of those that didn't make the cut...\n",
            "[1 3 4 5 1 1 2]\n"
          ]
        }
      ],
      "source": [
        "# Import your necessary dependencies\n",
        "from sklearn.feature_selection import RFE\n",
        "from sklearn.svm import SVR\n",
        "from sklearn.linear_model import LogisticRegression\n",
        "\n",
        "estimator = SVR(kernel=\"linear\")\n",
        "# we will ask for the top 4 features\n",
        "selector = RFE(estimator, n_features_to_select=3, step=1)\n",
        "selector = selector.fit(X_train, y_train)\n",
        "print(selector.support_)\n",
        "rank=selector.ranking_\n",
        "print (\"Or if you want to see the ranking of those that didn't make the cut...\")\n",
        "print(rank)\n"
      ]
    },
    {
      "cell_type": "code",
      "execution_count": 12,
      "metadata": {
        "colab": {
          "base_uri": "https://localhost:8080/"
        },
        "id": "mhkqH8LtPTg_",
        "outputId": "f9c284c2-353e-4dfa-b7e4-d0b80713755b",
        "vscode": {
          "languageId": "python"
        }
      },
      "outputs": [
        {
          "name": "stdout",
          "output_type": "stream",
          "text": [
            "Accuracy with best features using RFE is 0.7532467532467533\n"
          ]
        }
      ],
      "source": [
        "\n",
        "# drop all columns not '1'\n",
        "X_1 = data.drop(data.columns[7], axis=1)  # get rid of 'class'\n",
        "for i in range(6):\n",
        "    if selector.support_[i] == False:\n",
        "        X_1 = X_1.drop(X_1.columns[i], axis=1)\n",
        "\n",
        "perf = train_and_measure_performance(X_1, y)\n",
        "print (f'Accuracy with best features using RFE is {perf}')"
      ]
    },
    {
      "cell_type": "markdown",
      "metadata": {
        "id": "aYemiTeWDvCW"
      },
      "source": [
        "Now lets try an embedded model. Remember, it gets the name 'embedded' because the feature reduction is included in the machine learning algorithm, so there is no seperate step of selecting the features and then training the classifier."
      ]
    },
    {
      "cell_type": "code",
      "execution_count": 13,
      "metadata": {
        "colab": {
          "base_uri": "https://localhost:8080/",
          "height": 676
        },
        "id": "Ovr0LZ1MdOvj",
        "outputId": "2c407732-4c30-44d8-9fc0-8c16c6d94c7c",
        "vscode": {
          "languageId": "python"
        }
      },
      "outputs": [
        {
          "name": "stdout",
          "output_type": "stream",
          "text": [
            "Best alpha using built-in LassoCV: 0.051370\n",
            "Best score using built-in LassoCV: 0.278072\n",
            "Lasso picked 5 variables and eliminated the other 2 variables\n"
          ]
        },
        {
          "data": {
            "text/plain": [
              "Text(0.5, 1.0, 'Feature importance using Lasso Model')"
            ]
          },
          "execution_count": 13,
          "metadata": {},
          "output_type": "execute_result"
        },
        {
          "data": {
            "image/png": "[encoded data removed]",
            "text/plain": [
              "<Figure size 576x720 with 1 Axes>"
            ]
          },
          "metadata": {
            "needs_background": "light"
          },
          "output_type": "display_data"
        }
      ],
      "source": [
        "from sklearn.linear_model import LassoCV\n",
        "\n",
        "reg = LassoCV()\n",
        "reg.fit(X_train, y_train)\n",
        "print(\"Best alpha using built-in LassoCV: %f\" % reg.alpha_)\n",
        "print(\"Best score using built-in LassoCV: %f\" %reg.score(X,y))\n",
        "\n",
        "coef = pd.Series(reg.coef_, index = data.columns[0:7])\n",
        "\n",
        "print(\"Lasso picked \" + str(sum(coef != 0)) + \" variables and eliminated the other \" +  str(sum(coef == 0)) + \" variables\")\n",
        "\n",
        "imp_coef = coef.sort_values()\n",
        "import matplotlib\n",
        "matplotlib.rcParams['figure.figsize'] = (8.0, 10.0)\n",
        "imp_coef.plot(kind = \"barh\")\n",
        "plt.title(\"Feature importance using Lasso Model\")\n"
      ]
    },
    {
      "cell_type": "markdown",
      "metadata": {
        "id": "EMSQp97agRrG"
      },
      "source": [
        "#Summary#\n",
        "  Congratulations on completing this introduction to feature selection and feature engineering. This is just one (small) part of machine learning. \n",
        "  We also have only done a starting step for traditional machine learning. The new rage is 'Deep Learning'. There is not space to go into this here, but in most deep learning applications, there is no explicit feature selection--the computer learns which features are important. But feature engineering is still needed, and in some cases, feature selection will improve performance. \n",
        "  If you are interested in trying your hand at deep learning, and applying it to medical imaging, I have written a series of articles, known as 'Magicians Corner' in the Radiology: AI journal. Much like this notebook, all articles have an accompanying colab notebook so readers can actually run the code and experiement with it. Here is links to the  articles ( https://pubs.rsna.org/page/ai/magicians_corner ), which contain the links to the notebooks.\n"
      ]
    }
  ],
  "metadata": {
    "colab": {
      "name": "FeatureSelection.ipynb",
      "provenance": []
    },
    "kernelspec": {
      "display_name": "Python 3",
      "name": "python3"
    }
  },
  "nbformat": 4,
  "nbformat_minor": 0
}
