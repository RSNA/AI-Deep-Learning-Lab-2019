{
  "cells": [
    {
      "cell_type": "markdown",
      "metadata": {
        "id": "view-in-github",
        "colab_type": "text"
      },
      "source": [
        "<a href=\"https://colab.research.google.com/github/slowvak/AI-Deep-Learning-Lab/blob/master/FeatureSelection.ipynb\" target=\"_parent\"><img src=\"https://colab.research.google.com/assets/colab-badge.svg\" alt=\"Open In Colab\"/></a>"
      ]
    },
    {
      "cell_type": "markdown",
      "metadata": {
        "id": "VN0x-3rwPALD"
      },
      "source": [
        "First we need to get our data. This is a public data set on diabetes in Pima Indians."
      ]
    },
    {
      "cell_type": "code",
      "execution_count": 1,
      "metadata": {
        "colab": {
          "base_uri": "https://localhost:8080/"
        },
        "id": "QU2f05csZPqd",
        "outputId": "50f3d61b-956c-4aa5-a8a6-8775feac5189"
      },
      "outputs": [
        {
          "output_type": "stream",
          "name": "stdout",
          "text": [
            "--2023-01-17 14:02:21--  https://www.dropbox.com/s/19pisdoog2pmw3h/pima-indians-diabetes.csv?dl=0\n",
            "Resolving www.dropbox.com (www.dropbox.com)... 162.125.6.18, 2620:100:601c:18::a27d:612\n",
            "Connecting to www.dropbox.com (www.dropbox.com)|162.125.6.18|:443... connected.\n",
            "HTTP request sent, awaiting response... 302 Found\n",
            "Location: /s/raw/19pisdoog2pmw3h/pima-indians-diabetes.csv [following]\n",
            "--2023-01-17 14:02:22--  https://www.dropbox.com/s/raw/19pisdoog2pmw3h/pima-indians-diabetes.csv\n",
            "Reusing existing connection to www.dropbox.com:443.\n",
            "HTTP request sent, awaiting response... 302 Found\n",
            "Location: https://ucd04ff01d032ab869892c941093.dl.dropboxusercontent.com/cd/0/inline/B0tZn2iELOPvBozLqHqQ2DAlJu39ezu4a2gxn6BMY1--OUYBvNkIQrP42bo2Xg7QPMiXZxuZ_9IdT8fnqF6aN73u0idWbbybzgnQe4c7DyAzMKkkT1hL8O7hS_eiWirIWasBWDtORHV7mw7HxsooLHfjTs2N2E8VFA2KC4WyiO4G7w/file# [following]\n",
            "--2023-01-17 14:02:22--  https://ucd04ff01d032ab869892c941093.dl.dropboxusercontent.com/cd/0/inline/B0tZn2iELOPvBozLqHqQ2DAlJu39ezu4a2gxn6BMY1--OUYBvNkIQrP42bo2Xg7QPMiXZxuZ_9IdT8fnqF6aN73u0idWbbybzgnQe4c7DyAzMKkkT1hL8O7hS_eiWirIWasBWDtORHV7mw7HxsooLHfjTs2N2E8VFA2KC4WyiO4G7w/file\n",
            "Resolving ucd04ff01d032ab869892c941093.dl.dropboxusercontent.com (ucd04ff01d032ab869892c941093.dl.dropboxusercontent.com)... 162.125.4.15, 2620:100:6019:15::a27d:40f\n",
            "Connecting to ucd04ff01d032ab869892c941093.dl.dropboxusercontent.com (ucd04ff01d032ab869892c941093.dl.dropboxusercontent.com)|162.125.4.15|:443... connected.\n",
            "HTTP request sent, awaiting response... 200 OK\n",
            "Length: 23868 (23K) [text/plain]\n",
            "Saving to: ‘diabetes.csv’\n",
            "\n",
            "diabetes.csv        100%[===================>]  23.31K  --.-KB/s    in 0.006s  \n",
            "\n",
            "2023-01-17 14:02:22 (3.62 MB/s) - ‘diabetes.csv’ saved [23868/23868]\n",
            "\n"
          ]
        }
      ],
      "source": [
        "!wget -O diabetes.csv \"https://www.dropbox.com/s/19pisdoog2pmw3h/pima-indians-diabetes.csv?dl=0\"\n"
      ]
    },
    {
      "cell_type": "code",
      "execution_count": 2,
      "metadata": {
        "id": "HwdULv8jY78Q"
      },
      "outputs": [],
      "source": [
        "import pandas as pd\n",
        "import numpy as np"
      ]
    },
    {
      "cell_type": "markdown",
      "metadata": {
        "id": "xrnlsx3yPeaK"
      },
      "source": [
        "Now we ***import*** two libraries that provide important data handling capabilities--first being **pandas**, which will read in a CSV (Comma Separated Values) file and use it to fill a **dataframe**. The file also has a first row which describes the data in each column. Pandas is 'smart' enough to recognize this. **Numpy** is a library for numerical computations on arrays.\n",
        "  The 'as' part of the import command allows us to use our own name for any module that we import. 'pd' and 'np' are very common abbreviations used for pandas and numpy.\n",
        "\n",
        "**Interesting Side Note: **  Numpy was written by former Mayo Graduate Student Travis Oliphant. https://en.wikipedia.org/wiki/Travis_Oliphant"
      ]
    },
    {
      "cell_type": "code",
      "execution_count": 7,
      "metadata": {
        "colab": {
          "base_uri": "https://localhost:8080/",
          "height": 424
        },
        "id": "7SvmUIleZibg",
        "outputId": "f9f1bd1d-2668-45db-9c6b-551317c0eae8"
      },
      "outputs": [
        {
          "output_type": "execute_result",
          "data": {
            "text/plain": [
              "     NumPregnancies  Glucose  BloodPressure  SkinThickness  Insulin   BMI  \\\n",
              "0                 6      148             72             35        0  33.6   \n",
              "1                 1       85             66             29        0  26.6   \n",
              "2                 8      183             64              0        0  23.3   \n",
              "3                 1       89             66             23       94  28.1   \n",
              "4                 0      137             40             35      168  43.1   \n",
              "..              ...      ...            ...            ...      ...   ...   \n",
              "763              10      101             76             48      180  32.9   \n",
              "764               2      122             70             27        0  36.8   \n",
              "765               5      121             72             23      112  26.2   \n",
              "766               1      126             60              0        0  30.1   \n",
              "767               1       93             70             31        0  30.4   \n",
              "\n",
              "     DiabetesPedigree  Age  Outcome  \n",
              "0               0.627   50        1  \n",
              "1               0.351   31        0  \n",
              "2               0.672   32        1  \n",
              "3               0.167   21        0  \n",
              "4               2.288   33        1  \n",
              "..                ...  ...      ...  \n",
              "763             0.171   63        0  \n",
              "764             0.340   27        0  \n",
              "765             0.245   30        0  \n",
              "766             0.349   47        1  \n",
              "767             0.315   23        0  \n",
              "\n",
              "[768 rows x 9 columns]"
            ],
            "text/html": [
              "\n",
              "  <div id=\"df-75284f86-40f8-494d-a17b-ae77c490f1ec\">\n",
              "    <div class=\"colab-df-container\">\n",
              "      <div>\n",
              "<style scoped>\n",
              "    .dataframe tbody tr th:only-of-type {\n",
              "        vertical-align: middle;\n",
              "    }\n",
              "\n",
              "    .dataframe tbody tr th {\n",
              "        vertical-align: top;\n",
              "    }\n",
              "\n",
              "    .dataframe thead th {\n",
              "        text-align: right;\n",
              "    }\n",
              "</style>\n",
              "<table border=\"1\" class=\"dataframe\">\n",
              "  <thead>\n",
              "    <tr style=\"text-align: right;\">\n",
              "      <th></th>\n",
              "      <th>NumPregnancies</th>\n",
              "      <th>Glucose</th>\n",
              "      <th>BloodPressure</th>\n",
              "      <th>SkinThickness</th>\n",
              "      <th>Insulin</th>\n",
              "      <th>BMI</th>\n",
              "      <th>DiabetesPedigree</th>\n",
              "      <th>Age</th>\n",
              "      <th>Outcome</th>\n",
              "    </tr>\n",
              "  </thead>\n",
              "  <tbody>\n",
              "    <tr>\n",
              "      <th>0</th>\n",
              "      <td>6</td>\n",
              "      <td>148</td>\n",
              "      <td>72</td>\n",
              "      <td>35</td>\n",
              "      <td>0</td>\n",
              "      <td>33.6</td>\n",
              "      <td>0.627</td>\n",
              "      <td>50</td>\n",
              "      <td>1</td>\n",
              "    </tr>\n",
              "    <tr>\n",
              "      <th>1</th>\n",
              "      <td>1</td>\n",
              "      <td>85</td>\n",
              "      <td>66</td>\n",
              "      <td>29</td>\n",
              "      <td>0</td>\n",
              "      <td>26.6</td>\n",
              "      <td>0.351</td>\n",
              "      <td>31</td>\n",
              "      <td>0</td>\n",
              "    </tr>\n",
              "    <tr>\n",
              "      <th>2</th>\n",
              "      <td>8</td>\n",
              "      <td>183</td>\n",
              "      <td>64</td>\n",
              "      <td>0</td>\n",
              "      <td>0</td>\n",
              "      <td>23.3</td>\n",
              "      <td>0.672</td>\n",
              "      <td>32</td>\n",
              "      <td>1</td>\n",
              "    </tr>\n",
              "    <tr>\n",
              "      <th>3</th>\n",
              "      <td>1</td>\n",
              "      <td>89</td>\n",
              "      <td>66</td>\n",
              "      <td>23</td>\n",
              "      <td>94</td>\n",
              "      <td>28.1</td>\n",
              "      <td>0.167</td>\n",
              "      <td>21</td>\n",
              "      <td>0</td>\n",
              "    </tr>\n",
              "    <tr>\n",
              "      <th>4</th>\n",
              "      <td>0</td>\n",
              "      <td>137</td>\n",
              "      <td>40</td>\n",
              "      <td>35</td>\n",
              "      <td>168</td>\n",
              "      <td>43.1</td>\n",
              "      <td>2.288</td>\n",
              "      <td>33</td>\n",
              "      <td>1</td>\n",
              "    </tr>\n",
              "    <tr>\n",
              "      <th>...</th>\n",
              "      <td>...</td>\n",
              "      <td>...</td>\n",
              "      <td>...</td>\n",
              "      <td>...</td>\n",
              "      <td>...</td>\n",
              "      <td>...</td>\n",
              "      <td>...</td>\n",
              "      <td>...</td>\n",
              "      <td>...</td>\n",
              "    </tr>\n",
              "    <tr>\n",
              "      <th>763</th>\n",
              "      <td>10</td>\n",
              "      <td>101</td>\n",
              "      <td>76</td>\n",
              "      <td>48</td>\n",
              "      <td>180</td>\n",
              "      <td>32.9</td>\n",
              "      <td>0.171</td>\n",
              "      <td>63</td>\n",
              "      <td>0</td>\n",
              "    </tr>\n",
              "    <tr>\n",
              "      <th>764</th>\n",
              "      <td>2</td>\n",
              "      <td>122</td>\n",
              "      <td>70</td>\n",
              "      <td>27</td>\n",
              "      <td>0</td>\n",
              "      <td>36.8</td>\n",
              "      <td>0.340</td>\n",
              "      <td>27</td>\n",
              "      <td>0</td>\n",
              "    </tr>\n",
              "    <tr>\n",
              "      <th>765</th>\n",
              "      <td>5</td>\n",
              "      <td>121</td>\n",
              "      <td>72</td>\n",
              "      <td>23</td>\n",
              "      <td>112</td>\n",
              "      <td>26.2</td>\n",
              "      <td>0.245</td>\n",
              "      <td>30</td>\n",
              "      <td>0</td>\n",
              "    </tr>\n",
              "    <tr>\n",
              "      <th>766</th>\n",
              "      <td>1</td>\n",
              "      <td>126</td>\n",
              "      <td>60</td>\n",
              "      <td>0</td>\n",
              "      <td>0</td>\n",
              "      <td>30.1</td>\n",
              "      <td>0.349</td>\n",
              "      <td>47</td>\n",
              "      <td>1</td>\n",
              "    </tr>\n",
              "    <tr>\n",
              "      <th>767</th>\n",
              "      <td>1</td>\n",
              "      <td>93</td>\n",
              "      <td>70</td>\n",
              "      <td>31</td>\n",
              "      <td>0</td>\n",
              "      <td>30.4</td>\n",
              "      <td>0.315</td>\n",
              "      <td>23</td>\n",
              "      <td>0</td>\n",
              "    </tr>\n",
              "  </tbody>\n",
              "</table>\n",
              "<p>768 rows × 9 columns</p>\n",
              "</div>\n",
              "      <button class=\"colab-df-convert\" onclick=\"convertToInteractive('df-75284f86-40f8-494d-a17b-ae77c490f1ec')\"\n",
              "              title=\"Convert this dataframe to an interactive table.\"\n",
              "              style=\"display:none;\">\n",
              "        \n",
              "  <svg xmlns=\"http://www.w3.org/2000/svg\" height=\"24px\"viewBox=\"0 0 24 24\"\n",
              "       width=\"24px\">\n",
              "    <path d=\"M0 0h24v24H0V0z\" fill=\"none\"/>\n",
              "    <path d=\"M18.56 5.44l.94 2.06.94-2.06 2.06-.94-2.06-.94-.94-2.06-.94 2.06-2.06.94zm-11 1L8.5 8.5l.94-2.06 2.06-.94-2.06-.94L8.5 2.5l-.94 2.06-2.06.94zm10 10l.94 2.06.94-2.06 2.06-.94-2.06-.94-.94-2.06-.94 2.06-2.06.94z\"/><path d=\"M17.41 7.96l-1.37-1.37c-.4-.4-.92-.59-1.43-.59-.52 0-1.04.2-1.43.59L10.3 9.45l-7.72 7.72c-.78.78-.78 2.05 0 2.83L4 21.41c.39.39.9.59 1.41.59.51 0 1.02-.2 1.41-.59l7.78-7.78 2.81-2.81c.8-.78.8-2.07 0-2.86zM5.41 20L4 18.59l7.72-7.72 1.47 1.35L5.41 20z\"/>\n",
              "  </svg>\n",
              "      </button>\n",
              "      \n",
              "  <style>\n",
              "    .colab-df-container {\n",
              "      display:flex;\n",
              "      flex-wrap:wrap;\n",
              "      gap: 12px;\n",
              "    }\n",
              "\n",
              "    .colab-df-convert {\n",
              "      background-color: #E8F0FE;\n",
              "      border: none;\n",
              "      border-radius: 50%;\n",
              "      cursor: pointer;\n",
              "      display: none;\n",
              "      fill: #1967D2;\n",
              "      height: 32px;\n",
              "      padding: 0 0 0 0;\n",
              "      width: 32px;\n",
              "    }\n",
              "\n",
              "    .colab-df-convert:hover {\n",
              "      background-color: #E2EBFA;\n",
              "      box-shadow: 0px 1px 2px rgba(60, 64, 67, 0.3), 0px 1px 3px 1px rgba(60, 64, 67, 0.15);\n",
              "      fill: #174EA6;\n",
              "    }\n",
              "\n",
              "    [theme=dark] .colab-df-convert {\n",
              "      background-color: #3B4455;\n",
              "      fill: #D2E3FC;\n",
              "    }\n",
              "\n",
              "    [theme=dark] .colab-df-convert:hover {\n",
              "      background-color: #434B5C;\n",
              "      box-shadow: 0px 1px 3px 1px rgba(0, 0, 0, 0.15);\n",
              "      filter: drop-shadow(0px 1px 2px rgba(0, 0, 0, 0.3));\n",
              "      fill: #FFFFFF;\n",
              "    }\n",
              "  </style>\n",
              "\n",
              "      <script>\n",
              "        const buttonEl =\n",
              "          document.querySelector('#df-75284f86-40f8-494d-a17b-ae77c490f1ec button.colab-df-convert');\n",
              "        buttonEl.style.display =\n",
              "          google.colab.kernel.accessAllowed ? 'block' : 'none';\n",
              "\n",
              "        async function convertToInteractive(key) {\n",
              "          const element = document.querySelector('#df-75284f86-40f8-494d-a17b-ae77c490f1ec');\n",
              "          const dataTable =\n",
              "            await google.colab.kernel.invokeFunction('convertToInteractive',\n",
              "                                                     [key], {});\n",
              "          if (!dataTable) return;\n",
              "\n",
              "          const docLinkHtml = 'Like what you see? Visit the ' +\n",
              "            '<a target=\"_blank\" href=https://colab.research.google.com/notebooks/data_table.ipynb>data table notebook</a>'\n",
              "            + ' to learn more about interactive tables.';\n",
              "          element.innerHTML = '';\n",
              "          dataTable['output_type'] = 'display_data';\n",
              "          await google.colab.output.renderOutput(dataTable, element);\n",
              "          const docLink = document.createElement('div');\n",
              "          docLink.innerHTML = docLinkHtml;\n",
              "          element.appendChild(docLink);\n",
              "        }\n",
              "      </script>\n",
              "    </div>\n",
              "  </div>\n",
              "  "
            ]
          },
          "metadata": {},
          "execution_count": 7
        }
      ],
      "source": [
        "data = pd.read_csv(\"diabetes.csv\")\n",
        "# print out the first few lines to make sure we got the data and that it looks reasonable\n",
        "\n",
        "data\n"
      ]
    },
    {
      "cell_type": "markdown",
      "metadata": {
        "id": "DxpdF7b8NY24"
      },
      "source": [
        "The last line here--'data'--is what prineted out the first few and the last few lines in the pandas dataframe called 'data'. This is a unique jupyter notebook function--if you just have a variable name, it will print it out. But it only is the last variable.  Remember up above you defined the variable 'a'? Add 'a' to line 5 and run the cell again. Now the data dataframe will not be printed, and instead, '10' will be printed since that is the value of a. This will not work in 'true' Python code.\n",
        "\n",
        "\n",
        "Next we import modules for visualizing data and making plots. \n",
        "Here will do a quick plot to see the correlation coefficients of the various features in the data. "
      ]
    },
    {
      "cell_type": "code",
      "execution_count": 8,
      "metadata": {
        "colab": {
          "base_uri": "https://localhost:8080/",
          "height": 673
        },
        "id": "E65snQJYaEce",
        "outputId": "54029c76-beca-4286-e70a-8429d76b4300"
      },
      "outputs": [
        {
          "output_type": "display_data",
          "data": {
            "text/plain": [
              "<Figure size 864x720 with 2 Axes>"
            ],
            "image/png": "[encoded data removed]"
          },
          "metadata": {
            "needs_background": "light"
          }
        }
      ],
      "source": [
        "import matplotlib\n",
        "import matplotlib.pyplot as plt\n",
        "import seaborn as sns\n",
        "\n",
        "#Lets look at how much the various features are correlated using Pearson Correlation\n",
        "plt.figure(figsize=(12,10))\n",
        "cor = data.corr()\n",
        "sns.heatmap(cor, annot=True, cmap=plt.cm.Reds)\n",
        "plt.show()"
      ]
    },
    {
      "cell_type": "markdown",
      "metadata": {
        "id": "ecDU_SWerUzn"
      },
      "source": [
        "To do machine learning, we must convert the dataframe into a set of feature vectors (usually called 'X') and the class or label which we will call 'y', which in our case is 1-diabetic 0-not diabetic.\n"
      ]
    },
    {
      "cell_type": "code",
      "execution_count": 19,
      "metadata": {
        "colab": {
          "base_uri": "https://localhost:8080/"
        },
        "id": "zFAcUoporTc5",
        "outputId": "a070fcae-e40e-4694-87bf-14c4b690e8f1"
      },
      "outputs": [
        {
          "output_type": "execute_result",
          "data": {
            "text/plain": [
              "(768, 8)"
            ]
          },
          "metadata": {},
          "execution_count": 19
        }
      ],
      "source": [
        "array = data.values\n",
        "X = array[:,0:8]\n",
        "y = array[:,8]\n",
        "\n",
        "#print out the shape of the X feature array--number of features and number of rows/examples\n",
        "X.shape"
      ]
    },
    {
      "cell_type": "markdown",
      "metadata": {
        "id": "WxTZpUi_1mZr"
      },
      "source": [
        "Note it also has 768 rows (note this is rows/cols not x,y). But there is 1 less column. Why is there 1 less and how did that happen?\n",
        "\n",
        "\n",
        "Now with our data organized, we can try training a classifier. We will start with that to show the impact of feature selection. We will use a Rdige Classifier, which is essentially a linar regression and the regression lines splits the classes.  I include code for a support vector machine (SVM) which is a popular traditional machine learning method that is much more powerful. We also need to split data into a set used to train the SVM, and a hold-out set to see how well it worked (the 'test' set). \n",
        "\n",
        "sklearn is a very comprehence library of machine learning algorithms. (https://scikit-learn.org/stable/)  There are other scikit libraries such as for image manipulation, statistics, engineering, etc. SciPy.org is the host site.\n"
      ]
    },
    {
      "cell_type": "code",
      "execution_count": 20,
      "metadata": {
        "colab": {
          "base_uri": "https://localhost:8080/"
        },
        "id": "pOXYnmET2Tzn",
        "outputId": "edaa014f-ddbf-4f3a-80c0-a2237f2193a1"
      },
      "outputs": [
        {
          "output_type": "stream",
          "name": "stdout",
          "text": [
            "Baseline accuracy with all features is 0.7359307359307359\n"
          ]
        }
      ],
      "source": [
        "# Import train_test_split function\n",
        "from sklearn.model_selection import train_test_split\n",
        "from sklearn import metrics\n",
        "from sklearn.linear_model import RidgeClassifier\n",
        "from sklearn import svm\n",
        "\n",
        "# define a function that will train a classifier and then measure performance\n",
        "\n",
        "def train_and_measure_performance(X, y):\n",
        "    X_train, X_test, y_train, y_test = train_test_split(X, y, test_size=0.3, random_state=109) # 70% training and 30% test\n",
        "    #Create a ridge Classifier\n",
        "    clf = RidgeClassifier()\n",
        "#    clf = svm.SVC(kernel='linear') # Linear Kernel\n",
        "\n",
        "    #Train the model using the training sets\n",
        "    clf.fit(X_train, y_train)\n",
        "\n",
        "    #Predict the response for test dataset\n",
        "    y_pred = clf.predict(X_test)\n",
        "    # Model Accuracy: how often is the classifier correct?\n",
        "    return (metrics.accuracy_score(y_test, y_pred))\n",
        "\n",
        "baseline_performance = train_and_measure_performance(X, y)\n",
        "print (f'Baseline accuracy with all features is {baseline_performance}')"
      ]
    },
    {
      "cell_type": "markdown",
      "metadata": {
        "id": "DU9xp04Nrmhr"
      },
      "source": [
        "Now we will use sklearn feature selection methods. We will start with filter method--Chi Square"
      ]
    },
    {
      "cell_type": "code",
      "execution_count": 21,
      "metadata": {
        "colab": {
          "base_uri": "https://localhost:8080/"
        },
        "id": "WbpWIQDXtNh6",
        "outputId": "ab32a412-e0ff-4b40-dabd-855a42f8db65"
      },
      "outputs": [
        {
          "output_type": "stream",
          "name": "stdout",
          "text": [
            "87.43079122224427, NumPregnancies\n",
            "895.4803367623492, Glucose\n",
            "7.70006972896644, BloodPressure\n",
            "10.28703358882846, SkinThickness\n",
            "1138.1827439428018, Insulin\n",
            "77.17341015708607, BMI\n",
            "4.168845212891903, DiabetesPedigree\n",
            "154.1812563953612, Age\n",
            "Index(['NumPregnancies', 'Glucose', 'BloodPressure', 'SkinThickness',\n",
            "       'Insulin', 'BMI', 'DiabetesPedigree', 'Age'],\n",
            "      dtype='object')\n",
            "[  87.431  895.48     7.7     10.287 1138.183   77.173    4.169  154.181]\n"
          ]
        }
      ],
      "source": [
        "\n",
        "from sklearn.feature_selection import SelectKBest\n",
        "from sklearn.feature_selection import chi2\n",
        "\n",
        "X_train, X_test, y_train, y_test = train_test_split(X, y, test_size=0.3, random_state=109) # 70% training and 30% test\n",
        "\n",
        "# Feature extraction--select the 4 best features\n",
        "test = SelectKBest(score_func=chi2, k=4)\n",
        "fit = test.fit(X_train, y_train)\n",
        "\n",
        "# Summarize scores\n",
        "np.set_printoptions(precision=3)\n",
        "feature_names = data.columns[0:8]\n",
        "\n",
        "for i, feature in enumerate (feature_names):\n",
        "    print (f'{fit.scores_[i]}, {feature}') \n",
        "#print (feature_names)\n",
        "#print(fit.scores_)\n",
        "\n"
      ]
    },
    {
      "cell_type": "markdown",
      "metadata": {
        "id": "q3NQxQs0xIdw"
      },
      "source": [
        "So this means that ranked feature importance is: Insulin, Glucose, Age, BMI, Pregnancies, Skin thickness, BP, Pedigree\n",
        "\n",
        "But you have to look fairly closely to figure out the order. Can the computer do that for us?  There is a python function called 'sorted' which returns a sorted list of the items in the list. "
      ]
    },
    {
      "cell_type": "code",
      "execution_count": 22,
      "metadata": {
        "colab": {
          "base_uri": "https://localhost:8080/"
        },
        "id": "6qnRg_KWUuUG",
        "outputId": "3352cf62-1d2d-4da3-e5c0-31d2cdf3cf59"
      },
      "outputs": [
        {
          "output_type": "stream",
          "name": "stdout",
          "text": [
            "[4.168845212891903, 7.70006972896644, 10.28703358882846, 77.17341015708607, 87.43079122224427, 154.1812563953612, 895.4803367623492, 1138.1827439428018]\n"
          ]
        }
      ],
      "source": [
        "sorted_scores = sorted(fit.scores_)\n",
        "print (sorted_scores)\n"
      ]
    },
    {
      "cell_type": "markdown",
      "metadata": {
        "id": "4mTuygBdWEDf"
      },
      "source": [
        "OK--that sorted the list of values, but we need to re-arrange the feature names to match those. In order to do that, we 'zip' the two lists together, then sort, and then print them out."
      ]
    },
    {
      "cell_type": "code",
      "execution_count": 23,
      "metadata": {
        "colab": {
          "base_uri": "https://localhost:8080/"
        },
        "id": "C10aiEpkVEdx",
        "outputId": "36cb6f05-176e-4e41-e52e-d9a70a04eb78"
      },
      "outputs": [
        {
          "output_type": "stream",
          "name": "stdout",
          "text": [
            "4.168845212891903 - DiabetesPedigree\n",
            "7.70006972896644 - BloodPressure\n",
            "10.28703358882846 - SkinThickness\n",
            "77.17341015708607 - BMI\n",
            "87.43079122224427 - NumPregnancies\n",
            "154.1812563953612 - Age\n",
            "895.4803367623492 - Glucose\n",
            "1138.1827439428018 - Insulin\n"
          ]
        }
      ],
      "source": [
        "zipped_lists = zip(fit.scores_, feature_names)\n",
        "sorted_pairs = sorted(zipped_lists)\n",
        "for f, val in sorted_pairs:\n",
        "    print (f'{f} - {val}')"
      ]
    },
    {
      "cell_type": "markdown",
      "metadata": {
        "id": "Wd2kgQYCWh3b"
      },
      "source": [
        "That looks pretty good, except maybe we want 'style points'. See if you can figure out how to reverse the order so the most important is on top. And only show the top 5..."
      ]
    },
    {
      "cell_type": "code",
      "execution_count": 24,
      "metadata": {
        "colab": {
          "base_uri": "https://localhost:8080/"
        },
        "id": "z4URvvA-3Prk",
        "outputId": "6bf44fa4-8670-4fc5-8bf9-0f191e335dbd"
      },
      "outputs": [
        {
          "output_type": "stream",
          "name": "stdout",
          "text": [
            "Accuracy with best features using Chi-square is 0.7532467532467533\n"
          ]
        }
      ],
      "source": [
        "# Make a copy of the data for Chi-squared method...\n",
        "#First, need to remove the 'class' column since that is the answer\n",
        "chi_df = data.drop(columns=[\"Outcome\"])\n",
        "\n",
        "# delete the columns we don't want\n",
        "chi_df = chi_df.drop(columns=[\"BloodPressure\",\"SkinThickness\",\"DiabetesPedigree\"])\n",
        "\n",
        "d_chi = chi_df.values \n",
        "X_1 = d_chi[:,:]\n",
        "\n",
        "perf = train_and_measure_performance(X_1, y)\n",
        "print (f'Accuracy with best features using Chi-square is {perf}')\n",
        "\n",
        "# TODO: you try adding or removing features and see the impact on performance"
      ]
    },
    {
      "cell_type": "markdown",
      "metadata": {
        "id": "MlZzSQINv7CF"
      },
      "source": [
        "Next we will apply a wrapper method--Recursive Feature Elimination or RFE"
      ]
    },
    {
      "cell_type": "code",
      "execution_count": 25,
      "metadata": {
        "colab": {
          "base_uri": "https://localhost:8080/"
        },
        "id": "xHT9SXeWv6F4",
        "outputId": "a6b3add9-068c-4a35-f134-17800a60e54c"
      },
      "outputs": [
        {
          "output_type": "stream",
          "name": "stdout",
          "text": [
            "[ True False False False False  True  True False]\n",
            "Or if you want to see the ranking of those that didn't make the cut...\n",
            "[1 2 4 5 6 1 1 3]\n"
          ]
        }
      ],
      "source": [
        "# Import your necessary dependencies\n",
        "from sklearn.feature_selection import RFE\n",
        "from sklearn.svm import SVR\n",
        "from sklearn.linear_model import LogisticRegression\n",
        "\n",
        "estimator = SVR(kernel=\"linear\")\n",
        "# we will ask for the top 4 features\n",
        "selector = RFE(estimator, n_features_to_select=3, step=1)\n",
        "selector = selector.fit(X_train, y_train)\n",
        "print(selector.support_)\n",
        "rank=selector.ranking_\n",
        "print (\"Or if you want to see the ranking of those that didn't make the cut...\")\n",
        "print(rank)\n"
      ]
    },
    {
      "cell_type": "code",
      "execution_count": 26,
      "metadata": {
        "colab": {
          "base_uri": "https://localhost:8080/"
        },
        "id": "mhkqH8LtPTg_",
        "outputId": "f71d2294-46aa-40f4-f44f-6d801ee0b843"
      },
      "outputs": [
        {
          "output_type": "stream",
          "name": "stdout",
          "text": [
            "     NumPregnancies  Glucose  BloodPressure  SkinThickness  Insulin   BMI  \\\n",
            "0                 6      148             72             35        0  33.6   \n",
            "1                 1       85             66             29        0  26.6   \n",
            "2                 8      183             64              0        0  23.3   \n",
            "3                 1       89             66             23       94  28.1   \n",
            "4                 0      137             40             35      168  43.1   \n",
            "..              ...      ...            ...            ...      ...   ...   \n",
            "763              10      101             76             48      180  32.9   \n",
            "764               2      122             70             27        0  36.8   \n",
            "765               5      121             72             23      112  26.2   \n",
            "766               1      126             60              0        0  30.1   \n",
            "767               1       93             70             31        0  30.4   \n",
            "\n",
            "     DiabetesPedigree  Age  \n",
            "0               0.627   50  \n",
            "1               0.351   31  \n",
            "2               0.672   32  \n",
            "3               0.167   21  \n",
            "4               2.288   33  \n",
            "..                ...  ...  \n",
            "763             0.171   63  \n",
            "764             0.340   27  \n",
            "765             0.245   30  \n",
            "766             0.349   47  \n",
            "767             0.315   23  \n",
            "\n",
            "[768 rows x 8 columns]\n",
            "Accuracy with best features using RFE is 0.7012987012987013\n"
          ]
        }
      ],
      "source": [
        "\n",
        "# drop all columns not '1'\n",
        "X_1 = data.drop(data.columns[8], axis=1)  # get rid of 'class'\n",
        "print(X_1)\n",
        "for i in range(7):\n",
        "    if selector.support_[i] == False:\n",
        "        X_1 = X_1.drop(X_1.columns[i], axis=1)\n",
        "\n",
        "perf = train_and_measure_performance(X_1, y)\n",
        "print (f'Accuracy with best features using RFE is {perf}')"
      ]
    },
    {
      "cell_type": "markdown",
      "metadata": {
        "id": "aYemiTeWDvCW"
      },
      "source": [
        "Now lets try an embedded model. Remember, it gets the name 'embedded' because the feature reduction is included in the machine learning algorithm, so there is no seperate step of selecting the features and then training the classifier."
      ]
    },
    {
      "cell_type": "code",
      "execution_count": 27,
      "metadata": {
        "colab": {
          "base_uri": "https://localhost:8080/",
          "height": 821
        },
        "id": "Ovr0LZ1MdOvj",
        "outputId": "d235a035-b136-4999-c054-5f00a2d1675a"
      },
      "outputs": [
        {
          "output_type": "stream",
          "name": "stdout",
          "text": [
            "Best C using built-in LassoCV: 1.000000\n",
            "Best score using built-in LassoCV: 0.777344\n",
            "Logistic Regression picked 8 variables and eliminated the other 0 variables\n"
          ]
        },
        {
          "output_type": "stream",
          "name": "stderr",
          "text": [
            "/usr/local/lib/python3.8/dist-packages/sklearn/linear_model/_logistic.py:814: ConvergenceWarning: lbfgs failed to converge (status=1):\n",
            "STOP: TOTAL NO. of ITERATIONS REACHED LIMIT.\n",
            "\n",
            "Increase the number of iterations (max_iter) or scale the data as shown in:\n",
            "    https://scikit-learn.org/stable/modules/preprocessing.html\n",
            "Please also refer to the documentation for alternative solver options:\n",
            "    https://scikit-learn.org/stable/modules/linear_model.html#logistic-regression\n",
            "  n_iter_i = _check_optimize_result(\n"
          ]
        },
        {
          "output_type": "execute_result",
          "data": {
            "text/plain": [
              "Text(0.5, 1.0, 'Feature importance using Lasso Model')"
            ]
          },
          "metadata": {},
          "execution_count": 27
        },
        {
          "output_type": "display_data",
          "data": {
            "text/plain": [
              "<Figure size 576x720 with 1 Axes>"
            ],
            "image/png": "[encoded data removed]"
          },
          "metadata": {
            "needs_background": "light"
          }
        }
      ],
      "source": [
        "from sklearn.linear_model import LogisticRegression\n",
        " \n",
        "clf = LogisticRegression()\n",
        "clf.fit(X_train, y_train)\n",
        "print(\"Best C using built-in LassoCV: %f\" % clf.C)\n",
        "print(\"Best score using built-in LassoCV: %f\" %clf.score(X,y))\n",
        " \n",
        "coef = pd.Series(clf.coef_[0], index = data.columns[0:8])\n",
        " \n",
        "print(\"Logistic Regression picked \" + str(sum(coef != 0)) + \" variables and eliminated the other \" +  str(sum(coef == 0)) + \" variables\")\n",
        " \n",
        "imp_coef = coef.sort_values()\n",
        "import matplotlib\n",
        "matplotlib.rcParams['figure.figsize'] = (8.0, 10.0)\n",
        "imp_coef.plot(kind = \"barh\")\n",
        "plt.title(\"Feature importance using Lasso Model\")\n"
      ]
    },
    {
      "cell_type": "markdown",
      "metadata": {
        "id": "EMSQp97agRrG"
      },
      "source": [
        "#Summary#\n",
        "  Congratulations on completing this introduction to feature selection and feature engineering. This is just one (small) part of machine learning. \n",
        "  We also have only done a starting step for traditional machine learning. The new rage is 'Deep Learning'. There is not space to go into this here, but in most deep learning applications, there is no explicit feature selection--the computer learns which features are important. But feature engineering is still needed, and in some cases, feature selection will improve performance. \n",
        "  If you are interested in trying your hand at deep learning, and applying it to medical imaging, I have written a series of articles, known as 'Magicians Corner' in the Radiology: AI journal. Much like this notebook, all articles have an accompanying colab notebook so readers can actually run the code and experiement with it. Here is links to the  articles ( https://pubs.rsna.org/page/ai/magicians_corner ), which contain the links to the notebooks.\n"
      ]
    }
  ],
  "metadata": {
    "colab": {
      "name": "FeatureSelection.ipynb",
      "provenance": [],
      "include_colab_link": true
    },
    "kernelspec": {
      "display_name": "Python 3",
      "language": "python",
      "name": "python3"
    },
    "language_info": {
      "name": "python",
      "version": "3.9.10 | packaged by conda-forge | (main, Feb  1 2022, 21:27:43) \n[Clang 11.1.0 ]"
    },
    "vscode": {
      "interpreter": {
        "hash": "87be1874565868f243fc8343e26fde25251ac16e545aa1d945dc72cd48506e5c"
      }
    }
  },
  "nbformat": 4,
  "nbformat_minor": 0
}